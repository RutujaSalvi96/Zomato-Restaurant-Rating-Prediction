{
 "cells": [
  {
   "cell_type": "markdown",
   "metadata": {},
   "source": [
    "# Zomato Restaurant Ratings Predection"
   ]
  },
  {
   "cell_type": "markdown",
   "metadata": {},
   "source": [
    "### Problem Description"
   ]
  },
  {
   "cell_type": "markdown",
   "metadata": {},
   "source": [
    "The dataset also contains reviews for each of the restaurant which will help in finding overall rating for the place. So we will try to predict rating for particular restaurant.\n",
    "We need to predict rating based on different parameters like Average_cost for two people, Online Order available, foods,menu list, most liked dishes etc features."
   ]
  },
  {
   "cell_type": "markdown",
   "metadata": {},
   "source": [
    "##### Data"
   ]
  },
  {
   "cell_type": "markdown",
   "metadata": {},
   "source": [
    "https://www.kaggle.com/himanshupoddar/zomato-bangalore-restaurants"
   ]
  },
  {
   "cell_type": "markdown",
   "metadata": {},
   "source": [
    "###### Importing necessary libraries"
   ]
  },
  {
   "cell_type": "code",
   "execution_count": 1,
   "metadata": {},
   "outputs": [],
   "source": [
    "import pandas as pd\n",
    "import numpy as np\n",
    "import matplotlib.pyplot as plt\n",
    "import seaborn as sns\n",
    "from sklearn.preprocessing import LabelEncoder\n",
    "from sklearn.impute import KNNImputer\n",
    "from sklearn.preprocessing import StandardScaler\n",
    "from sklearn.model_selection import train_test_split \n",
    "from sklearn.linear_model import LinearRegression\n",
    "from sklearn.model_selection import KFold\n",
    "from sklearn.model_selection import cross_val_score\n",
    "from sklearn.tree import DecisionTreeRegressor\n",
    "from sklearn.model_selection import GridSearchCV\n",
    "from sklearn.model_selection import RandomizedSearchCV\n",
    "from sklearn.ensemble import RandomForestRegressor\n",
    "from xgboost import XGBRegressor\n",
    "%matplotlib inline\n",
    "import warnings\n",
    "warnings.filterwarnings('ignore')"
   ]
  },
  {
   "cell_type": "markdown",
   "metadata": {},
   "source": [
    "##### Understanding the data"
   ]
  },
  {
   "cell_type": "code",
   "execution_count": 2,
   "metadata": {},
   "outputs": [],
   "source": [
    "#copying data in csv file to dataframe\n",
    "data =  pd.read_csv(r\"C:\\Users\\Rutuja Sanjay Salvi\\Desktop\\project\\Zomata restaurant rating analysis\\data sets\\zomato.csv\")"
   ]
  },
  {
   "cell_type": "code",
   "execution_count": 3,
   "metadata": {},
   "outputs": [
    {
     "data": {
      "text/html": [
       "<div>\n",
       "<style scoped>\n",
       "    .dataframe tbody tr th:only-of-type {\n",
       "        vertical-align: middle;\n",
       "    }\n",
       "\n",
       "    .dataframe tbody tr th {\n",
       "        vertical-align: top;\n",
       "    }\n",
       "\n",
       "    .dataframe thead th {\n",
       "        text-align: right;\n",
       "    }\n",
       "</style>\n",
       "<table border=\"1\" class=\"dataframe\">\n",
       "  <thead>\n",
       "    <tr style=\"text-align: right;\">\n",
       "      <th></th>\n",
       "      <th>url</th>\n",
       "      <th>address</th>\n",
       "      <th>name</th>\n",
       "      <th>online_order</th>\n",
       "      <th>book_table</th>\n",
       "      <th>rate</th>\n",
       "      <th>votes</th>\n",
       "      <th>phone</th>\n",
       "      <th>location</th>\n",
       "      <th>rest_type</th>\n",
       "      <th>dish_liked</th>\n",
       "      <th>cuisines</th>\n",
       "      <th>approx_cost(for two people)</th>\n",
       "      <th>reviews_list</th>\n",
       "      <th>menu_item</th>\n",
       "      <th>listed_in(type)</th>\n",
       "      <th>listed_in(city)</th>\n",
       "    </tr>\n",
       "  </thead>\n",
       "  <tbody>\n",
       "    <tr>\n",
       "      <td>0</td>\n",
       "      <td>https://www.zomato.com/bangalore/jalsa-banasha...</td>\n",
       "      <td>942, 21st Main Road, 2nd Stage, Banashankari, ...</td>\n",
       "      <td>Jalsa</td>\n",
       "      <td>Yes</td>\n",
       "      <td>Yes</td>\n",
       "      <td>4.1/5</td>\n",
       "      <td>775</td>\n",
       "      <td>080 42297555\\r\\n+91 9743772233</td>\n",
       "      <td>Banashankari</td>\n",
       "      <td>Casual Dining</td>\n",
       "      <td>Pasta, Lunch Buffet, Masala Papad, Paneer Laja...</td>\n",
       "      <td>North Indian, Mughlai, Chinese</td>\n",
       "      <td>800</td>\n",
       "      <td>[('Rated 4.0', 'RATED\\n  A beautiful place to ...</td>\n",
       "      <td>[]</td>\n",
       "      <td>Buffet</td>\n",
       "      <td>Banashankari</td>\n",
       "    </tr>\n",
       "    <tr>\n",
       "      <td>1</td>\n",
       "      <td>https://www.zomato.com/bangalore/spice-elephan...</td>\n",
       "      <td>2nd Floor, 80 Feet Road, Near Big Bazaar, 6th ...</td>\n",
       "      <td>Spice Elephant</td>\n",
       "      <td>Yes</td>\n",
       "      <td>No</td>\n",
       "      <td>4.1/5</td>\n",
       "      <td>787</td>\n",
       "      <td>080 41714161</td>\n",
       "      <td>Banashankari</td>\n",
       "      <td>Casual Dining</td>\n",
       "      <td>Momos, Lunch Buffet, Chocolate Nirvana, Thai G...</td>\n",
       "      <td>Chinese, North Indian, Thai</td>\n",
       "      <td>800</td>\n",
       "      <td>[('Rated 4.0', 'RATED\\n  Had been here for din...</td>\n",
       "      <td>[]</td>\n",
       "      <td>Buffet</td>\n",
       "      <td>Banashankari</td>\n",
       "    </tr>\n",
       "    <tr>\n",
       "      <td>2</td>\n",
       "      <td>https://www.zomato.com/SanchurroBangalore?cont...</td>\n",
       "      <td>1112, Next to KIMS Medical College, 17th Cross...</td>\n",
       "      <td>San Churro Cafe</td>\n",
       "      <td>Yes</td>\n",
       "      <td>No</td>\n",
       "      <td>3.8/5</td>\n",
       "      <td>918</td>\n",
       "      <td>+91 9663487993</td>\n",
       "      <td>Banashankari</td>\n",
       "      <td>Cafe, Casual Dining</td>\n",
       "      <td>Churros, Cannelloni, Minestrone Soup, Hot Choc...</td>\n",
       "      <td>Cafe, Mexican, Italian</td>\n",
       "      <td>800</td>\n",
       "      <td>[('Rated 3.0', \"RATED\\n  Ambience is not that ...</td>\n",
       "      <td>[]</td>\n",
       "      <td>Buffet</td>\n",
       "      <td>Banashankari</td>\n",
       "    </tr>\n",
       "    <tr>\n",
       "      <td>3</td>\n",
       "      <td>https://www.zomato.com/bangalore/addhuri-udupi...</td>\n",
       "      <td>1st Floor, Annakuteera, 3rd Stage, Banashankar...</td>\n",
       "      <td>Addhuri Udupi Bhojana</td>\n",
       "      <td>No</td>\n",
       "      <td>No</td>\n",
       "      <td>3.7/5</td>\n",
       "      <td>88</td>\n",
       "      <td>+91 9620009302</td>\n",
       "      <td>Banashankari</td>\n",
       "      <td>Quick Bites</td>\n",
       "      <td>Masala Dosa</td>\n",
       "      <td>South Indian, North Indian</td>\n",
       "      <td>300</td>\n",
       "      <td>[('Rated 4.0', \"RATED\\n  Great food and proper...</td>\n",
       "      <td>[]</td>\n",
       "      <td>Buffet</td>\n",
       "      <td>Banashankari</td>\n",
       "    </tr>\n",
       "    <tr>\n",
       "      <td>4</td>\n",
       "      <td>https://www.zomato.com/bangalore/grand-village...</td>\n",
       "      <td>10, 3rd Floor, Lakshmi Associates, Gandhi Baza...</td>\n",
       "      <td>Grand Village</td>\n",
       "      <td>No</td>\n",
       "      <td>No</td>\n",
       "      <td>3.8/5</td>\n",
       "      <td>166</td>\n",
       "      <td>+91 8026612447\\r\\n+91 9901210005</td>\n",
       "      <td>Basavanagudi</td>\n",
       "      <td>Casual Dining</td>\n",
       "      <td>Panipuri, Gol Gappe</td>\n",
       "      <td>North Indian, Rajasthani</td>\n",
       "      <td>600</td>\n",
       "      <td>[('Rated 4.0', 'RATED\\n  Very good restaurant ...</td>\n",
       "      <td>[]</td>\n",
       "      <td>Buffet</td>\n",
       "      <td>Banashankari</td>\n",
       "    </tr>\n",
       "  </tbody>\n",
       "</table>\n",
       "</div>"
      ],
      "text/plain": [
       "                                                 url  \\\n",
       "0  https://www.zomato.com/bangalore/jalsa-banasha...   \n",
       "1  https://www.zomato.com/bangalore/spice-elephan...   \n",
       "2  https://www.zomato.com/SanchurroBangalore?cont...   \n",
       "3  https://www.zomato.com/bangalore/addhuri-udupi...   \n",
       "4  https://www.zomato.com/bangalore/grand-village...   \n",
       "\n",
       "                                             address                   name  \\\n",
       "0  942, 21st Main Road, 2nd Stage, Banashankari, ...                  Jalsa   \n",
       "1  2nd Floor, 80 Feet Road, Near Big Bazaar, 6th ...         Spice Elephant   \n",
       "2  1112, Next to KIMS Medical College, 17th Cross...        San Churro Cafe   \n",
       "3  1st Floor, Annakuteera, 3rd Stage, Banashankar...  Addhuri Udupi Bhojana   \n",
       "4  10, 3rd Floor, Lakshmi Associates, Gandhi Baza...          Grand Village   \n",
       "\n",
       "  online_order book_table   rate  votes                             phone  \\\n",
       "0          Yes        Yes  4.1/5    775    080 42297555\\r\\n+91 9743772233   \n",
       "1          Yes         No  4.1/5    787                      080 41714161   \n",
       "2          Yes         No  3.8/5    918                    +91 9663487993   \n",
       "3           No         No  3.7/5     88                    +91 9620009302   \n",
       "4           No         No  3.8/5    166  +91 8026612447\\r\\n+91 9901210005   \n",
       "\n",
       "       location            rest_type  \\\n",
       "0  Banashankari        Casual Dining   \n",
       "1  Banashankari        Casual Dining   \n",
       "2  Banashankari  Cafe, Casual Dining   \n",
       "3  Banashankari          Quick Bites   \n",
       "4  Basavanagudi        Casual Dining   \n",
       "\n",
       "                                          dish_liked  \\\n",
       "0  Pasta, Lunch Buffet, Masala Papad, Paneer Laja...   \n",
       "1  Momos, Lunch Buffet, Chocolate Nirvana, Thai G...   \n",
       "2  Churros, Cannelloni, Minestrone Soup, Hot Choc...   \n",
       "3                                        Masala Dosa   \n",
       "4                                Panipuri, Gol Gappe   \n",
       "\n",
       "                         cuisines approx_cost(for two people)  \\\n",
       "0  North Indian, Mughlai, Chinese                         800   \n",
       "1     Chinese, North Indian, Thai                         800   \n",
       "2          Cafe, Mexican, Italian                         800   \n",
       "3      South Indian, North Indian                         300   \n",
       "4        North Indian, Rajasthani                         600   \n",
       "\n",
       "                                        reviews_list menu_item  \\\n",
       "0  [('Rated 4.0', 'RATED\\n  A beautiful place to ...        []   \n",
       "1  [('Rated 4.0', 'RATED\\n  Had been here for din...        []   \n",
       "2  [('Rated 3.0', \"RATED\\n  Ambience is not that ...        []   \n",
       "3  [('Rated 4.0', \"RATED\\n  Great food and proper...        []   \n",
       "4  [('Rated 4.0', 'RATED\\n  Very good restaurant ...        []   \n",
       "\n",
       "  listed_in(type) listed_in(city)  \n",
       "0          Buffet    Banashankari  \n",
       "1          Buffet    Banashankari  \n",
       "2          Buffet    Banashankari  \n",
       "3          Buffet    Banashankari  \n",
       "4          Buffet    Banashankari  "
      ]
     },
     "execution_count": 3,
     "metadata": {},
     "output_type": "execute_result"
    }
   ],
   "source": [
    "#displaying 1st 5 rows\n",
    "data.head(5)"
   ]
  },
  {
   "cell_type": "markdown",
   "metadata": {},
   "source": [
    "**Columns details**\n",
    "1.\t**url(object)** – This is simply a string with tells the URL which is almost common for all as it is starting with Zomato.com/xyz/abc.\n",
    "2.\t**Address(object)** – Complete address of the restaurant. Contains the full address which is not required for the analysis, can be deleted.\n",
    "3.\t**Name(object)** – Name of the restaurant, The name is unique and is different languages such as Gabar(Hindi Word), Asha(Hindi word), Twist (Englih) – it will be difficult to categories 51,717 values in the ANme column. For these reasons the column can be dropped.\n",
    "4.\t**Online order(Object)** – Yes or No, useful for predicting by converting it to binary.\n",
    "5.\t**Book Table(Object)** – Restaurant provides online table booking service (yes or no), useful for predicting by converting it to binary.\n",
    "6.\t**Rate (Target)**– Overall rating of the restaurant between” 1 – 5” upto one decimal point example 4.2. “New” for new restaurants. \n",
    "7.\t**Votes(int)** – Total number of reviews/votes, not useful for predicting the target variable, needs to be dropped.\n",
    "8.\t**Phone(object)** – Phone number of the restaurant. The counts of phone numbers provided could help in predicting target.\n",
    "9.\t**Location(object)** – Neighborhood of the Restaurant in Bengaluru, important for predicting rating. One- hot encode to change it to dummies.\n",
    "10.\t**Rest_type(object)** – Type of the restaurant, important for predicting rating. One- hot encode to change it to dummies.\n",
    "11.\t**Dish_liked(object)** – Dish liked by people in the restaurant,\n",
    "12.\t**Cuisines(object)** – Cuisines types in the re restaurants. Types are comma separated\n",
    "13.\t**Approx_cost(object)** – expected cost for meal of two in Rupees, important for prediction\n",
    "14.\t **Reviews_list(object)** - list of tuples containing reviews for the restaurant, each tuple consists of two values, rating and review by the customer. Needs to be dropped for the prediction for new restaurant.\n",
    "15.\t**Menu_item(Object)** – List of menus available in restaurants. Contains more than 54% missing values, needs to be dropped. \n",
    "16.\t**Listed_in(type)** -  type of meal\n",
    "17.\t**Listed_in(city)** - contains the neighborhood in which the restaurant is listed - duplicate column can be dropped\n"
   ]
  },
  {
   "cell_type": "code",
   "execution_count": 4,
   "metadata": {},
   "outputs": [
    {
     "data": {
      "text/plain": [
       "(51717, 17)"
      ]
     },
     "execution_count": 4,
     "metadata": {},
     "output_type": "execute_result"
    }
   ],
   "source": [
    "data.shape"
   ]
  },
  {
   "cell_type": "code",
   "execution_count": 5,
   "metadata": {},
   "outputs": [
    {
     "name": "stdout",
     "output_type": "stream",
     "text": [
      "<class 'pandas.core.frame.DataFrame'>\n",
      "RangeIndex: 51717 entries, 0 to 51716\n",
      "Data columns (total 17 columns):\n",
      "url                            51717 non-null object\n",
      "address                        51717 non-null object\n",
      "name                           51717 non-null object\n",
      "online_order                   51717 non-null object\n",
      "book_table                     51717 non-null object\n",
      "rate                           43942 non-null object\n",
      "votes                          51717 non-null int64\n",
      "phone                          50509 non-null object\n",
      "location                       51696 non-null object\n",
      "rest_type                      51490 non-null object\n",
      "dish_liked                     23639 non-null object\n",
      "cuisines                       51672 non-null object\n",
      "approx_cost(for two people)    51371 non-null object\n",
      "reviews_list                   51717 non-null object\n",
      "menu_item                      51717 non-null object\n",
      "listed_in(type)                51717 non-null object\n",
      "listed_in(city)                51717 non-null object\n",
      "dtypes: int64(1), object(16)\n",
      "memory usage: 6.7+ MB\n"
     ]
    }
   ],
   "source": [
    "data.info()"
   ]
  },
  {
   "cell_type": "markdown",
   "metadata": {},
   "source": [
    "**About Data set**\n",
    "- Dataset size: 51,717 rows x 17 columns\n",
    "- All columns are of type \"object\" except for votes\n",
    "- 7775 ratings are missin in the rating column\n",
    "- 1208 phone numbers are missing in the phone column\n",
    "- 21 are mising location\n",
    "- 28,078 dished liked are missing\n",
    "- 45 cuisines are missing\n",
    "- 346 approx cost for two persons is missing\n",
    "\n"
   ]
  },
  {
   "cell_type": "code",
   "execution_count": 6,
   "metadata": {},
   "outputs": [
    {
     "data": {
      "text/html": [
       "<div>\n",
       "<style scoped>\n",
       "    .dataframe tbody tr th:only-of-type {\n",
       "        vertical-align: middle;\n",
       "    }\n",
       "\n",
       "    .dataframe tbody tr th {\n",
       "        vertical-align: top;\n",
       "    }\n",
       "\n",
       "    .dataframe thead th {\n",
       "        text-align: right;\n",
       "    }\n",
       "</style>\n",
       "<table border=\"1\" class=\"dataframe\">\n",
       "  <thead>\n",
       "    <tr style=\"text-align: right;\">\n",
       "      <th></th>\n",
       "      <th>votes</th>\n",
       "    </tr>\n",
       "  </thead>\n",
       "  <tbody>\n",
       "    <tr>\n",
       "      <td>count</td>\n",
       "      <td>51717.000000</td>\n",
       "    </tr>\n",
       "    <tr>\n",
       "      <td>mean</td>\n",
       "      <td>283.697527</td>\n",
       "    </tr>\n",
       "    <tr>\n",
       "      <td>std</td>\n",
       "      <td>803.838853</td>\n",
       "    </tr>\n",
       "    <tr>\n",
       "      <td>min</td>\n",
       "      <td>0.000000</td>\n",
       "    </tr>\n",
       "    <tr>\n",
       "      <td>25%</td>\n",
       "      <td>7.000000</td>\n",
       "    </tr>\n",
       "    <tr>\n",
       "      <td>50%</td>\n",
       "      <td>41.000000</td>\n",
       "    </tr>\n",
       "    <tr>\n",
       "      <td>75%</td>\n",
       "      <td>198.000000</td>\n",
       "    </tr>\n",
       "    <tr>\n",
       "      <td>max</td>\n",
       "      <td>16832.000000</td>\n",
       "    </tr>\n",
       "  </tbody>\n",
       "</table>\n",
       "</div>"
      ],
      "text/plain": [
       "              votes\n",
       "count  51717.000000\n",
       "mean     283.697527\n",
       "std      803.838853\n",
       "min        0.000000\n",
       "25%        7.000000\n",
       "50%       41.000000\n",
       "75%      198.000000\n",
       "max    16832.000000"
      ]
     },
     "execution_count": 6,
     "metadata": {},
     "output_type": "execute_result"
    }
   ],
   "source": [
    "data.describe()"
   ]
  },
  {
   "cell_type": "markdown",
   "metadata": {},
   "source": [
    "Observation:\n",
    " \n",
    " only votes column is of int type all other columns are of obj type\n",
    "- Minimum vote's value is 0, can be interpret as there are some restaurants who have 0 vote\n",
    "- Maximum vote's value is 16832, there is a restaurant who has 16832.\n",
    "- Average vote's values is 284, so average 284 votes for restaurant\n"
   ]
  },
  {
   "cell_type": "markdown",
   "metadata": {},
   "source": [
    "### Missing values"
   ]
  },
  {
   "cell_type": "code",
   "execution_count": 7,
   "metadata": {},
   "outputs": [
    {
     "data": {
      "text/plain": [
       "url                                0\n",
       "address                            0\n",
       "name                               0\n",
       "online_order                       0\n",
       "book_table                         0\n",
       "rate                            7775\n",
       "votes                              0\n",
       "phone                           1208\n",
       "location                          21\n",
       "rest_type                        227\n",
       "dish_liked                     28078\n",
       "cuisines                          45\n",
       "approx_cost(for two people)      346\n",
       "reviews_list                       0\n",
       "menu_item                          0\n",
       "listed_in(type)                    0\n",
       "listed_in(city)                    0\n",
       "dtype: int64"
      ]
     },
     "execution_count": 7,
     "metadata": {},
     "output_type": "execute_result"
    }
   ],
   "source": [
    "data.isna().sum()"
   ]
  },
  {
   "cell_type": "markdown",
   "metadata": {},
   "source": [
    "Note:-\n",
    "This says we have missing values in rate,phone,location,rest_type,dish_liked,cuisines,approx_cost\n",
    "The Column that has the most number of missing values is the Dish Liked column"
   ]
  },
  {
   "cell_type": "code",
   "execution_count": 8,
   "metadata": {},
   "outputs": [],
   "source": [
    "#removing rows which has nulls in cuisines\n",
    "data=data[data.cuisines.isna()==False]"
   ]
  },
  {
   "cell_type": "code",
   "execution_count": 9,
   "metadata": {},
   "outputs": [
    {
     "data": {
      "text/plain": [
       "url                                0\n",
       "address                            0\n",
       "name                               0\n",
       "online_order                       0\n",
       "book_table                         0\n",
       "rate                            7741\n",
       "votes                              0\n",
       "phone                           1179\n",
       "location                           0\n",
       "rest_type                        206\n",
       "dish_liked                     28033\n",
       "cuisines                           0\n",
       "approx_cost(for two people)      320\n",
       "reviews_list                       0\n",
       "menu_item                          0\n",
       "listed_in(type)                    0\n",
       "listed_in(city)                    0\n",
       "dtype: int64"
      ]
     },
     "execution_count": 9,
     "metadata": {},
     "output_type": "execute_result"
    }
   ],
   "source": [
    "data.isna().sum()"
   ]
  },
  {
   "cell_type": "markdown",
   "metadata": {},
   "source": [
    "After Studying the data we can clearly delete the following columns as the make are not useful for our analysis \"url\", 'address','listed_in(type)','menu_item','reviews_list'"
   ]
  },
  {
   "cell_type": "code",
   "execution_count": 10,
   "metadata": {},
   "outputs": [],
   "source": [
    "data.drop(columns=['url','address','menu_item','reviews_list','listed_in(type)'], inplace  =True)\n"
   ]
  },
  {
   "cell_type": "code",
   "execution_count": 11,
   "metadata": {},
   "outputs": [],
   "source": [
    "# as new restaurants won't have any votes we will drop votes\n",
    "data.drop(columns=['votes'], inplace  =True)"
   ]
  },
  {
   "cell_type": "code",
   "execution_count": 12,
   "metadata": {},
   "outputs": [
    {
     "name": "stdout",
     "output_type": "stream",
     "text": [
      "No of Duplicates in dataset:   15055\n"
     ]
    }
   ],
   "source": [
    "# check for duplicate values\n",
    "print(\"No of Duplicates in dataset:  \",data.duplicated().sum())"
   ]
  },
  {
   "cell_type": "code",
   "execution_count": 13,
   "metadata": {},
   "outputs": [
    {
     "name": "stdout",
     "output_type": "stream",
     "text": [
      "No of Duplicates in dataset:   0\n"
     ]
    }
   ],
   "source": [
    "# drop the duplicates\n",
    "data.drop_duplicates(inplace=True)\n",
    "\n",
    "print(\"No of Duplicates in dataset:  \",data.duplicated().sum())"
   ]
  },
  {
   "cell_type": "code",
   "execution_count": 14,
   "metadata": {},
   "outputs": [],
   "source": [
    "#Renaming the Approximate cost for two column for easier access\n",
    "data.rename(columns={'approx_cost(for two people)': 'average_cost'}, inplace=True)\n",
    "data.rename(columns={'rate': 'rating'}, inplace=True)\n",
    "data.rename(columns={'listed_in(city)': 'city'}, inplace=True)\n"
   ]
  },
  {
   "cell_type": "code",
   "execution_count": 15,
   "metadata": {},
   "outputs": [
    {
     "data": {
      "text/html": [
       "<div>\n",
       "<style scoped>\n",
       "    .dataframe tbody tr th:only-of-type {\n",
       "        vertical-align: middle;\n",
       "    }\n",
       "\n",
       "    .dataframe tbody tr th {\n",
       "        vertical-align: top;\n",
       "    }\n",
       "\n",
       "    .dataframe thead th {\n",
       "        text-align: right;\n",
       "    }\n",
       "</style>\n",
       "<table border=\"1\" class=\"dataframe\">\n",
       "  <thead>\n",
       "    <tr style=\"text-align: right;\">\n",
       "      <th></th>\n",
       "      <th>name</th>\n",
       "      <th>online_order</th>\n",
       "      <th>book_table</th>\n",
       "      <th>rating</th>\n",
       "      <th>phone</th>\n",
       "      <th>location</th>\n",
       "      <th>rest_type</th>\n",
       "      <th>dish_liked</th>\n",
       "      <th>cuisines</th>\n",
       "      <th>average_cost</th>\n",
       "      <th>city</th>\n",
       "    </tr>\n",
       "  </thead>\n",
       "  <tbody>\n",
       "    <tr>\n",
       "      <td>0</td>\n",
       "      <td>Jalsa</td>\n",
       "      <td>Yes</td>\n",
       "      <td>Yes</td>\n",
       "      <td>4.1/5</td>\n",
       "      <td>080 42297555\\r\\n+91 9743772233</td>\n",
       "      <td>Banashankari</td>\n",
       "      <td>Casual Dining</td>\n",
       "      <td>Pasta, Lunch Buffet, Masala Papad, Paneer Laja...</td>\n",
       "      <td>North Indian, Mughlai, Chinese</td>\n",
       "      <td>800</td>\n",
       "      <td>Banashankari</td>\n",
       "    </tr>\n",
       "    <tr>\n",
       "      <td>1</td>\n",
       "      <td>Spice Elephant</td>\n",
       "      <td>Yes</td>\n",
       "      <td>No</td>\n",
       "      <td>4.1/5</td>\n",
       "      <td>080 41714161</td>\n",
       "      <td>Banashankari</td>\n",
       "      <td>Casual Dining</td>\n",
       "      <td>Momos, Lunch Buffet, Chocolate Nirvana, Thai G...</td>\n",
       "      <td>Chinese, North Indian, Thai</td>\n",
       "      <td>800</td>\n",
       "      <td>Banashankari</td>\n",
       "    </tr>\n",
       "  </tbody>\n",
       "</table>\n",
       "</div>"
      ],
      "text/plain": [
       "             name online_order book_table rating  \\\n",
       "0           Jalsa          Yes        Yes  4.1/5   \n",
       "1  Spice Elephant          Yes         No  4.1/5   \n",
       "\n",
       "                            phone      location      rest_type  \\\n",
       "0  080 42297555\\r\\n+91 9743772233  Banashankari  Casual Dining   \n",
       "1                    080 41714161  Banashankari  Casual Dining   \n",
       "\n",
       "                                          dish_liked  \\\n",
       "0  Pasta, Lunch Buffet, Masala Papad, Paneer Laja...   \n",
       "1  Momos, Lunch Buffet, Chocolate Nirvana, Thai G...   \n",
       "\n",
       "                         cuisines average_cost          city  \n",
       "0  North Indian, Mughlai, Chinese          800  Banashankari  \n",
       "1     Chinese, North Indian, Thai          800  Banashankari  "
      ]
     },
     "execution_count": 15,
     "metadata": {},
     "output_type": "execute_result"
    }
   ],
   "source": [
    "data.head(2)"
   ]
  },
  {
   "cell_type": "code",
   "execution_count": 16,
   "metadata": {},
   "outputs": [
    {
     "data": {
      "text/html": [
       "<div>\n",
       "<style scoped>\n",
       "    .dataframe tbody tr th:only-of-type {\n",
       "        vertical-align: middle;\n",
       "    }\n",
       "\n",
       "    .dataframe tbody tr th {\n",
       "        vertical-align: top;\n",
       "    }\n",
       "\n",
       "    .dataframe thead th {\n",
       "        text-align: right;\n",
       "    }\n",
       "</style>\n",
       "<table border=\"1\" class=\"dataframe\">\n",
       "  <thead>\n",
       "    <tr style=\"text-align: right;\">\n",
       "      <th></th>\n",
       "      <th>name</th>\n",
       "      <th>online_order</th>\n",
       "      <th>book_table</th>\n",
       "      <th>rating</th>\n",
       "      <th>phone</th>\n",
       "      <th>location</th>\n",
       "      <th>rest_type</th>\n",
       "      <th>dish_liked</th>\n",
       "      <th>cuisines</th>\n",
       "      <th>average_cost</th>\n",
       "      <th>city</th>\n",
       "    </tr>\n",
       "  </thead>\n",
       "  <tbody>\n",
       "    <tr>\n",
       "      <td>72</td>\n",
       "      <td>Spicy Tandoor</td>\n",
       "      <td>No</td>\n",
       "      <td>No</td>\n",
       "      <td>NEW</td>\n",
       "      <td>+91 8050884222</td>\n",
       "      <td>Banashankari</td>\n",
       "      <td>Quick Bites</td>\n",
       "      <td>NaN</td>\n",
       "      <td>North Indian</td>\n",
       "      <td>150</td>\n",
       "      <td>Banashankari</td>\n",
       "    </tr>\n",
       "    <tr>\n",
       "      <td>75</td>\n",
       "      <td>Om Sri Vinayaka Chats</td>\n",
       "      <td>No</td>\n",
       "      <td>No</td>\n",
       "      <td>NEW</td>\n",
       "      <td>+91 8553206035</td>\n",
       "      <td>Banashankari</td>\n",
       "      <td>Takeaway, Delivery</td>\n",
       "      <td>NaN</td>\n",
       "      <td>Street Food, Fast Food</td>\n",
       "      <td>500</td>\n",
       "      <td>Banashankari</td>\n",
       "    </tr>\n",
       "    <tr>\n",
       "      <td>110</td>\n",
       "      <td>Hari Super Sandwich</td>\n",
       "      <td>No</td>\n",
       "      <td>No</td>\n",
       "      <td>NEW</td>\n",
       "      <td>+91 9886722163</td>\n",
       "      <td>Banashankari</td>\n",
       "      <td>Takeaway, Delivery</td>\n",
       "      <td>NaN</td>\n",
       "      <td>Sandwich, Pizza, Beverages</td>\n",
       "      <td>200</td>\n",
       "      <td>Banashankari</td>\n",
       "    </tr>\n",
       "    <tr>\n",
       "      <td>130</td>\n",
       "      <td>Roll Magic Fast Food</td>\n",
       "      <td>No</td>\n",
       "      <td>No</td>\n",
       "      <td>NEW</td>\n",
       "      <td>+91 9731409204</td>\n",
       "      <td>Banashankari</td>\n",
       "      <td>Takeaway, Delivery</td>\n",
       "      <td>NaN</td>\n",
       "      <td>Biryani, Rolls, Chinese</td>\n",
       "      <td>200</td>\n",
       "      <td>Banashankari</td>\n",
       "    </tr>\n",
       "    <tr>\n",
       "      <td>131</td>\n",
       "      <td>Foodlieious Multi Cuisine</td>\n",
       "      <td>No</td>\n",
       "      <td>No</td>\n",
       "      <td>NEW</td>\n",
       "      <td>+91 9168753522\\r\\n+91 8217877100</td>\n",
       "      <td>Banashankari</td>\n",
       "      <td>Quick Bites</td>\n",
       "      <td>NaN</td>\n",
       "      <td>North Indian</td>\n",
       "      <td>100</td>\n",
       "      <td>Banashankari</td>\n",
       "    </tr>\n",
       "    <tr>\n",
       "      <td>...</td>\n",
       "      <td>...</td>\n",
       "      <td>...</td>\n",
       "      <td>...</td>\n",
       "      <td>...</td>\n",
       "      <td>...</td>\n",
       "      <td>...</td>\n",
       "      <td>...</td>\n",
       "      <td>...</td>\n",
       "      <td>...</td>\n",
       "      <td>...</td>\n",
       "      <td>...</td>\n",
       "    </tr>\n",
       "    <tr>\n",
       "      <td>51146</td>\n",
       "      <td>Punjab Beat</td>\n",
       "      <td>Yes</td>\n",
       "      <td>Yes</td>\n",
       "      <td>NEW</td>\n",
       "      <td>080 71967671</td>\n",
       "      <td>Whitefield</td>\n",
       "      <td>Casual Dining</td>\n",
       "      <td>NaN</td>\n",
       "      <td>North Indian</td>\n",
       "      <td>700</td>\n",
       "      <td>Whitefield</td>\n",
       "    </tr>\n",
       "    <tr>\n",
       "      <td>51500</td>\n",
       "      <td>On The Go</td>\n",
       "      <td>No</td>\n",
       "      <td>No</td>\n",
       "      <td>NEW</td>\n",
       "      <td>+91 9972545294</td>\n",
       "      <td>Whitefield</td>\n",
       "      <td>Quick Bites</td>\n",
       "      <td>NaN</td>\n",
       "      <td>North Indian, Mughlai, Chinese</td>\n",
       "      <td>400</td>\n",
       "      <td>Whitefield</td>\n",
       "    </tr>\n",
       "    <tr>\n",
       "      <td>51586</td>\n",
       "      <td>Quick Bites</td>\n",
       "      <td>Yes</td>\n",
       "      <td>No</td>\n",
       "      <td>NEW</td>\n",
       "      <td>+91 9742377087\\n+91 7899303299</td>\n",
       "      <td>Whitefield</td>\n",
       "      <td>Quick Bites</td>\n",
       "      <td>NaN</td>\n",
       "      <td>Chinese</td>\n",
       "      <td>200</td>\n",
       "      <td>Whitefield</td>\n",
       "    </tr>\n",
       "    <tr>\n",
       "      <td>51604</td>\n",
       "      <td>Nawab Di Biryani</td>\n",
       "      <td>No</td>\n",
       "      <td>No</td>\n",
       "      <td>NEW</td>\n",
       "      <td>+91 7899298400\\n+91 9818654628</td>\n",
       "      <td>Whitefield</td>\n",
       "      <td>Takeaway, Delivery</td>\n",
       "      <td>NaN</td>\n",
       "      <td>Biryani, Mughlai</td>\n",
       "      <td>400</td>\n",
       "      <td>Whitefield</td>\n",
       "    </tr>\n",
       "    <tr>\n",
       "      <td>51605</td>\n",
       "      <td>Bong Connections</td>\n",
       "      <td>No</td>\n",
       "      <td>No</td>\n",
       "      <td>NEW</td>\n",
       "      <td>+91 7209035062</td>\n",
       "      <td>Whitefield</td>\n",
       "      <td>Quick Bites</td>\n",
       "      <td>NaN</td>\n",
       "      <td>Chinese, North Indian</td>\n",
       "      <td>300</td>\n",
       "      <td>Whitefield</td>\n",
       "    </tr>\n",
       "  </tbody>\n",
       "</table>\n",
       "<p>1607 rows × 11 columns</p>\n",
       "</div>"
      ],
      "text/plain": [
       "                            name online_order book_table rating  \\\n",
       "72                 Spicy Tandoor           No         No    NEW   \n",
       "75         Om Sri Vinayaka Chats           No         No    NEW   \n",
       "110          Hari Super Sandwich           No         No    NEW   \n",
       "130         Roll Magic Fast Food           No         No    NEW   \n",
       "131    Foodlieious Multi Cuisine           No         No    NEW   \n",
       "...                          ...          ...        ...    ...   \n",
       "51146                Punjab Beat          Yes        Yes    NEW   \n",
       "51500                  On The Go           No         No    NEW   \n",
       "51586                Quick Bites          Yes         No    NEW   \n",
       "51604           Nawab Di Biryani           No         No    NEW   \n",
       "51605           Bong Connections           No         No    NEW   \n",
       "\n",
       "                                  phone      location           rest_type  \\\n",
       "72                       +91 8050884222  Banashankari         Quick Bites   \n",
       "75                       +91 8553206035  Banashankari  Takeaway, Delivery   \n",
       "110                      +91 9886722163  Banashankari  Takeaway, Delivery   \n",
       "130                      +91 9731409204  Banashankari  Takeaway, Delivery   \n",
       "131    +91 9168753522\\r\\n+91 8217877100  Banashankari         Quick Bites   \n",
       "...                                 ...           ...                 ...   \n",
       "51146                      080 71967671    Whitefield       Casual Dining   \n",
       "51500                    +91 9972545294    Whitefield         Quick Bites   \n",
       "51586    +91 9742377087\\n+91 7899303299    Whitefield         Quick Bites   \n",
       "51604    +91 7899298400\\n+91 9818654628    Whitefield  Takeaway, Delivery   \n",
       "51605                    +91 7209035062    Whitefield         Quick Bites   \n",
       "\n",
       "      dish_liked                        cuisines average_cost          city  \n",
       "72           NaN                    North Indian          150  Banashankari  \n",
       "75           NaN          Street Food, Fast Food          500  Banashankari  \n",
       "110          NaN      Sandwich, Pizza, Beverages          200  Banashankari  \n",
       "130          NaN         Biryani, Rolls, Chinese          200  Banashankari  \n",
       "131          NaN                    North Indian          100  Banashankari  \n",
       "...          ...                             ...          ...           ...  \n",
       "51146        NaN                    North Indian          700    Whitefield  \n",
       "51500        NaN  North Indian, Mughlai, Chinese          400    Whitefield  \n",
       "51586        NaN                         Chinese          200    Whitefield  \n",
       "51604        NaN                Biryani, Mughlai          400    Whitefield  \n",
       "51605        NaN           Chinese, North Indian          300    Whitefield  \n",
       "\n",
       "[1607 rows x 11 columns]"
      ]
     },
     "execution_count": 16,
     "metadata": {},
     "output_type": "execute_result"
    }
   ],
   "source": [
    "#storing the restaurants which are new in a dataframe\n",
    "new_rest= data.loc[(data[\"rating\"]==\"NEW\")]\n",
    "new_rest"
   ]
  },
  {
   "cell_type": "code",
   "execution_count": 17,
   "metadata": {},
   "outputs": [],
   "source": [
    "#dropping the restaurants which are new or having - in rating\n",
    "data['rating'] = data['rating'].replace('NEW',np.NaN)\n",
    "data['rating'] = data['rating'].replace('-',np.NaN)\n"
   ]
  },
  {
   "cell_type": "code",
   "execution_count": 18,
   "metadata": {},
   "outputs": [
    {
     "data": {
      "text/plain": [
       "0    4.1/5\n",
       "1    4.1/5\n",
       "Name: rating, dtype: object"
      ]
     },
     "execution_count": 18,
     "metadata": {},
     "output_type": "execute_result"
    }
   ],
   "source": [
    "data['rating'].head(2)"
   ]
  },
  {
   "cell_type": "code",
   "execution_count": 19,
   "metadata": {},
   "outputs": [],
   "source": [
    "#convert rating to string\n",
    "data['rating'] = data['rating'].astype(str)\n",
    "#removed all '/5' and replace with ''\n",
    "data['rating'] = data['rating'].apply(lambda r: r.replace('/5',''))\n",
    "## convert rating to float\n",
    "data['rating'] = data['rating'].apply(lambda r: float(r))\n"
   ]
  },
  {
   "cell_type": "code",
   "execution_count": 20,
   "metadata": {},
   "outputs": [],
   "source": [
    "#droping rows which has null in rating \n",
    "data.drop(data[data['rating'].isnull()].index, inplace = True)"
   ]
  },
  {
   "cell_type": "code",
   "execution_count": 21,
   "metadata": {},
   "outputs": [
    {
     "data": {
      "text/plain": [
       "0"
      ]
     },
     "execution_count": 21,
     "metadata": {},
     "output_type": "execute_result"
    }
   ],
   "source": [
    "data['rating'].isnull().sum()"
   ]
  },
  {
   "cell_type": "code",
   "execution_count": 22,
   "metadata": {},
   "outputs": [
    {
     "data": {
      "text/plain": [
       "0    4.1\n",
       "1    4.1\n",
       "Name: rating, dtype: float64"
      ]
     },
     "execution_count": 22,
     "metadata": {},
     "output_type": "execute_result"
    }
   ],
   "source": [
    "data['rating'].head(2)"
   ]
  },
  {
   "cell_type": "markdown",
   "metadata": {},
   "source": [
    "## Preprocessing and visualizations"
   ]
  },
  {
   "cell_type": "markdown",
   "metadata": {},
   "source": [
    "###### Online orders"
   ]
  },
  {
   "cell_type": "code",
   "execution_count": 23,
   "metadata": {},
   "outputs": [
    {
     "data": {
      "text/plain": [
       "Yes    19566\n",
       "No      9564\n",
       "Name: online_order, dtype: int64"
      ]
     },
     "execution_count": 23,
     "metadata": {},
     "output_type": "execute_result"
    }
   ],
   "source": [
    "data.online_order.value_counts()"
   ]
  },
  {
   "cell_type": "code",
   "execution_count": 24,
   "metadata": {},
   "outputs": [
    {
     "data": {
      "image/png": "[encoded data removed]",
      "text/plain": [
       "<Figure size 576x432 with 1 Axes>"
      ]
     },
     "metadata": {
      "needs_background": "light"
     },
     "output_type": "display_data"
    }
   ],
   "source": [
    "plt.figure(figsize = (8,6))\n",
    "ax= sns.countplot(data['online_order'])\n",
    "#sns.set_style('whitegrid')\n",
    "plt.title('Number of Restaurants accepting online orders', weight='bold')\n",
    "plt.xlabel('online orders')\n",
    "plt.grid()"
   ]
  },
  {
   "cell_type": "markdown",
   "metadata": {},
   "source": [
    "Observation:\n",
    "- Most of order are onlines.\n",
    "- no missing values in online order colomn"
   ]
  },
  {
   "cell_type": "markdown",
   "metadata": {},
   "source": [
    "###### Book Table"
   ]
  },
  {
   "cell_type": "code",
   "execution_count": 25,
   "metadata": {},
   "outputs": [
    {
     "data": {
      "text/plain": [
       "No     25621\n",
       "Yes     3509\n",
       "Name: book_table, dtype: int64"
      ]
     },
     "execution_count": 25,
     "metadata": {},
     "output_type": "execute_result"
    }
   ],
   "source": [
    "data['book_table'].value_counts()"
   ]
  },
  {
   "cell_type": "code",
   "execution_count": 26,
   "metadata": {},
   "outputs": [
    {
     "data": {
      "image/png": "[encoded data removed]",
      "text/plain": [
       "<Figure size 576x432 with 1 Axes>"
      ]
     },
     "metadata": {
      "needs_background": "light"
     },
     "output_type": "display_data"
    }
   ],
   "source": [
    "plt.figure(figsize=(8,6)) \n",
    "sns.countplot(data['book_table'], palette= \"Set2\")\n",
    "plt.title(\"No of Restaurant with Book Table Facility\", weight = 'bold',color='k')\n",
    "plt.xlabel('Book table facility')\n",
    "plt.ylabel('No of restaurants')\n",
    "plt.grid()"
   ]
  },
  {
   "cell_type": "markdown",
   "metadata": {},
   "source": [
    "Observation:\n",
    "- Most of restaurant do not have book table facility\n",
    "- no missing values in book_table colomn"
   ]
  },
  {
   "cell_type": "markdown",
   "metadata": {},
   "source": [
    "###### Top 20 restaurant in the Banglore"
   ]
  },
  {
   "cell_type": "code",
   "execution_count": 27,
   "metadata": {
    "scrolled": true
   },
   "outputs": [
    {
     "data": {
      "text/plain": [
       "Cafe Coffee Day              65\n",
       "Five Star Chicken            59\n",
       "Pizza Hut                    56\n",
       "Kanti Sweets                 56\n",
       "Domino's Pizza               55\n",
       "Baskin Robbins               54\n",
       "KFC                          53\n",
       "Sweet Truth                  52\n",
       "Just Bake                    52\n",
       "Faasos                       51\n",
       "Empire Restaurant            50\n",
       "Subway                       50\n",
       "Lassi Shop                   48\n",
       "Beijing Bites                46\n",
       "Chai Point                   46\n",
       "Burger King                  46\n",
       "McDonald's                   46\n",
       "A2B - Adyar Ananda Bhavan    45\n",
       "Polar Bear                   43\n",
       "Petoo                        43\n",
       "Name: name, dtype: int64"
      ]
     },
     "execution_count": 27,
     "metadata": {},
     "output_type": "execute_result"
    }
   ],
   "source": [
    "data.name.value_counts()[:20]"
   ]
  },
  {
   "cell_type": "code",
   "execution_count": 28,
   "metadata": {},
   "outputs": [
    {
     "data": {
      "image/png": "[encoded data removed]",
      "text/plain": [
       "<Figure size 864x432 with 1 Axes>"
      ]
     },
     "metadata": {
      "needs_background": "light"
     },
     "output_type": "display_data"
    }
   ],
   "source": [
    "plt.figure(figsize = (12,6))\n",
    "ax = data.name.value_counts()[:20].plot(kind = 'bar',color='b',alpha=0.8)\n",
    "ax.legend(['* Restaurants'])\n",
    "plt.xlabel(\"Name of Restaurant\")\n",
    "plt.ylabel(\"Count of Restaurants\")\n",
    "plt.title(\"Name vs Number of Restaurant\",fontsize =20, weight = 'bold',color='r')\n",
    "plt.grid()"
   ]
  },
  {
   "cell_type": "markdown",
   "metadata": {},
   "source": [
    "###### Top 10 locations having maximum number of restaurants"
   ]
  },
  {
   "cell_type": "markdown",
   "metadata": {},
   "source": [
    "Observation\n",
    "- we can say that 'Cafe Coffee Day' day has highest count among all\n"
   ]
  },
  {
   "cell_type": "code",
   "execution_count": 29,
   "metadata": {},
   "outputs": [
    {
     "data": {
      "text/plain": [
       "Koramangala 4th Block    2080\n",
       "BTM                      2032\n",
       "Jayanagar                1772\n",
       "Koramangala 6th Block    1634\n",
       "Koramangala 7th Block    1575\n",
       "Koramangala 5th Block    1464\n",
       "JP Nagar                 1176\n",
       "Brigade Road             1029\n",
       "Church Street            1012\n",
       "Kammanahalli              949\n",
       "Name: city, dtype: int64"
      ]
     },
     "execution_count": 29,
     "metadata": {},
     "output_type": "execute_result"
    }
   ],
   "source": [
    "#Location\n",
    "data['city'].value_counts()[:10]"
   ]
  },
  {
   "cell_type": "code",
   "execution_count": 30,
   "metadata": {},
   "outputs": [
    {
     "data": {
      "image/png": "[encoded data removed]",
      "text/plain": [
       "<Figure size 864x432 with 1 Axes>"
      ]
     },
     "metadata": {},
     "output_type": "display_data"
    }
   ],
   "source": [
    "plt.figure(figsize = (12,6))\n",
    "names = data['city'].value_counts()[:10].index\n",
    "values = data['city'].value_counts()[:10].values\n",
    "colors = ['gold', 'red', 'lightcoral', 'orange','fuchsia','green','silver','blue','turquoise','purple']\n",
    "explode = (0.1, 0, 0, 0,0,0,0,0,0,0)  # explode 1st slice\n",
    "plt.pie(values, explode=explode, labels=names, colors=colors,autopct='%1.1f%%', shadow=True, startangle=140)\n",
    "plt.axis('equal')\n",
    "plt.title(\"Percentage of restaurants present in that city\", weight = 'bold')\n",
    "plt.show()"
   ]
  },
  {
   "cell_type": "markdown",
   "metadata": {},
   "source": [
    "#### Observation\n",
    "- We can say that Koramangala 4th Block location,is where most of restaurant are available"
   ]
  },
  {
   "cell_type": "markdown",
   "metadata": {},
   "source": [
    "##### Top 10 Restaurant type"
   ]
  },
  {
   "cell_type": "code",
   "execution_count": 31,
   "metadata": {},
   "outputs": [
    {
     "data": {
      "text/plain": [
       "name                0\n",
       "online_order        0\n",
       "book_table          0\n",
       "rating              0\n",
       "phone             578\n",
       "location            0\n",
       "rest_type           0\n",
       "dish_liked      13416\n",
       "cuisines            0\n",
       "average_cost      154\n",
       "city                0\n",
       "dtype: int64"
      ]
     },
     "execution_count": 31,
     "metadata": {},
     "output_type": "execute_result"
    }
   ],
   "source": [
    "#remove the nulll values in rest_type\n",
    "rest_type_data = data[data.rest_type.notnull()]\n",
    "rest_type_data.isna().sum()"
   ]
  },
  {
   "cell_type": "code",
   "execution_count": 32,
   "metadata": {},
   "outputs": [],
   "source": [
    "# count each dish to see how many times each dish repeated\n",
    "rest_count = []\n",
    "for i in rest_type_data.rest_type:\n",
    "    for t in i.split(','):\n",
    "        t = t.strip() # remove the white spaces to get accurate results\n",
    "        rest_count.append(t)"
   ]
  },
  {
   "cell_type": "code",
   "execution_count": 33,
   "metadata": {},
   "outputs": [
    {
     "data": {
      "image/png": "[encoded data removed]",
      "text/plain": [
       "<Figure size 864x432 with 1 Axes>"
      ]
     },
     "metadata": {
      "needs_background": "light"
     },
     "output_type": "display_data"
    }
   ],
   "source": [
    "plt.figure(figsize=(12,6)) \n",
    "pd.Series(rest_count).value_counts()[:10].plot(kind='bar',color= 'green',alpha=0.8)\n",
    "sns.set(style=\"ticks\")\n",
    "plt.title('Top 10 Restaurant Type',weight='bold',fontsize =20,color='r')\n",
    "plt.xlabel('Rest_type')\n",
    "plt.ylabel('Count')\n",
    "plt.grid()"
   ]
  },
  {
   "cell_type": "markdown",
   "metadata": {},
   "source": [
    "Observation\n",
    "- We can say that rest_type Quick bites is most in Banglore.\n",
    "\n"
   ]
  },
  {
   "cell_type": "markdown",
   "metadata": {},
   "source": [
    "###### Average cost in restaurants"
   ]
  },
  {
   "cell_type": "code",
   "execution_count": 34,
   "metadata": {},
   "outputs": [
    {
     "data": {
      "text/plain": [
       "300    3941\n",
       "400    3920\n",
       "500    2987\n",
       "200    2477\n",
       "600    2250\n",
       "250    1637\n",
       "800    1339\n",
       "700    1183\n",
       "150    1068\n",
       "350     990\n",
       "Name: average_cost, dtype: int64"
      ]
     },
     "execution_count": 34,
     "metadata": {},
     "output_type": "execute_result"
    }
   ],
   "source": [
    "\n",
    "data['average_cost'].value_counts()[:10]"
   ]
  },
  {
   "cell_type": "code",
   "execution_count": 35,
   "metadata": {},
   "outputs": [
    {
     "data": {
      "image/png": "[encoded data removed]",
      "text/plain": [
       "<Figure size 864x432 with 1 Axes>"
      ]
     },
     "metadata": {},
     "output_type": "display_data"
    }
   ],
   "source": [
    "\n",
    "\n",
    "plt.figure(figsize=(12,6))\n",
    "values = data.average_cost.value_counts()[:10]\n",
    "labels = data['average_cost'].value_counts()[:10].index\n",
    "plt.pie(values, labels=labels, autopct='%.2f')\n",
    "plt.title('Average cost for two person(in %) ', weight='bold')\n",
    "plt.show()\n"
   ]
  },
  {
   "cell_type": "markdown",
   "metadata": {},
   "source": [
    "Observation\n",
    "- There is 18.08% percetage chances that for two person average cost will be 300 and 17.99% chance that cost will be 400. so on."
   ]
  },
  {
   "cell_type": "markdown",
   "metadata": {},
   "source": [
    "###### Top 10 Dish liked"
   ]
  },
  {
   "cell_type": "code",
   "execution_count": 36,
   "metadata": {},
   "outputs": [
    {
     "data": {
      "text/plain": [
       "name              0\n",
       "online_order      0\n",
       "book_table        0\n",
       "rating            0\n",
       "phone           210\n",
       "location          0\n",
       "rest_type        51\n",
       "dish_liked        0\n",
       "cuisines          0\n",
       "average_cost     71\n",
       "city              0\n",
       "dtype: int64"
      ]
     },
     "execution_count": 36,
     "metadata": {},
     "output_type": "execute_result"
    }
   ],
   "source": [
    "#remove the nulll values in dish_liked\n",
    "dishes_data = data[data.dish_liked.notnull()]\n",
    "dishes_data.isna().sum()"
   ]
  },
  {
   "cell_type": "code",
   "execution_count": 37,
   "metadata": {},
   "outputs": [
    {
     "data": {
      "text/plain": [
       "0        pasta, lunch buffet, masala papad, paneer laja...\n",
       "1        momos, lunch buffet, chocolate nirvana, thai g...\n",
       "2        churros, cannelloni, minestrone soup, hot choc...\n",
       "3                                              masala dosa\n",
       "4                                      panipuri, gol gappe\n",
       "                               ...                        \n",
       "51611                                         manchow soup\n",
       "51617                               coffee, vada, mla dosa\n",
       "51620    noodles, chicken noodle, momos, american chops...\n",
       "51628    chicken quesadilla, naan, breakfast buffet, ch...\n",
       "51677                                 biryani, andhra meal\n",
       "Name: dish_liked, Length: 15659, dtype: object"
      ]
     },
     "execution_count": 37,
     "metadata": {},
     "output_type": "execute_result"
    }
   ],
   "source": [
    "dishes_data.dish_liked = dishes_data.dish_liked.apply(lambda x:x.lower().strip())\n",
    "dishes_data.dish_liked"
   ]
  },
  {
   "cell_type": "code",
   "execution_count": 38,
   "metadata": {},
   "outputs": [],
   "source": [
    "# count each dish to see how many times each dish repeated\n",
    "dish_count = []\n",
    "for i in dishes_data.dish_liked:\n",
    "    for t in i.split(','):\n",
    "        t = t.strip() # remove the white spaces to get accurate results\n",
    "        dish_count.append(t)"
   ]
  },
  {
   "cell_type": "code",
   "execution_count": 39,
   "metadata": {},
   "outputs": [
    {
     "data": {
      "image/png": "[encoded data removed]",
      "text/plain": [
       "<Figure size 864x432 with 1 Axes>"
      ]
     },
     "metadata": {},
     "output_type": "display_data"
    }
   ],
   "source": [
    "plt.figure(figsize=(12,6)) \n",
    "pd.Series(dish_count).value_counts()[:10].plot(kind='bar',color= 'green',alpha=0.8)\n",
    "sns.set(style=\"ticks\")\n",
    "plt.title('Top 10 most liked dishes',weight='bold',fontsize =20,color='r')\n",
    "plt.xlabel('Dish')\n",
    "plt.ylabel('Count')\n",
    "plt.grid()"
   ]
  },
  {
   "cell_type": "markdown",
   "metadata": {},
   "source": [
    "Observation\n",
    "- Pasta is the most liked dish followed by burgers"
   ]
  },
  {
   "cell_type": "markdown",
   "metadata": {},
   "source": [
    "##### Top 10 restaurants serving Pasta"
   ]
  },
  {
   "cell_type": "code",
   "execution_count": 40,
   "metadata": {},
   "outputs": [],
   "source": [
    "#restaurnts serving pasta\n",
    "rest_pasta=dishes_data[dishes_data['dish_liked'].str.contains(u'pasta')]"
   ]
  },
  {
   "cell_type": "code",
   "execution_count": 41,
   "metadata": {},
   "outputs": [
    {
     "data": {
      "text/plain": [
       "(2310, 11)"
      ]
     },
     "execution_count": 41,
     "metadata": {},
     "output_type": "execute_result"
    }
   ],
   "source": [
    "rest_pasta.shape\n",
    "#2310 restaurants serve pasta"
   ]
  },
  {
   "cell_type": "code",
   "execution_count": 42,
   "metadata": {},
   "outputs": [],
   "source": [
    "#sorted the restaurant by rating which serves pasta\n",
    "rest_pasta.sort_values(\"rating\", axis = 0, ascending = False, \n",
    "                 inplace = True, na_position ='last')"
   ]
  },
  {
   "cell_type": "code",
   "execution_count": 43,
   "metadata": {},
   "outputs": [
    {
     "data": {
      "image/png": "[encoded data removed]",
      "text/plain": [
       "<Figure size 864x432 with 1 Axes>"
      ]
     },
     "metadata": {},
     "output_type": "display_data"
    }
   ],
   "source": [
    "plt.figure(figsize=(12,6)) \n",
    "dishes_data['name'].value_counts()[:10].plot(kind='bar',color= 'r',alpha=1)\n",
    "sns.set(style=\"ticks\")\n",
    "plt.title('Top 10 restaurants serving pasta',weight='bold',fontsize =20)\n",
    "plt.xlabel('Dish')\n",
    "plt.ylabel('Count')\n",
    "plt.grid()"
   ]
  },
  {
   "cell_type": "markdown",
   "metadata": {},
   "source": [
    "Observation:\n",
    "- Pizza hut followed by KFC serves good Pasta"
   ]
  },
  {
   "cell_type": "markdown",
   "metadata": {},
   "source": [
    "##### Top 10 Cuisines"
   ]
  },
  {
   "cell_type": "code",
   "execution_count": 44,
   "metadata": {},
   "outputs": [],
   "source": [
    "data['cuisines'] = data['cuisines'].apply(lambda x:x.lower().strip())"
   ]
  },
  {
   "cell_type": "code",
   "execution_count": 45,
   "metadata": {},
   "outputs": [],
   "source": [
    "\n",
    "cuisines_count= []\n",
    "\n",
    "for i in data.cuisines:\n",
    "    for j in i.split(','):\n",
    "        j = j.strip()\n",
    "        cuisines_count.append(j)\n",
    "        "
   ]
  },
  {
   "cell_type": "code",
   "execution_count": 46,
   "metadata": {},
   "outputs": [
    {
     "data": {
      "image/png": "[encoded data removed]",
      "text/plain": [
       "<Figure size 864x432 with 1 Axes>"
      ]
     },
     "metadata": {},
     "output_type": "display_data"
    }
   ],
   "source": [
    "plt.figure(figsize=(12,6)) \n",
    "pd.Series(cuisines_count).value_counts()[:10].plot(kind='bar',color= 'blue')\n",
    "plt.title('Top 10 cuisines',weight='bold')\n",
    "plt.xlabel('cuisines type')\n",
    "plt.ylabel('No of restaurants')\n",
    "plt.grid()"
   ]
  },
  {
   "cell_type": "markdown",
   "metadata": {},
   "source": [
    "Observation\n",
    "- North Indian food is at top, followed by chinese and so on."
   ]
  },
  {
   "cell_type": "markdown",
   "metadata": {},
   "source": [
    "##### Average Rating of restaurants"
   ]
  },
  {
   "cell_type": "code",
   "execution_count": 47,
   "metadata": {},
   "outputs": [
    {
     "name": "stdout",
     "output_type": "stream",
     "text": [
      "3.675176793683471\n"
     ]
    },
    {
     "data": {
      "image/png": "[encoded data removed]",
      "text/plain": [
       "<Figure size 432x288 with 1 Axes>"
      ]
     },
     "metadata": {},
     "output_type": "display_data"
    }
   ],
   "source": [
    "data.rating.hist(color='y')\n",
    "plt.axvline(x= data.rating.mean(),ls='--',color='red')\n",
    "plt.title('Average Rating of Restaurants',weight='bold')\n",
    "plt.xlabel('Rating')\n",
    "plt.ylabel('No of Restaurants')\n",
    "print(data.rating.mean())"
   ]
  },
  {
   "cell_type": "markdown",
   "metadata": {},
   "source": [
    "Observation\n",
    "\n",
    "- Average rating is 3.6"
   ]
  },
  {
   "cell_type": "markdown",
   "metadata": {},
   "source": [
    "#### Rating vs Online Order"
   ]
  },
  {
   "cell_type": "code",
   "execution_count": 48,
   "metadata": {},
   "outputs": [
    {
     "data": {
      "text/plain": [
       "Text(0.5, 1.0, 'rating vs oline order')"
      ]
     },
     "execution_count": 48,
     "metadata": {},
     "output_type": "execute_result"
    },
    {
     "data": {
      "image/png": "[encoded data removed]",
      "text/plain": [
       "<Figure size 864x432 with 1 Axes>"
      ]
     },
     "metadata": {},
     "output_type": "display_data"
    }
   ],
   "source": [
    "plt.figure(figsize = (12,6))\n",
    "sns.countplot(x=data['rating'], hue = data['online_order'])\n",
    "plt.ylabel(\"Restaurants that Accept/Not Accepting online orders\")\n",
    "plt.title(\"rating vs oline order\",weight = 'bold')"
   ]
  },
  {
   "cell_type": "markdown",
   "metadata": {},
   "source": [
    "Observation:\n",
    "- it is seen that reataurants accepting online order has comparatively good rating than the restaurant which doesn't."
   ]
  },
  {
   "cell_type": "markdown",
   "metadata": {},
   "source": [
    "## Preprocess for model building."
   ]
  },
  {
   "cell_type": "code",
   "execution_count": 49,
   "metadata": {},
   "outputs": [
    {
     "data": {
      "text/plain": [
       "name                0\n",
       "online_order        0\n",
       "book_table          0\n",
       "rating              0\n",
       "phone             581\n",
       "location            0\n",
       "rest_type         106\n",
       "dish_liked      13471\n",
       "cuisines            0\n",
       "average_cost      155\n",
       "city                0\n",
       "dtype: int64"
      ]
     },
     "execution_count": 49,
     "metadata": {},
     "output_type": "execute_result"
    }
   ],
   "source": [
    "data.isnull().sum()"
   ]
  },
  {
   "cell_type": "code",
   "execution_count": 50,
   "metadata": {},
   "outputs": [
    {
     "data": {
      "text/html": [
       "<div>\n",
       "<style scoped>\n",
       "    .dataframe tbody tr th:only-of-type {\n",
       "        vertical-align: middle;\n",
       "    }\n",
       "\n",
       "    .dataframe tbody tr th {\n",
       "        vertical-align: top;\n",
       "    }\n",
       "\n",
       "    .dataframe thead th {\n",
       "        text-align: right;\n",
       "    }\n",
       "</style>\n",
       "<table border=\"1\" class=\"dataframe\">\n",
       "  <thead>\n",
       "    <tr style=\"text-align: right;\">\n",
       "      <th></th>\n",
       "      <th>name</th>\n",
       "      <th>online_order</th>\n",
       "      <th>book_table</th>\n",
       "      <th>rating</th>\n",
       "      <th>phone</th>\n",
       "      <th>location</th>\n",
       "      <th>rest_type</th>\n",
       "      <th>dish_liked</th>\n",
       "      <th>cuisines</th>\n",
       "      <th>average_cost</th>\n",
       "      <th>city</th>\n",
       "    </tr>\n",
       "  </thead>\n",
       "  <tbody>\n",
       "    <tr>\n",
       "      <td>0</td>\n",
       "      <td>Jalsa</td>\n",
       "      <td>1</td>\n",
       "      <td>1</td>\n",
       "      <td>4.1</td>\n",
       "      <td>080 42297555\\r\\n+91 9743772233</td>\n",
       "      <td>Banashankari</td>\n",
       "      <td>Casual Dining</td>\n",
       "      <td>Pasta, Lunch Buffet, Masala Papad, Paneer Laja...</td>\n",
       "      <td>north indian, mughlai, chinese</td>\n",
       "      <td>800</td>\n",
       "      <td>Banashankari</td>\n",
       "    </tr>\n",
       "    <tr>\n",
       "      <td>1</td>\n",
       "      <td>Spice Elephant</td>\n",
       "      <td>1</td>\n",
       "      <td>0</td>\n",
       "      <td>4.1</td>\n",
       "      <td>080 41714161</td>\n",
       "      <td>Banashankari</td>\n",
       "      <td>Casual Dining</td>\n",
       "      <td>Momos, Lunch Buffet, Chocolate Nirvana, Thai G...</td>\n",
       "      <td>chinese, north indian, thai</td>\n",
       "      <td>800</td>\n",
       "      <td>Banashankari</td>\n",
       "    </tr>\n",
       "  </tbody>\n",
       "</table>\n",
       "</div>"
      ],
      "text/plain": [
       "             name  online_order  book_table  rating  \\\n",
       "0           Jalsa             1           1     4.1   \n",
       "1  Spice Elephant             1           0     4.1   \n",
       "\n",
       "                            phone      location      rest_type  \\\n",
       "0  080 42297555\\r\\n+91 9743772233  Banashankari  Casual Dining   \n",
       "1                    080 41714161  Banashankari  Casual Dining   \n",
       "\n",
       "                                          dish_liked  \\\n",
       "0  Pasta, Lunch Buffet, Masala Papad, Paneer Laja...   \n",
       "1  Momos, Lunch Buffet, Chocolate Nirvana, Thai G...   \n",
       "\n",
       "                         cuisines average_cost          city  \n",
       "0  north indian, mughlai, chinese          800  Banashankari  \n",
       "1     chinese, north indian, thai          800  Banashankari  "
      ]
     },
     "execution_count": 50,
     "metadata": {},
     "output_type": "execute_result"
    }
   ],
   "source": [
    "#one hot encoding on \"online_order\" and \"book_table\"\n",
    "data['online_order']= pd.get_dummies(data.online_order, drop_first=True)\n",
    "data['book_table']= pd.get_dummies(data.book_table, drop_first=True)\n",
    "data.head(2)\n"
   ]
  },
  {
   "cell_type": "markdown",
   "metadata": {},
   "source": [
    "#### Handling Phone numbers"
   ]
  },
  {
   "cell_type": "code",
   "execution_count": 51,
   "metadata": {},
   "outputs": [],
   "source": [
    "def phone_num_count(phone_nums):\n",
    "    '''\n",
    "    counts the phone number from string and returns count\n",
    "    example \"+91 231231231\\n +91312312312\" returns 2\n",
    "    the function returns 0 if missing\n",
    "    '''\n",
    "    phones_n = 0\n",
    "    if phone_nums == '0' or phone_nums == 0 or type(phone_nums) == float:\n",
    "        return 0\n",
    "    length = 0\n",
    "    for i in range(len(phone_nums)):\n",
    "        try:\n",
    "            if int(phone_nums[i]):\n",
    "                length = length + 1\n",
    "                if length == 8:\n",
    "                    phones_n += 1\n",
    "        except:\n",
    "            length = 0\n",
    "    return phones_n\n"
   ]
  },
  {
   "cell_type": "code",
   "execution_count": 52,
   "metadata": {},
   "outputs": [],
   "source": [
    "#Function checks 8 continuos integers and increases the phone count by 1\n",
    "#returns number of phone numbers and 0 for missing value\n",
    "data['phone'] = data.apply(lambda x: phone_num_count(x.phone), axis=1)"
   ]
  },
  {
   "cell_type": "code",
   "execution_count": 53,
   "metadata": {},
   "outputs": [
    {
     "data": {
      "text/plain": [
       "name                0\n",
       "online_order        0\n",
       "book_table          0\n",
       "rating              0\n",
       "phone               0\n",
       "location            0\n",
       "rest_type         106\n",
       "dish_liked      13471\n",
       "cuisines            0\n",
       "average_cost      155\n",
       "city                0\n",
       "dtype: int64"
      ]
     },
     "execution_count": 53,
     "metadata": {},
     "output_type": "execute_result"
    }
   ],
   "source": [
    "data.isnull().sum()"
   ]
  },
  {
   "cell_type": "markdown",
   "metadata": {},
   "source": [
    "#### Handling average_cost"
   ]
  },
  {
   "cell_type": "code",
   "execution_count": 54,
   "metadata": {},
   "outputs": [],
   "source": [
    "def str_to_float(cost):\n",
    "    '''\n",
    "    Retruns the float from the string cost for two\n",
    "    example '1,700' returns 1700 \n",
    "    '''\n",
    "    \n",
    "    if type(cost) == str:\n",
    "        cost = cost.replace(\",\",\"\").replace(\" \",\"\")\n",
    "        return(float(cost))\n",
    "    else:\n",
    "        return np.nan"
   ]
  },
  {
   "cell_type": "code",
   "execution_count": 55,
   "metadata": {},
   "outputs": [],
   "source": [
    "#function str_to_float replaces \",\" and \" \"-space and returns the float value of the cost. \n",
    "# returns np.nan for missing value\n",
    "data['average_cost'] = data.apply(lambda x: str_to_float(x.average_cost), axis=1)"
   ]
  },
  {
   "cell_type": "code",
   "execution_count": 56,
   "metadata": {},
   "outputs": [],
   "source": [
    "#removing rows which has null in rest_type \n",
    "data.drop(data[data['rest_type'].isnull()].index, inplace = True) \n"
   ]
  },
  {
   "cell_type": "code",
   "execution_count": 57,
   "metadata": {},
   "outputs": [
    {
     "data": {
      "text/plain": [
       "name                0\n",
       "online_order        0\n",
       "book_table          0\n",
       "rating              0\n",
       "phone               0\n",
       "location            0\n",
       "rest_type           0\n",
       "dish_liked      13416\n",
       "cuisines            0\n",
       "average_cost      154\n",
       "city                0\n",
       "dtype: int64"
      ]
     },
     "execution_count": 57,
     "metadata": {},
     "output_type": "execute_result"
    }
   ],
   "source": [
    "data.isnull().sum()"
   ]
  },
  {
   "cell_type": "code",
   "execution_count": 58,
   "metadata": {},
   "outputs": [],
   "source": [
    "#dropping column name as it is not required for analysis\n",
    "#also dropping columns \"dish_liked\" as it contains large amount of nulls\n",
    "data.drop(columns=['name','dish_liked'], inplace  =True)"
   ]
  },
  {
   "cell_type": "markdown",
   "metadata": {},
   "source": [
    "#### Heatmap"
   ]
  },
  {
   "cell_type": "code",
   "execution_count": 59,
   "metadata": {
    "scrolled": true
   },
   "outputs": [
    {
     "data": {
      "text/plain": [
       "online_order      0\n",
       "book_table        0\n",
       "rating            0\n",
       "phone             0\n",
       "location          0\n",
       "rest_type         0\n",
       "cuisines          0\n",
       "average_cost    154\n",
       "city              0\n",
       "dtype: int64"
      ]
     },
     "execution_count": 59,
     "metadata": {},
     "output_type": "execute_result"
    }
   ],
   "source": [
    "data.isnull().sum()"
   ]
  },
  {
   "cell_type": "code",
   "execution_count": 60,
   "metadata": {},
   "outputs": [
    {
     "data": {
      "text/html": [
       "<div>\n",
       "<style scoped>\n",
       "    .dataframe tbody tr th:only-of-type {\n",
       "        vertical-align: middle;\n",
       "    }\n",
       "\n",
       "    .dataframe tbody tr th {\n",
       "        vertical-align: top;\n",
       "    }\n",
       "\n",
       "    .dataframe thead th {\n",
       "        text-align: right;\n",
       "    }\n",
       "</style>\n",
       "<table border=\"1\" class=\"dataframe\">\n",
       "  <thead>\n",
       "    <tr style=\"text-align: right;\">\n",
       "      <th></th>\n",
       "      <th>online_order</th>\n",
       "      <th>book_table</th>\n",
       "      <th>rating</th>\n",
       "      <th>phone</th>\n",
       "      <th>location</th>\n",
       "      <th>rest_type</th>\n",
       "      <th>cuisines</th>\n",
       "      <th>average_cost</th>\n",
       "      <th>city</th>\n",
       "    </tr>\n",
       "  </thead>\n",
       "  <tbody>\n",
       "    <tr>\n",
       "      <td>0</td>\n",
       "      <td>1</td>\n",
       "      <td>1</td>\n",
       "      <td>4.1</td>\n",
       "      <td>2</td>\n",
       "      <td>Banashankari</td>\n",
       "      <td>Casual Dining</td>\n",
       "      <td>north indian, mughlai, chinese</td>\n",
       "      <td>800.0</td>\n",
       "      <td>Banashankari</td>\n",
       "    </tr>\n",
       "    <tr>\n",
       "      <td>1</td>\n",
       "      <td>1</td>\n",
       "      <td>0</td>\n",
       "      <td>4.1</td>\n",
       "      <td>1</td>\n",
       "      <td>Banashankari</td>\n",
       "      <td>Casual Dining</td>\n",
       "      <td>chinese, north indian, thai</td>\n",
       "      <td>800.0</td>\n",
       "      <td>Banashankari</td>\n",
       "    </tr>\n",
       "  </tbody>\n",
       "</table>\n",
       "</div>"
      ],
      "text/plain": [
       "   online_order  book_table  rating  phone      location      rest_type  \\\n",
       "0             1           1     4.1      2  Banashankari  Casual Dining   \n",
       "1             1           0     4.1      1  Banashankari  Casual Dining   \n",
       "\n",
       "                         cuisines  average_cost          city  \n",
       "0  north indian, mughlai, chinese         800.0  Banashankari  \n",
       "1     chinese, north indian, thai         800.0  Banashankari  "
      ]
     },
     "execution_count": 60,
     "metadata": {},
     "output_type": "execute_result"
    }
   ],
   "source": [
    "data.head(2)"
   ]
  },
  {
   "cell_type": "code",
   "execution_count": 61,
   "metadata": {},
   "outputs": [
    {
     "data": {
      "text/html": [
       "<div>\n",
       "<style scoped>\n",
       "    .dataframe tbody tr th:only-of-type {\n",
       "        vertical-align: middle;\n",
       "    }\n",
       "\n",
       "    .dataframe tbody tr th {\n",
       "        vertical-align: top;\n",
       "    }\n",
       "\n",
       "    .dataframe thead th {\n",
       "        text-align: right;\n",
       "    }\n",
       "</style>\n",
       "<table border=\"1\" class=\"dataframe\">\n",
       "  <thead>\n",
       "    <tr style=\"text-align: right;\">\n",
       "      <th></th>\n",
       "      <th>online_order</th>\n",
       "      <th>book_table</th>\n",
       "      <th>rating</th>\n",
       "      <th>phone</th>\n",
       "      <th>average_cost</th>\n",
       "    </tr>\n",
       "  </thead>\n",
       "  <tbody>\n",
       "    <tr>\n",
       "      <td>0</td>\n",
       "      <td>1</td>\n",
       "      <td>1</td>\n",
       "      <td>4.1</td>\n",
       "      <td>2</td>\n",
       "      <td>800.0</td>\n",
       "    </tr>\n",
       "    <tr>\n",
       "      <td>1</td>\n",
       "      <td>1</td>\n",
       "      <td>0</td>\n",
       "      <td>4.1</td>\n",
       "      <td>1</td>\n",
       "      <td>800.0</td>\n",
       "    </tr>\n",
       "  </tbody>\n",
       "</table>\n",
       "</div>"
      ],
      "text/plain": [
       "   online_order  book_table  rating  phone  average_cost\n",
       "0             1           1     4.1      2         800.0\n",
       "1             1           0     4.1      1         800.0"
      ]
     },
     "execution_count": 61,
     "metadata": {},
     "output_type": "execute_result"
    }
   ],
   "source": [
    "df=data.drop(columns=['location','cuisines','rest_type','city'])\n",
    "df.head(2)"
   ]
  },
  {
   "cell_type": "code",
   "execution_count": 62,
   "metadata": {},
   "outputs": [],
   "source": [
    "#Filling missing values in average cost by KNN imputations\n",
    "\n",
    "imputer = KNNImputer(n_neighbors=3)\n",
    "data_imputed=imputer.fit_transform(df)"
   ]
  },
  {
   "cell_type": "code",
   "execution_count": 63,
   "metadata": {},
   "outputs": [],
   "source": [
    "zomato_df = pd.DataFrame(data_imputed,\n",
    "                              columns= df.columns,\n",
    "                              index=data.index)"
   ]
  },
  {
   "cell_type": "code",
   "execution_count": 64,
   "metadata": {},
   "outputs": [
    {
     "data": {
      "text/plain": [
       "online_order    0\n",
       "book_table      0\n",
       "rating          0\n",
       "phone           0\n",
       "average_cost    0\n",
       "dtype: int64"
      ]
     },
     "execution_count": 64,
     "metadata": {},
     "output_type": "execute_result"
    }
   ],
   "source": [
    "zomato_df.isnull().sum()"
   ]
  },
  {
   "cell_type": "code",
   "execution_count": 65,
   "metadata": {},
   "outputs": [
    {
     "data": {
      "image/png": "[encoded data removed]",
      "text/plain": [
       "<Figure size 1008x648 with 2 Axes>"
      ]
     },
     "metadata": {},
     "output_type": "display_data"
    }
   ],
   "source": [
    "plt.figure(figsize=(14,9))\n",
    "ax= sns.heatmap(zomato_df.corr(),annot=True,linewidth=1)\n",
    "#ax.tick_params(size=10,color='w',labelsize=10,labelcolor='w')\n",
    "plt.show()"
   ]
  },
  {
   "cell_type": "markdown",
   "metadata": {},
   "source": [
    "Observation:\n",
    "- we can see that average_cost and book_table have impact on rating"
   ]
  },
  {
   "cell_type": "markdown",
   "metadata": {},
   "source": [
    "### handling multi valued collumns"
   ]
  },
  {
   "cell_type": "code",
   "execution_count": 66,
   "metadata": {},
   "outputs": [],
   "source": [
    "def lower_(x):\n",
    "    '''\n",
    "    returns the lower case of string after removing all the space \n",
    "    example 'CAsual Dining' returns 'casualdining'\n",
    "    '''\n",
    "    if type(x) == str:\n",
    "        return x.replace(\" \",\"\").lower()"
   ]
  },
  {
   "cell_type": "code",
   "execution_count": 67,
   "metadata": {},
   "outputs": [],
   "source": [
    "#converting to lower case and replacing space with no space\n",
    "data['rest_type'] = data.apply(lambda x: lower_(x.rest_type), axis=1)\n",
    "data['cuisines'] = data.apply(lambda x: lower_(x.cuisines), axis=1)"
   ]
  },
  {
   "cell_type": "code",
   "execution_count": 68,
   "metadata": {},
   "outputs": [
    {
     "data": {
      "text/html": [
       "<div>\n",
       "<style scoped>\n",
       "    .dataframe tbody tr th:only-of-type {\n",
       "        vertical-align: middle;\n",
       "    }\n",
       "\n",
       "    .dataframe tbody tr th {\n",
       "        vertical-align: top;\n",
       "    }\n",
       "\n",
       "    .dataframe thead th {\n",
       "        text-align: right;\n",
       "    }\n",
       "</style>\n",
       "<table border=\"1\" class=\"dataframe\">\n",
       "  <thead>\n",
       "    <tr style=\"text-align: right;\">\n",
       "      <th></th>\n",
       "      <th>online_order</th>\n",
       "      <th>book_table</th>\n",
       "      <th>rating</th>\n",
       "      <th>phone</th>\n",
       "      <th>location</th>\n",
       "      <th>rest_type</th>\n",
       "      <th>cuisines</th>\n",
       "      <th>average_cost</th>\n",
       "      <th>city</th>\n",
       "    </tr>\n",
       "  </thead>\n",
       "  <tbody>\n",
       "    <tr>\n",
       "      <td>0</td>\n",
       "      <td>1</td>\n",
       "      <td>1</td>\n",
       "      <td>4.1</td>\n",
       "      <td>2</td>\n",
       "      <td>Banashankari</td>\n",
       "      <td>casualdining</td>\n",
       "      <td>northindian,mughlai,chinese</td>\n",
       "      <td>800.0</td>\n",
       "      <td>Banashankari</td>\n",
       "    </tr>\n",
       "    <tr>\n",
       "      <td>1</td>\n",
       "      <td>1</td>\n",
       "      <td>0</td>\n",
       "      <td>4.1</td>\n",
       "      <td>1</td>\n",
       "      <td>Banashankari</td>\n",
       "      <td>casualdining</td>\n",
       "      <td>chinese,northindian,thai</td>\n",
       "      <td>800.0</td>\n",
       "      <td>Banashankari</td>\n",
       "    </tr>\n",
       "    <tr>\n",
       "      <td>2</td>\n",
       "      <td>1</td>\n",
       "      <td>0</td>\n",
       "      <td>3.8</td>\n",
       "      <td>1</td>\n",
       "      <td>Banashankari</td>\n",
       "      <td>cafe,casualdining</td>\n",
       "      <td>cafe,mexican,italian</td>\n",
       "      <td>800.0</td>\n",
       "      <td>Banashankari</td>\n",
       "    </tr>\n",
       "    <tr>\n",
       "      <td>3</td>\n",
       "      <td>0</td>\n",
       "      <td>0</td>\n",
       "      <td>3.7</td>\n",
       "      <td>0</td>\n",
       "      <td>Banashankari</td>\n",
       "      <td>quickbites</td>\n",
       "      <td>southindian,northindian</td>\n",
       "      <td>300.0</td>\n",
       "      <td>Banashankari</td>\n",
       "    </tr>\n",
       "    <tr>\n",
       "      <td>4</td>\n",
       "      <td>0</td>\n",
       "      <td>0</td>\n",
       "      <td>3.8</td>\n",
       "      <td>1</td>\n",
       "      <td>Basavanagudi</td>\n",
       "      <td>casualdining</td>\n",
       "      <td>northindian,rajasthani</td>\n",
       "      <td>600.0</td>\n",
       "      <td>Banashankari</td>\n",
       "    </tr>\n",
       "  </tbody>\n",
       "</table>\n",
       "</div>"
      ],
      "text/plain": [
       "   online_order  book_table  rating  phone      location          rest_type  \\\n",
       "0             1           1     4.1      2  Banashankari       casualdining   \n",
       "1             1           0     4.1      1  Banashankari       casualdining   \n",
       "2             1           0     3.8      1  Banashankari  cafe,casualdining   \n",
       "3             0           0     3.7      0  Banashankari         quickbites   \n",
       "4             0           0     3.8      1  Basavanagudi       casualdining   \n",
       "\n",
       "                      cuisines  average_cost          city  \n",
       "0  northindian,mughlai,chinese         800.0  Banashankari  \n",
       "1     chinese,northindian,thai         800.0  Banashankari  \n",
       "2         cafe,mexican,italian         800.0  Banashankari  \n",
       "3      southindian,northindian         300.0  Banashankari  \n",
       "4       northindian,rajasthani         600.0  Banashankari  "
      ]
     },
     "execution_count": 68,
     "metadata": {},
     "output_type": "execute_result"
    }
   ],
   "source": [
    "data.head(5)"
   ]
  },
  {
   "cell_type": "code",
   "execution_count": 69,
   "metadata": {},
   "outputs": [],
   "source": [
    "#dropping column city as we have similar data in location\n",
    "data.drop(columns=['city'],inplace=True)"
   ]
  },
  {
   "cell_type": "code",
   "execution_count": 70,
   "metadata": {},
   "outputs": [
    {
     "data": {
      "text/plain": [
       "Index(['online_order', 'book_table', 'rating', 'phone', 'location',\n",
       "       'rest_type', 'cuisines', 'average_cost'],\n",
       "      dtype='object')"
      ]
     },
     "execution_count": 70,
     "metadata": {},
     "output_type": "execute_result"
    }
   ],
   "source": [
    "data.head(5)\n",
    "columns= data.columns\n",
    "columns"
   ]
  },
  {
   "cell_type": "code",
   "execution_count": 71,
   "metadata": {},
   "outputs": [],
   "source": [
    "#this fuction will search the parttern of multivalued columns and spit it accordingly\n",
    "import re\n",
    "def split_ (col, regExp):\n",
    "    \n",
    "    if re.search(regExp, col) is not None:\n",
    "        return 1\n",
    "    else: \n",
    "        return 0\n",
    "\n",
    "\n",
    "\n"
   ]
  },
  {
   "cell_type": "code",
   "execution_count": 72,
   "metadata": {},
   "outputs": [],
   "source": [
    "#spliting cusisines\n",
    "def split_cusines(data,column,regex):\n",
    "    for col,re in zip(column,regex):\n",
    "       data[col] = data.apply(lambda x: split_(x.cuisines,re), axis=1)\n",
    "    \n",
    "    \n",
    "    \n",
    "    "
   ]
  },
  {
   "cell_type": "code",
   "execution_count": 73,
   "metadata": {},
   "outputs": [],
   "source": [
    "#spliting rest_type\n",
    "def split_rest(data,column,regex):\n",
    "    for col,re in zip(column,regex):\n",
    "       data[col] = data.apply(lambda x: split_(x.rest_type,re), axis=1)\n",
    "    \n",
    "    \n",
    "    "
   ]
  },
  {
   "cell_type": "code",
   "execution_count": 74,
   "metadata": {},
   "outputs": [],
   "source": [
    "#collumn names for cusines\n",
    "cuisines_type_col=('north_indian','mughalai_dish','chinese_food','thai',\n",
    "                   'fast_food','mexican','italian','southindian','rajasthani',\n",
    "                   'andhra','continental','european','drinks','american','bakery','desserts',\n",
    "                   'biryani','asian','korean','indonesian','japnis','goan','seafood','steak',\n",
    "                   'iranian','mangalorean','vietnamese','hyderabadi','bengali','arabian',\n",
    "                   'bbq_chicken','afghani','lebanese','fingerfood','tibetan','middleeastern',\n",
    "                   'mediterranean','kerala','oriya','african','modernindian','nepalese','maharashtrian',\n",
    "                   'gujarati','tamil','turkish','afghan','lucknowi','australian','malaysian','burmese',\n",
    "                   'portuguese','parsi','greek','barfood','awadhi','naga','kashmiri','assamese',\n",
    "                   'srilankan','mongolian','british','german','paan','russian','jewish','vegan',\n",
    "                   'rawmeats','sindhi','healthy_food')\n",
    "\n",
    "#tuple of  diff restaurants\n",
    "cuisines_type_str=('northindian|northeastern|bihari','mughlai|bohri|kebab','chinese|momos|cantonese|singaporean','thai','cafe|fastfood|sandwich|hotdogs|streetfood|rolls|belgian|wraps',\n",
    "                   'mexican|tex-mex','italian|pizza','southindian','rajasthani','andhra','continental|spanish|french','european',\n",
    "                   'bubbletea|tea|coffee|drinksonly|juices|beverages','american|southamerican','bakery','icecream|desserts|mithai','biryani',\n",
    "                   'asian|panasian','korean','indonesian','japanese|sushi','goan','seafood','steak','iranian','mangalorean',\n",
    "                   'vietnamese','hyderabadi','bengali','arabian','bbq|charcoalchicken|roastchicken|grill','afghani','lebanese','fingerfood','tibetan','middleeastern','mediterranean',\n",
    "                   'kerala','oriya','african','modernindian','nepalese','maharashtrian|konkan','tamil|chettinad','gujarati','turkish','afghan','lucknowi','australian','malaysian',\n",
    "                   'burmese','portuguese','parsi','greek','barfood','awadhi','naga','kashmiri','assamese','srilankan','mongolian','british','german','paan','russian',\n",
    "                   'jewish','vegan','rawmeats','sindhi','healthyfood|salad')\n",
    "\n"
   ]
  },
  {
   "cell_type": "code",
   "execution_count": 75,
   "metadata": {},
   "outputs": [],
   "source": [
    "split_cusines(data,cuisines_type_col,cuisines_type_str)"
   ]
  },
  {
   "cell_type": "code",
   "execution_count": 76,
   "metadata": {},
   "outputs": [
    {
     "data": {
      "text/html": [
       "<div>\n",
       "<style scoped>\n",
       "    .dataframe tbody tr th:only-of-type {\n",
       "        vertical-align: middle;\n",
       "    }\n",
       "\n",
       "    .dataframe tbody tr th {\n",
       "        vertical-align: top;\n",
       "    }\n",
       "\n",
       "    .dataframe thead th {\n",
       "        text-align: right;\n",
       "    }\n",
       "</style>\n",
       "<table border=\"1\" class=\"dataframe\">\n",
       "  <thead>\n",
       "    <tr style=\"text-align: right;\">\n",
       "      <th></th>\n",
       "      <th>online_order</th>\n",
       "      <th>book_table</th>\n",
       "      <th>rating</th>\n",
       "      <th>phone</th>\n",
       "      <th>location</th>\n",
       "      <th>rest_type</th>\n",
       "      <th>cuisines</th>\n",
       "      <th>average_cost</th>\n",
       "      <th>north_indian</th>\n",
       "      <th>mughalai_dish</th>\n",
       "      <th>...</th>\n",
       "      <th>mongolian</th>\n",
       "      <th>british</th>\n",
       "      <th>german</th>\n",
       "      <th>paan</th>\n",
       "      <th>russian</th>\n",
       "      <th>jewish</th>\n",
       "      <th>vegan</th>\n",
       "      <th>rawmeats</th>\n",
       "      <th>sindhi</th>\n",
       "      <th>healthy_food</th>\n",
       "    </tr>\n",
       "  </thead>\n",
       "  <tbody>\n",
       "    <tr>\n",
       "      <td>51637</td>\n",
       "      <td>0</td>\n",
       "      <td>0</td>\n",
       "      <td>3.3</td>\n",
       "      <td>1</td>\n",
       "      <td>Brookefield</td>\n",
       "      <td>beverageshop</td>\n",
       "      <td>beverages</td>\n",
       "      <td>300.0</td>\n",
       "      <td>0</td>\n",
       "      <td>0</td>\n",
       "      <td>...</td>\n",
       "      <td>0</td>\n",
       "      <td>0</td>\n",
       "      <td>0</td>\n",
       "      <td>0</td>\n",
       "      <td>0</td>\n",
       "      <td>0</td>\n",
       "      <td>0</td>\n",
       "      <td>0</td>\n",
       "      <td>0</td>\n",
       "      <td>0</td>\n",
       "    </tr>\n",
       "    <tr>\n",
       "      <td>51641</td>\n",
       "      <td>0</td>\n",
       "      <td>0</td>\n",
       "      <td>3.2</td>\n",
       "      <td>0</td>\n",
       "      <td>Brookefield</td>\n",
       "      <td>quickbites</td>\n",
       "      <td>andhra,chinese,southindian</td>\n",
       "      <td>NaN</td>\n",
       "      <td>0</td>\n",
       "      <td>0</td>\n",
       "      <td>...</td>\n",
       "      <td>0</td>\n",
       "      <td>0</td>\n",
       "      <td>0</td>\n",
       "      <td>0</td>\n",
       "      <td>0</td>\n",
       "      <td>0</td>\n",
       "      <td>0</td>\n",
       "      <td>0</td>\n",
       "      <td>0</td>\n",
       "      <td>0</td>\n",
       "    </tr>\n",
       "    <tr>\n",
       "      <td>51677</td>\n",
       "      <td>0</td>\n",
       "      <td>0</td>\n",
       "      <td>2.5</td>\n",
       "      <td>1</td>\n",
       "      <td>Whitefield</td>\n",
       "      <td>casualdining,bar</td>\n",
       "      <td>andhra,southindian,chinese,northindian</td>\n",
       "      <td>800.0</td>\n",
       "      <td>1</td>\n",
       "      <td>0</td>\n",
       "      <td>...</td>\n",
       "      <td>0</td>\n",
       "      <td>0</td>\n",
       "      <td>0</td>\n",
       "      <td>0</td>\n",
       "      <td>0</td>\n",
       "      <td>0</td>\n",
       "      <td>0</td>\n",
       "      <td>0</td>\n",
       "      <td>0</td>\n",
       "      <td>0</td>\n",
       "    </tr>\n",
       "  </tbody>\n",
       "</table>\n",
       "<p>3 rows × 78 columns</p>\n",
       "</div>"
      ],
      "text/plain": [
       "       online_order  book_table  rating  phone     location         rest_type  \\\n",
       "51637             0           0     3.3      1  Brookefield      beverageshop   \n",
       "51641             0           0     3.2      0  Brookefield        quickbites   \n",
       "51677             0           0     2.5      1   Whitefield  casualdining,bar   \n",
       "\n",
       "                                     cuisines  average_cost  north_indian  \\\n",
       "51637                               beverages         300.0             0   \n",
       "51641              andhra,chinese,southindian           NaN             0   \n",
       "51677  andhra,southindian,chinese,northindian         800.0             1   \n",
       "\n",
       "       mughalai_dish  ...  mongolian  british  german  paan  russian  jewish  \\\n",
       "51637              0  ...          0        0       0     0        0       0   \n",
       "51641              0  ...          0        0       0     0        0       0   \n",
       "51677              0  ...          0        0       0     0        0       0   \n",
       "\n",
       "       vegan  rawmeats  sindhi  healthy_food  \n",
       "51637      0         0       0             0  \n",
       "51641      0         0       0             0  \n",
       "51677      0         0       0             0  \n",
       "\n",
       "[3 rows x 78 columns]"
      ]
     },
     "execution_count": 76,
     "metadata": {},
     "output_type": "execute_result"
    }
   ],
   "source": [
    "data.tail(3)"
   ]
  },
  {
   "cell_type": "code",
   "execution_count": 77,
   "metadata": {},
   "outputs": [],
   "source": [
    "#collumn names for rest_type\n",
    "rest_type_col= ('dining','dhaba','food_outlets','bakery','sweetshop','cafe','quickbites','dessertparlor','mess','clubs',\n",
    "             'beverageshop','delivery','takeaway','popup','meatshop')\n",
    "#tuple of  diff rest_type\n",
    "rest_type_str =('casualdining|finedining','dhaba','foodtruck|foodcourt|kiosk','bakery','sweetshop|confectionery',\n",
    "                'cafe|iranicafee','quickbites','dessertparlor','bhojanalya|mess','lounge|club|bar|pub','beverageshop',\n",
    "                'delivery','takeaway','popup','meatshop')\n"
   ]
  },
  {
   "cell_type": "code",
   "execution_count": 78,
   "metadata": {},
   "outputs": [],
   "source": [
    "split_rest(data,rest_type_col,rest_type_str)"
   ]
  },
  {
   "cell_type": "code",
   "execution_count": 79,
   "metadata": {},
   "outputs": [
    {
     "data": {
      "text/html": [
       "<div>\n",
       "<style scoped>\n",
       "    .dataframe tbody tr th:only-of-type {\n",
       "        vertical-align: middle;\n",
       "    }\n",
       "\n",
       "    .dataframe tbody tr th {\n",
       "        vertical-align: top;\n",
       "    }\n",
       "\n",
       "    .dataframe thead th {\n",
       "        text-align: right;\n",
       "    }\n",
       "</style>\n",
       "<table border=\"1\" class=\"dataframe\">\n",
       "  <thead>\n",
       "    <tr style=\"text-align: right;\">\n",
       "      <th></th>\n",
       "      <th>online_order</th>\n",
       "      <th>book_table</th>\n",
       "      <th>rating</th>\n",
       "      <th>phone</th>\n",
       "      <th>location</th>\n",
       "      <th>rest_type</th>\n",
       "      <th>cuisines</th>\n",
       "      <th>average_cost</th>\n",
       "      <th>north_indian</th>\n",
       "      <th>mughalai_dish</th>\n",
       "      <th>...</th>\n",
       "      <th>cafe</th>\n",
       "      <th>quickbites</th>\n",
       "      <th>dessertparlor</th>\n",
       "      <th>mess</th>\n",
       "      <th>clubs</th>\n",
       "      <th>beverageshop</th>\n",
       "      <th>delivery</th>\n",
       "      <th>takeaway</th>\n",
       "      <th>popup</th>\n",
       "      <th>meatshop</th>\n",
       "    </tr>\n",
       "  </thead>\n",
       "  <tbody>\n",
       "    <tr>\n",
       "      <td>0</td>\n",
       "      <td>1</td>\n",
       "      <td>1</td>\n",
       "      <td>4.1</td>\n",
       "      <td>2</td>\n",
       "      <td>Banashankari</td>\n",
       "      <td>casualdining</td>\n",
       "      <td>northindian,mughlai,chinese</td>\n",
       "      <td>800.0</td>\n",
       "      <td>1</td>\n",
       "      <td>1</td>\n",
       "      <td>...</td>\n",
       "      <td>0</td>\n",
       "      <td>0</td>\n",
       "      <td>0</td>\n",
       "      <td>0</td>\n",
       "      <td>0</td>\n",
       "      <td>0</td>\n",
       "      <td>0</td>\n",
       "      <td>0</td>\n",
       "      <td>0</td>\n",
       "      <td>0</td>\n",
       "    </tr>\n",
       "    <tr>\n",
       "      <td>1</td>\n",
       "      <td>1</td>\n",
       "      <td>0</td>\n",
       "      <td>4.1</td>\n",
       "      <td>1</td>\n",
       "      <td>Banashankari</td>\n",
       "      <td>casualdining</td>\n",
       "      <td>chinese,northindian,thai</td>\n",
       "      <td>800.0</td>\n",
       "      <td>1</td>\n",
       "      <td>0</td>\n",
       "      <td>...</td>\n",
       "      <td>0</td>\n",
       "      <td>0</td>\n",
       "      <td>0</td>\n",
       "      <td>0</td>\n",
       "      <td>0</td>\n",
       "      <td>0</td>\n",
       "      <td>0</td>\n",
       "      <td>0</td>\n",
       "      <td>0</td>\n",
       "      <td>0</td>\n",
       "    </tr>\n",
       "    <tr>\n",
       "      <td>2</td>\n",
       "      <td>1</td>\n",
       "      <td>0</td>\n",
       "      <td>3.8</td>\n",
       "      <td>1</td>\n",
       "      <td>Banashankari</td>\n",
       "      <td>cafe,casualdining</td>\n",
       "      <td>cafe,mexican,italian</td>\n",
       "      <td>800.0</td>\n",
       "      <td>0</td>\n",
       "      <td>0</td>\n",
       "      <td>...</td>\n",
       "      <td>1</td>\n",
       "      <td>0</td>\n",
       "      <td>0</td>\n",
       "      <td>0</td>\n",
       "      <td>0</td>\n",
       "      <td>0</td>\n",
       "      <td>0</td>\n",
       "      <td>0</td>\n",
       "      <td>0</td>\n",
       "      <td>0</td>\n",
       "    </tr>\n",
       "  </tbody>\n",
       "</table>\n",
       "<p>3 rows × 92 columns</p>\n",
       "</div>"
      ],
      "text/plain": [
       "   online_order  book_table  rating  phone      location          rest_type  \\\n",
       "0             1           1     4.1      2  Banashankari       casualdining   \n",
       "1             1           0     4.1      1  Banashankari       casualdining   \n",
       "2             1           0     3.8      1  Banashankari  cafe,casualdining   \n",
       "\n",
       "                      cuisines  average_cost  north_indian  mughalai_dish  \\\n",
       "0  northindian,mughlai,chinese         800.0             1              1   \n",
       "1     chinese,northindian,thai         800.0             1              0   \n",
       "2         cafe,mexican,italian         800.0             0              0   \n",
       "\n",
       "   ...  cafe  quickbites  dessertparlor  mess  clubs  beverageshop  delivery  \\\n",
       "0  ...     0           0              0     0      0             0         0   \n",
       "1  ...     0           0              0     0      0             0         0   \n",
       "2  ...     1           0              0     0      0             0         0   \n",
       "\n",
       "   takeaway  popup  meatshop  \n",
       "0         0      0         0  \n",
       "1         0      0         0  \n",
       "2         0      0         0  \n",
       "\n",
       "[3 rows x 92 columns]"
      ]
     },
     "execution_count": 79,
     "metadata": {},
     "output_type": "execute_result"
    }
   ],
   "source": [
    "data.head(3)"
   ]
  },
  {
   "cell_type": "code",
   "execution_count": 80,
   "metadata": {},
   "outputs": [],
   "source": [
    "#droping columns'rest_type' and 'cuisines'\n",
    "data.drop(columns=['rest_type','cuisines'], inplace  =True)\n"
   ]
  },
  {
   "cell_type": "code",
   "execution_count": 81,
   "metadata": {},
   "outputs": [],
   "source": [
    "#One-hot encoding on location\n",
    "data_df1 = pd.get_dummies(data, drop_first=True)"
   ]
  },
  {
   "cell_type": "code",
   "execution_count": 82,
   "metadata": {},
   "outputs": [
    {
     "data": {
      "text/plain": [
       "Index(['online_order', 'book_table', 'rating', 'phone', 'average_cost',\n",
       "       'north_indian', 'mughalai_dish', 'chinese_food', 'thai', 'fast_food',\n",
       "       ...\n",
       "       'location_Ulsoor', 'location_Uttarahalli',\n",
       "       'location_Varthur Main Road, Whitefield', 'location_Vasanth Nagar',\n",
       "       'location_Vijay Nagar', 'location_West Bangalore',\n",
       "       'location_Whitefield', 'location_Wilson Garden', 'location_Yelahanka',\n",
       "       'location_Yeshwantpur'],\n",
       "      dtype='object', length=180)"
      ]
     },
     "execution_count": 82,
     "metadata": {},
     "output_type": "execute_result"
    }
   ],
   "source": [
    "data_df1.columns"
   ]
  },
  {
   "cell_type": "markdown",
   "metadata": {},
   "source": [
    "### Handling missing values"
   ]
  },
  {
   "cell_type": "code",
   "execution_count": 83,
   "metadata": {},
   "outputs": [
    {
     "data": {
      "text/plain": [
       "154"
      ]
     },
     "execution_count": 83,
     "metadata": {},
     "output_type": "execute_result"
    }
   ],
   "source": [
    "data_df1['average_cost'].isna().sum()"
   ]
  },
  {
   "cell_type": "code",
   "execution_count": 84,
   "metadata": {},
   "outputs": [],
   "source": [
    "#Filling missing values in average cost by KNN imputations\n",
    "imputer = KNNImputer(n_neighbors=3)\n",
    "data_imputed=imputer.fit_transform(data_df1)"
   ]
  },
  {
   "cell_type": "code",
   "execution_count": 85,
   "metadata": {},
   "outputs": [],
   "source": [
    "zomato_df = pd.DataFrame(data_imputed,\n",
    "                              columns= data_df1.columns,\n",
    "                              index=data.index)"
   ]
  },
  {
   "cell_type": "code",
   "execution_count": 86,
   "metadata": {},
   "outputs": [
    {
     "data": {
      "text/plain": [
       "0"
      ]
     },
     "execution_count": 86,
     "metadata": {},
     "output_type": "execute_result"
    }
   ],
   "source": [
    "zomato_df.isnull().sum().sum()"
   ]
  },
  {
   "cell_type": "code",
   "execution_count": 87,
   "metadata": {},
   "outputs": [
    {
     "data": {
      "text/html": [
       "<div>\n",
       "<style scoped>\n",
       "    .dataframe tbody tr th:only-of-type {\n",
       "        vertical-align: middle;\n",
       "    }\n",
       "\n",
       "    .dataframe tbody tr th {\n",
       "        vertical-align: top;\n",
       "    }\n",
       "\n",
       "    .dataframe thead th {\n",
       "        text-align: right;\n",
       "    }\n",
       "</style>\n",
       "<table border=\"1\" class=\"dataframe\">\n",
       "  <thead>\n",
       "    <tr style=\"text-align: right;\">\n",
       "      <th></th>\n",
       "      <th>online_order</th>\n",
       "      <th>book_table</th>\n",
       "      <th>rating</th>\n",
       "      <th>phone</th>\n",
       "      <th>average_cost</th>\n",
       "      <th>north_indian</th>\n",
       "      <th>mughalai_dish</th>\n",
       "      <th>chinese_food</th>\n",
       "      <th>thai</th>\n",
       "      <th>fast_food</th>\n",
       "      <th>...</th>\n",
       "      <th>location_Ulsoor</th>\n",
       "      <th>location_Uttarahalli</th>\n",
       "      <th>location_Varthur Main Road, Whitefield</th>\n",
       "      <th>location_Vasanth Nagar</th>\n",
       "      <th>location_Vijay Nagar</th>\n",
       "      <th>location_West Bangalore</th>\n",
       "      <th>location_Whitefield</th>\n",
       "      <th>location_Wilson Garden</th>\n",
       "      <th>location_Yelahanka</th>\n",
       "      <th>location_Yeshwantpur</th>\n",
       "    </tr>\n",
       "  </thead>\n",
       "  <tbody>\n",
       "    <tr>\n",
       "      <td>0</td>\n",
       "      <td>1.0</td>\n",
       "      <td>1.0</td>\n",
       "      <td>4.1</td>\n",
       "      <td>2.0</td>\n",
       "      <td>800.0</td>\n",
       "      <td>1.0</td>\n",
       "      <td>1.0</td>\n",
       "      <td>1.0</td>\n",
       "      <td>0.0</td>\n",
       "      <td>0.0</td>\n",
       "      <td>...</td>\n",
       "      <td>0.0</td>\n",
       "      <td>0.0</td>\n",
       "      <td>0.0</td>\n",
       "      <td>0.0</td>\n",
       "      <td>0.0</td>\n",
       "      <td>0.0</td>\n",
       "      <td>0.0</td>\n",
       "      <td>0.0</td>\n",
       "      <td>0.0</td>\n",
       "      <td>0.0</td>\n",
       "    </tr>\n",
       "    <tr>\n",
       "      <td>1</td>\n",
       "      <td>1.0</td>\n",
       "      <td>0.0</td>\n",
       "      <td>4.1</td>\n",
       "      <td>1.0</td>\n",
       "      <td>800.0</td>\n",
       "      <td>1.0</td>\n",
       "      <td>0.0</td>\n",
       "      <td>1.0</td>\n",
       "      <td>1.0</td>\n",
       "      <td>0.0</td>\n",
       "      <td>...</td>\n",
       "      <td>0.0</td>\n",
       "      <td>0.0</td>\n",
       "      <td>0.0</td>\n",
       "      <td>0.0</td>\n",
       "      <td>0.0</td>\n",
       "      <td>0.0</td>\n",
       "      <td>0.0</td>\n",
       "      <td>0.0</td>\n",
       "      <td>0.0</td>\n",
       "      <td>0.0</td>\n",
       "    </tr>\n",
       "    <tr>\n",
       "      <td>2</td>\n",
       "      <td>1.0</td>\n",
       "      <td>0.0</td>\n",
       "      <td>3.8</td>\n",
       "      <td>1.0</td>\n",
       "      <td>800.0</td>\n",
       "      <td>0.0</td>\n",
       "      <td>0.0</td>\n",
       "      <td>0.0</td>\n",
       "      <td>0.0</td>\n",
       "      <td>1.0</td>\n",
       "      <td>...</td>\n",
       "      <td>0.0</td>\n",
       "      <td>0.0</td>\n",
       "      <td>0.0</td>\n",
       "      <td>0.0</td>\n",
       "      <td>0.0</td>\n",
       "      <td>0.0</td>\n",
       "      <td>0.0</td>\n",
       "      <td>0.0</td>\n",
       "      <td>0.0</td>\n",
       "      <td>0.0</td>\n",
       "    </tr>\n",
       "    <tr>\n",
       "      <td>3</td>\n",
       "      <td>0.0</td>\n",
       "      <td>0.0</td>\n",
       "      <td>3.7</td>\n",
       "      <td>0.0</td>\n",
       "      <td>300.0</td>\n",
       "      <td>1.0</td>\n",
       "      <td>0.0</td>\n",
       "      <td>0.0</td>\n",
       "      <td>0.0</td>\n",
       "      <td>0.0</td>\n",
       "      <td>...</td>\n",
       "      <td>0.0</td>\n",
       "      <td>0.0</td>\n",
       "      <td>0.0</td>\n",
       "      <td>0.0</td>\n",
       "      <td>0.0</td>\n",
       "      <td>0.0</td>\n",
       "      <td>0.0</td>\n",
       "      <td>0.0</td>\n",
       "      <td>0.0</td>\n",
       "      <td>0.0</td>\n",
       "    </tr>\n",
       "    <tr>\n",
       "      <td>4</td>\n",
       "      <td>0.0</td>\n",
       "      <td>0.0</td>\n",
       "      <td>3.8</td>\n",
       "      <td>1.0</td>\n",
       "      <td>600.0</td>\n",
       "      <td>1.0</td>\n",
       "      <td>0.0</td>\n",
       "      <td>0.0</td>\n",
       "      <td>0.0</td>\n",
       "      <td>0.0</td>\n",
       "      <td>...</td>\n",
       "      <td>0.0</td>\n",
       "      <td>0.0</td>\n",
       "      <td>0.0</td>\n",
       "      <td>0.0</td>\n",
       "      <td>0.0</td>\n",
       "      <td>0.0</td>\n",
       "      <td>0.0</td>\n",
       "      <td>0.0</td>\n",
       "      <td>0.0</td>\n",
       "      <td>0.0</td>\n",
       "    </tr>\n",
       "  </tbody>\n",
       "</table>\n",
       "<p>5 rows × 180 columns</p>\n",
       "</div>"
      ],
      "text/plain": [
       "   online_order  book_table  rating  phone  average_cost  north_indian  \\\n",
       "0           1.0         1.0     4.1    2.0         800.0           1.0   \n",
       "1           1.0         0.0     4.1    1.0         800.0           1.0   \n",
       "2           1.0         0.0     3.8    1.0         800.0           0.0   \n",
       "3           0.0         0.0     3.7    0.0         300.0           1.0   \n",
       "4           0.0         0.0     3.8    1.0         600.0           1.0   \n",
       "\n",
       "   mughalai_dish  chinese_food  thai  fast_food  ...  location_Ulsoor  \\\n",
       "0            1.0           1.0   0.0        0.0  ...              0.0   \n",
       "1            0.0           1.0   1.0        0.0  ...              0.0   \n",
       "2            0.0           0.0   0.0        1.0  ...              0.0   \n",
       "3            0.0           0.0   0.0        0.0  ...              0.0   \n",
       "4            0.0           0.0   0.0        0.0  ...              0.0   \n",
       "\n",
       "   location_Uttarahalli  location_Varthur Main Road, Whitefield  \\\n",
       "0                   0.0                                     0.0   \n",
       "1                   0.0                                     0.0   \n",
       "2                   0.0                                     0.0   \n",
       "3                   0.0                                     0.0   \n",
       "4                   0.0                                     0.0   \n",
       "\n",
       "   location_Vasanth Nagar  location_Vijay Nagar  location_West Bangalore  \\\n",
       "0                     0.0                   0.0                      0.0   \n",
       "1                     0.0                   0.0                      0.0   \n",
       "2                     0.0                   0.0                      0.0   \n",
       "3                     0.0                   0.0                      0.0   \n",
       "4                     0.0                   0.0                      0.0   \n",
       "\n",
       "   location_Whitefield  location_Wilson Garden  location_Yelahanka  \\\n",
       "0                  0.0                     0.0                 0.0   \n",
       "1                  0.0                     0.0                 0.0   \n",
       "2                  0.0                     0.0                 0.0   \n",
       "3                  0.0                     0.0                 0.0   \n",
       "4                  0.0                     0.0                 0.0   \n",
       "\n",
       "   location_Yeshwantpur  \n",
       "0                   0.0  \n",
       "1                   0.0  \n",
       "2                   0.0  \n",
       "3                   0.0  \n",
       "4                   0.0  \n",
       "\n",
       "[5 rows x 180 columns]"
      ]
     },
     "execution_count": 87,
     "metadata": {},
     "output_type": "execute_result"
    }
   ],
   "source": [
    "zomato_df.head()"
   ]
  },
  {
   "cell_type": "code",
   "execution_count": 88,
   "metadata": {},
   "outputs": [
    {
     "data": {
      "text/plain": [
       "(29024, 180)"
      ]
     },
     "execution_count": 88,
     "metadata": {},
     "output_type": "execute_result"
    }
   ],
   "source": [
    "#shape of preprocessed dataset\n",
    "data_df1.shape"
   ]
  },
  {
   "cell_type": "markdown",
   "metadata": {},
   "source": [
    "###### build X & y dataset"
   ]
  },
  {
   "cell_type": "code",
   "execution_count": 89,
   "metadata": {},
   "outputs": [],
   "source": [
    "X = zomato_df.drop(columns=['rating'])\n",
    "y = zomato_df.iloc[:,2]\n"
   ]
  },
  {
   "cell_type": "code",
   "execution_count": 90,
   "metadata": {},
   "outputs": [
    {
     "data": {
      "text/plain": [
       "(29024, 179)"
      ]
     },
     "execution_count": 90,
     "metadata": {},
     "output_type": "execute_result"
    }
   ],
   "source": [
    "X.shape"
   ]
  },
  {
   "cell_type": "markdown",
   "metadata": {},
   "source": [
    "#### Train test split"
   ]
  },
  {
   "cell_type": "code",
   "execution_count": 91,
   "metadata": {},
   "outputs": [],
   "source": [
    "\n",
    "X_train, X_test, y_train, y_test = train_test_split(X, y,test_size = 0.3, \n",
    "                                                    random_state=2021)\n"
   ]
  },
  {
   "cell_type": "markdown",
   "metadata": {},
   "source": [
    "### Model Buliding"
   ]
  },
  {
   "cell_type": "code",
   "execution_count": 92,
   "metadata": {},
   "outputs": [],
   "source": [
    "r2score= []\n",
    "algo= []\n",
    "tune=[]"
   ]
  },
  {
   "cell_type": "markdown",
   "metadata": {},
   "source": [
    "### Linear Regression"
   ]
  },
  {
   "cell_type": "code",
   "execution_count": 93,
   "metadata": {},
   "outputs": [
    {
     "name": "stdout",
     "output_type": "stream",
     "text": [
      "r2 score:  0.3299737655132876\n",
      "MSE :  0.1283790487099604\n"
     ]
    }
   ],
   "source": [
    "regressor = LinearRegression()\n",
    "\n",
    "regressor.fit(X_train,y_train)\n",
    "y_pred = regressor.predict(X_test)\n",
    "from sklearn.metrics import mean_squared_error,mean_absolute_error,r2_score\n",
    "r2score.append(r2_score(y_test, y_pred))\n",
    "algo.append(\"linear_reg\")\n",
    "tune.append(\"without\")\n",
    "print(\"r2 score: \",r2_score(y_test, y_pred))\n",
    "print(\"MSE : \",mean_squared_error(y_test, y_pred) )\n",
    "\n"
   ]
  },
  {
   "cell_type": "code",
   "execution_count": 94,
   "metadata": {},
   "outputs": [
    {
     "name": "stdout",
     "output_type": "stream",
     "text": [
      "[0.32857244 0.31616622 0.32689985 0.31896078 0.2998541 ]\n",
      "R-Squared: 0.32\n"
     ]
    }
   ],
   "source": [
    "#liner regression using cross validation\n",
    "regressor = LinearRegression()\n",
    "\n",
    "kfold = KFold(n_splits=5, random_state=2021,shuffle=True)\n",
    "results = cross_val_score(regressor, X, y, cv=kfold, \n",
    "                          scoring='r2')\n",
    "R2 = results\n",
    "print(R2)\n",
    "print(\"R-Squared: %.2f\" % (R2.mean()))\n",
    "r2score.append(R2.mean())\n",
    "algo.append(\"linear_reg\")\n",
    "tune.append(\"with\")"
   ]
  },
  {
   "cell_type": "markdown",
   "metadata": {},
   "source": [
    "## Decision tree"
   ]
  },
  {
   "cell_type": "code",
   "execution_count": 95,
   "metadata": {},
   "outputs": [
    {
     "name": "stdout",
     "output_type": "stream",
     "text": [
      "r2 score:  0.7289471360191726\n",
      "MSE :  0.051934546793718124\n"
     ]
    }
   ],
   "source": [
    "#Decision tree\n",
    "from sklearn.tree import DecisionTreeRegressor\n",
    "clf = DecisionTreeRegressor(random_state=2020)\n",
    "clf2 = clf.fit(X_train, y_train)\n",
    "y_pred = clf2.predict(X_test)\n",
    "\n",
    "from sklearn.metrics import mean_squared_error,mean_absolute_error,r2_score\n",
    "print(\"r2 score: \",r2_score(y_test, y_pred))\n",
    "print(\"MSE : \",mean_squared_error(y_test, y_pred) )\n",
    "\n",
    "algo.append(\"decision_tree\")\n",
    "tune.append(\"without\")\n",
    "r2score.append(r2_score(y_test, y_pred))\n"
   ]
  },
  {
   "cell_type": "code",
   "execution_count": 96,
   "metadata": {},
   "outputs": [
    {
     "name": "stdout",
     "output_type": "stream",
     "text": [
      "{'max_depth': 120.0}\n",
      "0.7637340621733845\n"
     ]
    }
   ],
   "source": [
    "#tuning Descision tree\n",
    "depth_range = np.linspace(10,1000,10)\n",
    "\n",
    "parameters = dict(max_depth=depth_range)\n",
    "from sklearn.model_selection import KFold\n",
    "kfold = KFold(n_splits=5, random_state=2021,shuffle=True)\n",
    "\n",
    "clf = DecisionTreeRegressor(random_state=2020)\n",
    "cv = RandomizedSearchCV(clf, param_distributions=parameters,\n",
    "                  cv=kfold,scoring='r2',n_iter=20)\n",
    "cv.fit(X,y)\n",
    "# Best Parameters\n",
    "print(cv.best_params_)\n",
    "print(cv.best_score_)\n",
    "cv.best_estimator_\n",
    "algo.append(\"decision_tree\")\n",
    "tune.append(\"with\")\n",
    "r2score.append(cv.best_score_)"
   ]
  },
  {
   "cell_type": "markdown",
   "metadata": {},
   "source": [
    "## Random Forest Regressor"
   ]
  },
  {
   "cell_type": "code",
   "execution_count": 97,
   "metadata": {},
   "outputs": [
    {
     "name": "stdout",
     "output_type": "stream",
     "text": [
      "r2 score:  0.7953052907093271\n",
      "MSE :  0.039220124081902084\n"
     ]
    }
   ],
   "source": [
    "#Random Forest\n",
    "model_rf = RandomForestRegressor(random_state=2021)\n",
    "model_rf.fit( X_train , y_train )\n",
    "y_pred = model_rf.predict(X_test)\n",
    "\n",
    "\n",
    "from sklearn.metrics import mean_squared_error,mean_absolute_error,r2_score\n",
    "print(\"r2 score: \",r2_score(y_test, y_pred))\n",
    "print(\"MSE : \",mean_squared_error(y_test, y_pred))\n",
    "algo.append(\"Random_Forest\")\n",
    "tune.append(\"without\")\n",
    "r2score.append(r2_score(y_test, y_pred))"
   ]
  },
  {
   "cell_type": "code",
   "execution_count": 98,
   "metadata": {},
   "outputs": [
    {
     "name": "stdout",
     "output_type": "stream",
     "text": [
      "{'n_estimators': 500, 'max_features': 14}\n",
      "0.8301264857154717\n",
      "RandomForestRegressor(max_features=14, n_estimators=500, random_state=2021)\n"
     ]
    }
   ],
   "source": [
    "#hyper paramerter tuning for Random Forest\n",
    "\n",
    "scores= [\"r2\",\"neg_mean_squared_error\"]\n",
    "n_est_range = [100,200,300,350,400,500]\n",
    "\n",
    "parameters = {'n_estimators':n_est_range,\n",
    "            'max_features': np.arange(10,30)\n",
    "             }\n",
    "from sklearn.model_selection import KFold\n",
    "kfold = KFold(n_splits=5, random_state=2021,shuffle=True)\n",
    "model_rf = RandomForestRegressor(random_state=2021)\n",
    "\n",
    "cv = RandomizedSearchCV(model_rf, param_distributions=parameters,cv=kfold,scoring='r2',n_iter=20)\n",
    "cv.fit( X, y )\n",
    "results_df = pd.DataFrame(cv.cv_results_  )\n",
    "print(cv.best_params_)\n",
    "print(cv.best_score_)\n",
    "print(cv.best_estimator_)\n",
    "\n",
    "algo.append(\"Random_Forest\")\n",
    "tune.append(\"with\")\n",
    "r2score.append(cv.best_score_)   \n"
   ]
  },
  {
   "cell_type": "markdown",
   "metadata": {},
   "source": [
    "## XGBoost"
   ]
  },
  {
   "cell_type": "code",
   "execution_count": 99,
   "metadata": {},
   "outputs": [
    {
     "name": "stdout",
     "output_type": "stream",
     "text": [
      "[02:52:07] WARNING: src/objective/regression_obj.cu:152: reg:linear is now deprecated in favor of reg:squarederror.\n",
      "r2 score:  0.3470854877922186\n",
      "MSE :  0.12510039107703788\n"
     ]
    }
   ],
   "source": [
    "#XGBoost\n",
    "from xgboost import XGBRegressor\n",
    "clf = XGBRegressor(random_state=2021)\n",
    "clf.fit(X_train,y_train)\n",
    "y_pred = clf.predict(X_test)\n",
    "\n",
    "from sklearn.metrics import mean_squared_error,mean_absolute_error,r2_score\n",
    "print(\"r2 score: \",r2_score(y_test, y_pred))\n",
    "print(\"MSE : \",mean_squared_error(y_test, y_pred))\n",
    "\n",
    "algo.append(\"XGBoost\")\n",
    "tune.append(\"without\")\n",
    "r2score.append(r2_score(y_test, y_pred))  "
   ]
  },
  {
   "cell_type": "code",
   "execution_count": 100,
   "metadata": {},
   "outputs": [
    {
     "name": "stdout",
     "output_type": "stream",
     "text": [
      "Fitting 5 folds for each of 20 candidates, totalling 100 fits\n"
     ]
    },
    {
     "name": "stderr",
     "output_type": "stream",
     "text": [
      "[Parallel(n_jobs=1)]: Using backend SequentialBackend with 1 concurrent workers.\n",
      "[Parallel(n_jobs=1)]: Done 100 out of 100 | elapsed: 31.0min finished\n"
     ]
    },
    {
     "name": "stdout",
     "output_type": "stream",
     "text": [
      "{'n_estimators': 100, 'max_depth': 20, 'learning_rate': 0.3}\n",
      "0.8156705323406166\n"
     ]
    }
   ],
   "source": [
    "#xgboost tuning\n",
    "lr_range = [0.1, 0.2,0.25, 0.3]\n",
    "n_est_range = [10,20,30,50,100]\n",
    "md_range = [8,10,15,20]\n",
    "\n",
    "parameters = dict(learning_rate=lr_range,\n",
    "                  n_estimators=n_est_range,\n",
    "                  max_depth=md_range)\n",
    "xg = XGBRegressor(random_state=2021,silent = True)\n",
    "cv = RandomizedSearchCV(xg, param_distributions=parameters,\n",
    "                  cv=kfold,scoring='r2',n_iter=20,verbose=1)\n",
    "cv.fit(X,y)\n",
    "print(cv.best_params_)\n",
    "print(cv.best_score_)\n",
    "\n",
    "algo.append(\"XGBoost\")\n",
    "tune.append(\"with\")\n",
    "r2score.append(cv.best_score_) "
   ]
  },
  {
   "cell_type": "code",
   "execution_count": 101,
   "metadata": {},
   "outputs": [
    {
     "data": {
      "text/html": [
       "<div>\n",
       "<style scoped>\n",
       "    .dataframe tbody tr th:only-of-type {\n",
       "        vertical-align: middle;\n",
       "    }\n",
       "\n",
       "    .dataframe tbody tr th {\n",
       "        vertical-align: top;\n",
       "    }\n",
       "\n",
       "    .dataframe thead th {\n",
       "        text-align: right;\n",
       "    }\n",
       "</style>\n",
       "<table border=\"1\" class=\"dataframe\">\n",
       "  <thead>\n",
       "    <tr style=\"text-align: right;\">\n",
       "      <th></th>\n",
       "      <th>algo</th>\n",
       "      <th>tune</th>\n",
       "      <th>r2score</th>\n",
       "    </tr>\n",
       "  </thead>\n",
       "  <tbody>\n",
       "    <tr>\n",
       "      <td>0</td>\n",
       "      <td>linear_reg</td>\n",
       "      <td>without</td>\n",
       "      <td>0.329974</td>\n",
       "    </tr>\n",
       "    <tr>\n",
       "      <td>1</td>\n",
       "      <td>linear_reg</td>\n",
       "      <td>with</td>\n",
       "      <td>0.318091</td>\n",
       "    </tr>\n",
       "    <tr>\n",
       "      <td>2</td>\n",
       "      <td>decision_tree</td>\n",
       "      <td>without</td>\n",
       "      <td>0.728947</td>\n",
       "    </tr>\n",
       "    <tr>\n",
       "      <td>3</td>\n",
       "      <td>decision_tree</td>\n",
       "      <td>with</td>\n",
       "      <td>0.763734</td>\n",
       "    </tr>\n",
       "    <tr>\n",
       "      <td>4</td>\n",
       "      <td>Random_Forest</td>\n",
       "      <td>without</td>\n",
       "      <td>0.795305</td>\n",
       "    </tr>\n",
       "    <tr>\n",
       "      <td>5</td>\n",
       "      <td>Random_Forest</td>\n",
       "      <td>with</td>\n",
       "      <td>0.830126</td>\n",
       "    </tr>\n",
       "    <tr>\n",
       "      <td>6</td>\n",
       "      <td>XGBoost</td>\n",
       "      <td>without</td>\n",
       "      <td>0.347085</td>\n",
       "    </tr>\n",
       "    <tr>\n",
       "      <td>7</td>\n",
       "      <td>XGBoost</td>\n",
       "      <td>with</td>\n",
       "      <td>0.815671</td>\n",
       "    </tr>\n",
       "  </tbody>\n",
       "</table>\n",
       "</div>"
      ],
      "text/plain": [
       "            algo     tune   r2score\n",
       "0     linear_reg  without  0.329974\n",
       "1     linear_reg     with  0.318091\n",
       "2  decision_tree  without  0.728947\n",
       "3  decision_tree     with  0.763734\n",
       "4  Random_Forest  without  0.795305\n",
       "5  Random_Forest     with  0.830126\n",
       "6        XGBoost  without  0.347085\n",
       "7        XGBoost     with  0.815671"
      ]
     },
     "execution_count": 101,
     "metadata": {},
     "output_type": "execute_result"
    }
   ],
   "source": [
    "r2plot = pd.DataFrame({'algo': algo, 'tune': tune, 'r2score':r2score})\n",
    "r2plot"
   ]
  },
  {
   "cell_type": "code",
   "execution_count": 102,
   "metadata": {},
   "outputs": [
    {
     "data": {
      "text/plain": [
       "<matplotlib.axes._subplots.AxesSubplot at 0x233eb7d8988>"
      ]
     },
     "execution_count": 102,
     "metadata": {},
     "output_type": "execute_result"
    },
    {
     "data": {
      "image/png": "[encoded data removed]",
      "text/plain": [
       "<Figure size 432x288 with 1 Axes>"
      ]
     },
     "metadata": {},
     "output_type": "display_data"
    }
   ],
   "source": [
    "sns.barplot(data=r2plot, x='r2score', hue='tune', y='algo')"
   ]
  },
  {
   "cell_type": "markdown",
   "metadata": {},
   "source": [
    "Observation:\n",
    "- Without any tuning Random forest is givng r2 score as 0.79 and MSE as 0.03\n",
    "- So went ahead and tuned random forest and it is giving  r2score: 0.83"
   ]
  },
  {
   "cell_type": "markdown",
   "metadata": {},
   "source": [
    "## Testing"
   ]
  },
  {
   "cell_type": "code",
   "execution_count": 103,
   "metadata": {},
   "outputs": [],
   "source": [
    "#Random Forest\n",
    "model_rf = RandomForestRegressor(max_features=20, n_estimators=350, random_state=2021)\n",
    "model_rf.fit( X_train , y_train )\n",
    "y_pred = model_rf.predict(X_test)\n",
    "\n"
   ]
  },
  {
   "cell_type": "code",
   "execution_count": 104,
   "metadata": {},
   "outputs": [],
   "source": [
    "#saving the model\n",
    "import pickle\n",
    "filename='model_save'\n",
    "pickle.dump(model_rf,open(filename,'wb'))\n"
   ]
  },
  {
   "cell_type": "code",
   "execution_count": 105,
   "metadata": {},
   "outputs": [],
   "source": [
    "model=pickle.load(open('model_save','rb'))"
   ]
  },
  {
   "cell_type": "markdown",
   "metadata": {},
   "source": [
    "###### Testing on Dummy Data"
   ]
  },
  {
   "cell_type": "code",
   "execution_count": 106,
   "metadata": {},
   "outputs": [],
   "source": [
    "#list of cities\n",
    "#as we have performed one hot encoding on train data for testing even we need that amout of columns\n",
    "locations_col=('location_Banashankari', 'location_Banaswadi','location_Bannerghatta Road', 'location_Basavanagudi','location_Basaveshwara Nagar', 'location_Bellandur',\n",
    "       'location_Bommanahalli', 'location_Brigade Road','location_Brookefield', 'location_CV Raman Nagar','location_Central Bangalore', 'location_Church Street',\n",
    "       'location_City Market', 'location_Commercial Street','location_Cunningham Road', 'location_Domlur','location_East Bangalore', 'location_Ejipura',\n",
    "       'location_Electronic City', 'location_Frazer Town','location_HBR Layout', 'location_HSR', 'location_Hebbal','location_Hennur', 'location_Hosur Road','location_ITPL Main Road, Whitefield', 'location_Indiranagar',\n",
    "       'location_Infantry Road', 'location_JP Nagar', 'location_Jalahalli','location_Jayanagar', 'location_Jeevan Bhima Nagar','location_KR Puram', 'location_Kaggadasapura', 'location_Kalyan Nagar',\n",
    "       'location_Kammanahalli', 'location_Kanakapura Road', 'location_Kengeri','location_Koramangala', 'location_Koramangala 1st Block','location_Koramangala 2nd Block', 'location_Koramangala 3rd Block',\n",
    "       'location_Koramangala 4th Block', 'location_Koramangala 5th Block','location_Koramangala 6th Block', 'location_Koramangala 7th Block',\n",
    "       'location_Koramangala 8th Block', 'location_Kumaraswamy Layout','location_Langford Town', 'location_Lavelle Road', 'location_MG Road',\n",
    "       'location_Magadi Road', 'location_Majestic', 'location_Malleshwaram','location_Marathahalli', 'location_Mysore Road', 'location_Nagarbhavi',\n",
    "       'location_Nagawara', 'location_New BEL Road','location_North Bangalore', 'location_Old Airport Road','location_Old Madras Road', 'location_Peenya', 'location_RT Nagar',\n",
    "       'location_Race Course Road', 'location_Rajajinagar','location_Rajarajeshwari Nagar', 'location_Rammurthy Nagar','location_Residency Road', 'location_Richmond Road',\n",
    "       'location_Sadashiv Nagar', 'location_Sahakara Nagar','location_Sanjay Nagar', 'location_Sankey Road','location_Sarjapur Road', 'location_Seshadripuram',\n",
    "       'location_Shanti Nagar', 'location_Shivajinagar','location_South Bangalore', 'location_St. Marks Road','location_Thippasandra', 'location_Ulsoor', 'location_Uttarahalli',\n",
    "       'location_Varthur Main Road, Whitefield', 'location_Vasanth Nagar','location_Vijay Nagar', 'location_West Bangalore',\n",
    "       'location_Whitefield', 'location_Wilson Garden', 'location_Yelahanka','location_Yeshwantpur')\n",
    "\n",
    "\n"
   ]
  },
  {
   "cell_type": "code",
   "execution_count": 107,
   "metadata": {},
   "outputs": [],
   "source": [
    "#function to one hot encode locations data\n",
    "def split_location(data,column):\n",
    "    for col in column:\n",
    "       data[col] = data.apply(lambda x: split_(x.location,col), axis=1)\n",
    "    "
   ]
  },
  {
   "cell_type": "code",
   "execution_count": 108,
   "metadata": {},
   "outputs": [],
   "source": [
    "testing= [1,1,2,800,\"northindian,mughlai,chinese\",\"casualdining\",\"Banashankari\"]\n"
   ]
  },
  {
   "cell_type": "code",
   "execution_count": 109,
   "metadata": {},
   "outputs": [],
   "source": [
    "test_data=pd.DataFrame([testing],columns=['online_order', 'book_table', 'phone','average_cost','cuisines','rest_type','location'])"
   ]
  },
  {
   "cell_type": "code",
   "execution_count": 110,
   "metadata": {},
   "outputs": [],
   "source": [
    "#converting to lower case and replacing space with no space\n",
    "test_data['rest_type'] = test_data.apply(lambda x: lower_(x.rest_type), axis=1)\n",
    "test_data['cuisines'] = test_data.apply(lambda x: lower_(x.cuisines), axis=1)\n",
    "split_cusines(test_data,cuisines_type_col,cuisines_type_str)\n",
    "split_rest(test_data,rest_type_col,rest_type_str)\n",
    "split_location(test_data,locations_col)\n"
   ]
  },
  {
   "cell_type": "code",
   "execution_count": 111,
   "metadata": {},
   "outputs": [],
   "source": [
    "#droping columns'rest_type' and 'cuisines'\n",
    "test_data.drop(columns=['rest_type','cuisines','location'], inplace  =True)\n"
   ]
  },
  {
   "cell_type": "code",
   "execution_count": 112,
   "metadata": {},
   "outputs": [
    {
     "data": {
      "text/plain": [
       "(1, 179)"
      ]
     },
     "execution_count": 112,
     "metadata": {},
     "output_type": "execute_result"
    }
   ],
   "source": [
    "test_data.shape"
   ]
  },
  {
   "cell_type": "code",
   "execution_count": 113,
   "metadata": {},
   "outputs": [],
   "source": [
    "r=model.predict(test_data)"
   ]
  },
  {
   "cell_type": "code",
   "execution_count": 114,
   "metadata": {},
   "outputs": [
    {
     "name": "stdout",
     "output_type": "stream",
     "text": [
      "rating is :  3.98\n"
     ]
    }
   ],
   "source": [
    "print(\"rating is : \",round(r[0],2))"
   ]
  },
  {
   "cell_type": "markdown",
   "metadata": {},
   "source": [
    "### Predecting the rating of  New Restaurants"
   ]
  },
  {
   "cell_type": "code",
   "execution_count": 115,
   "metadata": {},
   "outputs": [
    {
     "data": {
      "text/html": [
       "<div>\n",
       "<style scoped>\n",
       "    .dataframe tbody tr th:only-of-type {\n",
       "        vertical-align: middle;\n",
       "    }\n",
       "\n",
       "    .dataframe tbody tr th {\n",
       "        vertical-align: top;\n",
       "    }\n",
       "\n",
       "    .dataframe thead th {\n",
       "        text-align: right;\n",
       "    }\n",
       "</style>\n",
       "<table border=\"1\" class=\"dataframe\">\n",
       "  <thead>\n",
       "    <tr style=\"text-align: right;\">\n",
       "      <th></th>\n",
       "      <th>name</th>\n",
       "      <th>online_order</th>\n",
       "      <th>book_table</th>\n",
       "      <th>rating</th>\n",
       "      <th>phone</th>\n",
       "      <th>location</th>\n",
       "      <th>rest_type</th>\n",
       "      <th>dish_liked</th>\n",
       "      <th>cuisines</th>\n",
       "      <th>average_cost</th>\n",
       "      <th>city</th>\n",
       "    </tr>\n",
       "  </thead>\n",
       "  <tbody>\n",
       "    <tr>\n",
       "      <td>72</td>\n",
       "      <td>Spicy Tandoor</td>\n",
       "      <td>No</td>\n",
       "      <td>No</td>\n",
       "      <td>NEW</td>\n",
       "      <td>+91 8050884222</td>\n",
       "      <td>Banashankari</td>\n",
       "      <td>Quick Bites</td>\n",
       "      <td>NaN</td>\n",
       "      <td>North Indian</td>\n",
       "      <td>150</td>\n",
       "      <td>Banashankari</td>\n",
       "    </tr>\n",
       "    <tr>\n",
       "      <td>75</td>\n",
       "      <td>Om Sri Vinayaka Chats</td>\n",
       "      <td>No</td>\n",
       "      <td>No</td>\n",
       "      <td>NEW</td>\n",
       "      <td>+91 8553206035</td>\n",
       "      <td>Banashankari</td>\n",
       "      <td>Takeaway, Delivery</td>\n",
       "      <td>NaN</td>\n",
       "      <td>Street Food, Fast Food</td>\n",
       "      <td>500</td>\n",
       "      <td>Banashankari</td>\n",
       "    </tr>\n",
       "    <tr>\n",
       "      <td>110</td>\n",
       "      <td>Hari Super Sandwich</td>\n",
       "      <td>No</td>\n",
       "      <td>No</td>\n",
       "      <td>NEW</td>\n",
       "      <td>+91 9886722163</td>\n",
       "      <td>Banashankari</td>\n",
       "      <td>Takeaway, Delivery</td>\n",
       "      <td>NaN</td>\n",
       "      <td>Sandwich, Pizza, Beverages</td>\n",
       "      <td>200</td>\n",
       "      <td>Banashankari</td>\n",
       "    </tr>\n",
       "  </tbody>\n",
       "</table>\n",
       "</div>"
      ],
      "text/plain": [
       "                      name online_order book_table rating           phone  \\\n",
       "72           Spicy Tandoor           No         No    NEW  +91 8050884222   \n",
       "75   Om Sri Vinayaka Chats           No         No    NEW  +91 8553206035   \n",
       "110    Hari Super Sandwich           No         No    NEW  +91 9886722163   \n",
       "\n",
       "         location           rest_type dish_liked                    cuisines  \\\n",
       "72   Banashankari         Quick Bites        NaN                North Indian   \n",
       "75   Banashankari  Takeaway, Delivery        NaN      Street Food, Fast Food   \n",
       "110  Banashankari  Takeaway, Delivery        NaN  Sandwich, Pizza, Beverages   \n",
       "\n",
       "    average_cost          city  \n",
       "72           150  Banashankari  \n",
       "75           500  Banashankari  \n",
       "110          200  Banashankari  "
      ]
     },
     "execution_count": 115,
     "metadata": {},
     "output_type": "execute_result"
    }
   ],
   "source": [
    "#displaying restaurants where rating is NEW\n",
    "new_rest.head(3)"
   ]
  },
  {
   "cell_type": "markdown",
   "metadata": {},
   "source": [
    "#### Pre-Processing on the Testing Data"
   ]
  },
  {
   "cell_type": "code",
   "execution_count": 116,
   "metadata": {},
   "outputs": [],
   "source": [
    "#one hot encoding on \"online_order\" and \"book_table\"\n",
    "new_rest['online_order']= pd.get_dummies(new_rest.online_order, drop_first=True)\n",
    "new_rest['book_table']= pd.get_dummies(new_rest.book_table, drop_first=True)\n"
   ]
  },
  {
   "cell_type": "code",
   "execution_count": 117,
   "metadata": {},
   "outputs": [],
   "source": [
    "#pre procssing phone and avg cost\n",
    "new_rest['phone'] = new_rest.apply(lambda x: phone_num_count(str(x.phone)), axis=1)\n",
    "new_rest['average_cost'] = new_rest.apply(lambda x: str_to_float(x.average_cost), axis=1)"
   ]
  },
  {
   "cell_type": "code",
   "execution_count": 118,
   "metadata": {},
   "outputs": [],
   "source": [
    "new_rest.drop(columns=['dish_liked','rating','city'], inplace  =True)\n"
   ]
  },
  {
   "cell_type": "code",
   "execution_count": 119,
   "metadata": {},
   "outputs": [
    {
     "data": {
      "text/plain": [
       "name            0\n",
       "online_order    0\n",
       "book_table      0\n",
       "phone           0\n",
       "location        0\n",
       "rest_type       0\n",
       "cuisines        0\n",
       "average_cost    0\n",
       "dtype: int64"
      ]
     },
     "execution_count": 119,
     "metadata": {},
     "output_type": "execute_result"
    }
   ],
   "source": [
    "#droping rows which has null \n",
    "new_rest.dropna(axis=0,how=\"any\",inplace=True)\n",
    "new_rest.isnull().sum()"
   ]
  },
  {
   "cell_type": "code",
   "execution_count": 120,
   "metadata": {},
   "outputs": [],
   "source": [
    "#converting to lower case and replacing space with no space\n",
    "new_rest['rest_type'] = new_rest.apply(lambda x: lower_(x.rest_type), axis=1)\n",
    "new_rest['cuisines'] = new_rest.apply(lambda x: lower_(x.cuisines), axis=1)\n"
   ]
  },
  {
   "cell_type": "code",
   "execution_count": 121,
   "metadata": {},
   "outputs": [],
   "source": [
    "#splitting of multivalued columns\n",
    "split_cusines(new_rest,cuisines_type_col,cuisines_type_str)\n",
    "split_rest(new_rest,rest_type_col,rest_type_str)\n",
    "split_location(new_rest,locations_col)\n"
   ]
  },
  {
   "cell_type": "code",
   "execution_count": 122,
   "metadata": {},
   "outputs": [],
   "source": [
    "#storing names of restaurants for further use\n",
    "names= new_rest['name']\n"
   ]
  },
  {
   "cell_type": "code",
   "execution_count": 123,
   "metadata": {},
   "outputs": [],
   "source": [
    "#droping columns'rest_type', 'cuisines','location'\n",
    "new_rest.drop(columns=['name','rest_type','cuisines','location'], inplace  =True)\n"
   ]
  },
  {
   "cell_type": "code",
   "execution_count": 124,
   "metadata": {},
   "outputs": [
    {
     "data": {
      "text/plain": [
       "(1605, 179)"
      ]
     },
     "execution_count": 124,
     "metadata": {},
     "output_type": "execute_result"
    }
   ],
   "source": [
    "new_rest.shape"
   ]
  },
  {
   "cell_type": "code",
   "execution_count": 125,
   "metadata": {},
   "outputs": [
    {
     "data": {
      "text/html": [
       "<div>\n",
       "<style scoped>\n",
       "    .dataframe tbody tr th:only-of-type {\n",
       "        vertical-align: middle;\n",
       "    }\n",
       "\n",
       "    .dataframe tbody tr th {\n",
       "        vertical-align: top;\n",
       "    }\n",
       "\n",
       "    .dataframe thead th {\n",
       "        text-align: right;\n",
       "    }\n",
       "</style>\n",
       "<table border=\"1\" class=\"dataframe\">\n",
       "  <thead>\n",
       "    <tr style=\"text-align: right;\">\n",
       "      <th></th>\n",
       "      <th>online_order</th>\n",
       "      <th>book_table</th>\n",
       "      <th>phone</th>\n",
       "      <th>average_cost</th>\n",
       "      <th>north_indian</th>\n",
       "      <th>mughalai_dish</th>\n",
       "      <th>chinese_food</th>\n",
       "      <th>thai</th>\n",
       "      <th>fast_food</th>\n",
       "      <th>mexican</th>\n",
       "      <th>...</th>\n",
       "      <th>location_Ulsoor</th>\n",
       "      <th>location_Uttarahalli</th>\n",
       "      <th>location_Varthur Main Road, Whitefield</th>\n",
       "      <th>location_Vasanth Nagar</th>\n",
       "      <th>location_Vijay Nagar</th>\n",
       "      <th>location_West Bangalore</th>\n",
       "      <th>location_Whitefield</th>\n",
       "      <th>location_Wilson Garden</th>\n",
       "      <th>location_Yelahanka</th>\n",
       "      <th>location_Yeshwantpur</th>\n",
       "    </tr>\n",
       "  </thead>\n",
       "  <tbody>\n",
       "    <tr>\n",
       "      <td>72</td>\n",
       "      <td>0</td>\n",
       "      <td>0</td>\n",
       "      <td>1</td>\n",
       "      <td>150.0</td>\n",
       "      <td>1</td>\n",
       "      <td>0</td>\n",
       "      <td>0</td>\n",
       "      <td>0</td>\n",
       "      <td>0</td>\n",
       "      <td>0</td>\n",
       "      <td>...</td>\n",
       "      <td>0</td>\n",
       "      <td>0</td>\n",
       "      <td>0</td>\n",
       "      <td>0</td>\n",
       "      <td>0</td>\n",
       "      <td>0</td>\n",
       "      <td>0</td>\n",
       "      <td>0</td>\n",
       "      <td>0</td>\n",
       "      <td>0</td>\n",
       "    </tr>\n",
       "    <tr>\n",
       "      <td>75</td>\n",
       "      <td>0</td>\n",
       "      <td>0</td>\n",
       "      <td>1</td>\n",
       "      <td>500.0</td>\n",
       "      <td>0</td>\n",
       "      <td>0</td>\n",
       "      <td>0</td>\n",
       "      <td>0</td>\n",
       "      <td>1</td>\n",
       "      <td>0</td>\n",
       "      <td>...</td>\n",
       "      <td>0</td>\n",
       "      <td>0</td>\n",
       "      <td>0</td>\n",
       "      <td>0</td>\n",
       "      <td>0</td>\n",
       "      <td>0</td>\n",
       "      <td>0</td>\n",
       "      <td>0</td>\n",
       "      <td>0</td>\n",
       "      <td>0</td>\n",
       "    </tr>\n",
       "    <tr>\n",
       "      <td>110</td>\n",
       "      <td>0</td>\n",
       "      <td>0</td>\n",
       "      <td>1</td>\n",
       "      <td>200.0</td>\n",
       "      <td>0</td>\n",
       "      <td>0</td>\n",
       "      <td>0</td>\n",
       "      <td>0</td>\n",
       "      <td>1</td>\n",
       "      <td>0</td>\n",
       "      <td>...</td>\n",
       "      <td>0</td>\n",
       "      <td>0</td>\n",
       "      <td>0</td>\n",
       "      <td>0</td>\n",
       "      <td>0</td>\n",
       "      <td>0</td>\n",
       "      <td>0</td>\n",
       "      <td>0</td>\n",
       "      <td>0</td>\n",
       "      <td>0</td>\n",
       "    </tr>\n",
       "  </tbody>\n",
       "</table>\n",
       "<p>3 rows × 179 columns</p>\n",
       "</div>"
      ],
      "text/plain": [
       "     online_order  book_table  phone  average_cost  north_indian  \\\n",
       "72              0           0      1         150.0             1   \n",
       "75              0           0      1         500.0             0   \n",
       "110             0           0      1         200.0             0   \n",
       "\n",
       "     mughalai_dish  chinese_food  thai  fast_food  mexican  ...  \\\n",
       "72               0             0     0          0        0  ...   \n",
       "75               0             0     0          1        0  ...   \n",
       "110              0             0     0          1        0  ...   \n",
       "\n",
       "     location_Ulsoor  location_Uttarahalli  \\\n",
       "72                 0                     0   \n",
       "75                 0                     0   \n",
       "110                0                     0   \n",
       "\n",
       "     location_Varthur Main Road, Whitefield  location_Vasanth Nagar  \\\n",
       "72                                        0                       0   \n",
       "75                                        0                       0   \n",
       "110                                       0                       0   \n",
       "\n",
       "     location_Vijay Nagar  location_West Bangalore  location_Whitefield  \\\n",
       "72                      0                        0                    0   \n",
       "75                      0                        0                    0   \n",
       "110                     0                        0                    0   \n",
       "\n",
       "     location_Wilson Garden  location_Yelahanka  location_Yeshwantpur  \n",
       "72                        0                   0                     0  \n",
       "75                        0                   0                     0  \n",
       "110                       0                   0                     0  \n",
       "\n",
       "[3 rows x 179 columns]"
      ]
     },
     "execution_count": 125,
     "metadata": {},
     "output_type": "execute_result"
    }
   ],
   "source": [
    "#pre-processesd data\n",
    "new_rest.head(3)"
   ]
  },
  {
   "cell_type": "code",
   "execution_count": 126,
   "metadata": {},
   "outputs": [
    {
     "name": "stdout",
     "output_type": "stream",
     "text": [
      "rating is :  [3.40008904 3.47395238 3.37551905 ... 3.57084308 3.51662143 3.28870828]\n"
     ]
    }
   ],
   "source": [
    "#predections on test data\n",
    "r=model.predict(new_rest)\n",
    "print(\"rating is : \",r)"
   ]
  },
  {
   "cell_type": "code",
   "execution_count": 129,
   "metadata": {},
   "outputs": [
    {
     "name": "stdout",
     "output_type": "stream",
     "text": [
      "Spicy Tandoor                                      Predicted Rating :  3.4\n",
      "Om Sri Vinayaka Chats                              Predicted Rating :  3.5\n",
      "Hari Super Sandwich                                Predicted Rating :  3.4\n",
      "Roll Magic Fast Food                               Predicted Rating :  3.4\n",
      "Foodlieious Multi Cuisine                          Predicted Rating :  3.3\n",
      "Thanishka Nati And Karavali Style                  Predicted Rating :  3.4\n",
      "Melting Melodies                                   Predicted Rating :  3.5\n",
      "New Indraprasta                                    Predicted Rating :  3.4\n",
      "Bitez                                              Predicted Rating :  3.5\n",
      "SSV Upahar                                         Predicted Rating :  3.6\n",
      "Sai Super Sandwich                                 Predicted Rating :  3.5\n",
      "Right Pizza                                        Predicted Rating :  3.5\n",
      "The Sip Shop                                       Predicted Rating :  3.7\n",
      "Sri Banashankari Upahara                           Predicted Rating :  3.7\n",
      "Hyderabad Express                                  Predicted Rating :  3.6\n",
      "Biryani Royals Garden                              Predicted Rating :  3.6\n",
      "Multi Snacky Hub                                   Predicted Rating :  3.4\n",
      "Melting Melodies                                   Predicted Rating :  3.5\n",
      "Gopi Ice Creams                                    Predicted Rating :  3.5\n",
      "My Tea House                                       Predicted Rating :  4.0\n",
      "Ferment                                            Predicted Rating :  3.8\n",
      "Parijatha Paradise                                 Predicted Rating :  3.5\n",
      "Kaapi Corner                                       Predicted Rating :  3.5\n",
      "Shri Guru Raghavendra Grand Veg                    Predicted Rating :  3.2\n",
      "Dtink Lab                                          Predicted Rating :  3.4\n",
      "Shree Udupi South kitchen                          Predicted Rating :  3.4\n",
      "Foodlieious Multi Cuisine                          Predicted Rating :  3.3\n",
      "Sri Raghavendra Prasanna Coffee Beans Club         Predicted Rating :  3.6\n",
      "Sri Balaji Tiffin Centre                           Predicted Rating :  3.4\n",
      "Pallavi Bar & Restaurant                           Predicted Rating :  3.5\n",
      "Sticke2Waffles                                     Predicted Rating :  3.5\n",
      "Ambur Dum Biriyani                                 Predicted Rating :  3.6\n",
      "Food Plaza                                         Predicted Rating :  3.3\n",
      "Crave Bit Cafe                                     Predicted Rating :  3.7\n",
      "Cafe Conico                                        Predicted Rating :  3.7\n",
      "Me N U                                             Predicted Rating :  3.6\n",
      "Cafe Zuppa                                         Predicted Rating :  3.7\n",
      "Poha House                                         Predicted Rating :  3.6\n",
      "Bathinda Tandoor                                   Predicted Rating :  3.8\n",
      "Le Arabia                                          Predicted Rating :  3.8\n",
      "Hotel Brundavan                                    Predicted Rating :  3.6\n",
      "Thalassery Restaurant                              Predicted Rating :  3.5\n",
      "Ahmed's Little Hut                                 Predicted Rating :  3.6\n",
      "Artinci Artisanal Ice Cream                        Predicted Rating :  3.9\n",
      "Totus                                              Predicted Rating :  3.6\n",
      "Bangalore Pantry                                   Predicted Rating :  3.4\n",
      "Pizza Palace                                       Predicted Rating :  3.6\n",
      "Tarbouche                                          Predicted Rating :  3.8\n",
      "Tandoor Chai House                                 Predicted Rating :  3.5\n",
      "Appana Restaurant                                  Predicted Rating :  3.9\n",
      "Kitchen24                                          Predicted Rating :  3.4\n",
      "Perch                                              Predicted Rating :  3.5\n",
      "China Town 07                                      Predicted Rating :  3.5\n",
      "Smoke Oil Salt                                     Predicted Rating :  3.8\n",
      "Momo King                                          Predicted Rating :  3.7\n",
      "Eatsomnia                                          Predicted Rating :  3.7\n",
      "The Kitchen                                        Predicted Rating :  3.7\n",
      "Lassi Ghar                                         Predicted Rating :  3.5\n",
      "Authentic Aandhra                                  Predicted Rating :  3.5\n",
      "The London Shakes                                  Predicted Rating :  3.4\n",
      "Momo Time                                          Predicted Rating :  3.6\n",
      "Only Sharjah                                       Predicted Rating :  3.5\n",
      "Happy Eats                                         Predicted Rating :  3.5\n",
      "BEIR                                               Predicted Rating :  3.7\n",
      "Cookie Man                                         Predicted Rating :  3.4\n",
      "Petoo                                              Predicted Rating :  4.0\n",
      "Hungry Haters                                      Predicted Rating :  3.4\n",
      "The Paratha Stories                                Predicted Rating :  3.2\n",
      "Calvin's                                           Predicted Rating :  3.8\n",
      "Yummy Momos                                        Predicted Rating :  3.3\n",
      "Biryani Rooh-e-Khaas                               Predicted Rating :  3.5\n",
      "Al-Marhaba Restaurant                              Predicted Rating :  3.5\n",
      "Heaven 2 Oven                                      Predicted Rating :  3.6\n",
      "Green Go                                           Predicted Rating :  3.5\n",
      "Northern Bites                                     Predicted Rating :  3.4\n",
      "Punjabi Unplugged                                  Predicted Rating :  3.6\n",
      "Pizza On The Way                                   Predicted Rating :  3.5\n",
      "Dastarkhan                                         Predicted Rating :  3.5\n",
      "Northway Cuisine                                   Predicted Rating :  3.3\n",
      "The Ocean Kitchen                                  Predicted Rating :  3.4\n",
      "Smooth                                             Predicted Rating :  3.7\n",
      "Sardarji Londonwaley                               Predicted Rating :  3.2\n",
      "Polar Bear                                         Predicted Rating :  3.7\n",
      "Desi Aahar                                         Predicted Rating :  3.3\n",
      "Bhojan@99                                          Predicted Rating :  3.4\n",
      "Nourich                                            Predicted Rating :  3.9\n",
      "Karavali Grand                                     Predicted Rating :  4.0\n",
      "Wudfyr                                             Predicted Rating :  3.8\n",
      "The Punjabi Rasoi                                  Predicted Rating :  3.6\n",
      "Vasantha Grand                                     Predicted Rating :  3.2\n",
      "Lassi Corner                                       Predicted Rating :  3.6\n",
      "Chill Magic                                        Predicted Rating :  3.4\n",
      "Tasty Restaurant                                   Predicted Rating :  3.5\n",
      "Nutri Fit                                          Predicted Rating :  2.9\n",
      "New Kabab Plaza                                    Predicted Rating :  3.6\n",
      "Padosi Apke Apne                                   Predicted Rating :  3.4\n",
      "Grill On Wheels                                    Predicted Rating :  3.4\n",
      "Moms Flavor                                        Predicted Rating :  3.4\n",
      "Shake The Shake                                    Predicted Rating :  3.5\n",
      "The Cake Zone                                      Predicted Rating :  3.6\n",
      "Artinci Artisanal Ice Cream                        Predicted Rating :  3.9\n",
      "Sai Abhiruchi                                      Predicted Rating :  3.6\n",
      "Sri Devi Darshan                                   Predicted Rating :  3.6\n",
      "Priyadharshini Hotel                               Predicted Rating :  3.5\n",
      "Thalassery Hotel                                   Predicted Rating :  3.5\n",
      "Sri SLV Bhavan                                     Predicted Rating :  3.7\n",
      "Bao & Grills                                       Predicted Rating :  3.5\n",
      "Basveshwara Khaanavali                             Predicted Rating :  3.7\n",
      "Brahma Brews                                       Predicted Rating :  4.2\n",
      "Levitate Brewery and Kitchen                       Predicted Rating :  4.3\n",
      "Nourich                                            Predicted Rating :  3.9\n",
      "Sri Nanjundeshwara Canteen                         Predicted Rating :  3.4\n",
      "Samosa Singh                                       Predicted Rating :  3.4\n",
      "Bathinda Tandoor                                   Predicted Rating :  3.8\n",
      "Momo King                                          Predicted Rating :  3.4\n",
      "Rana Vada Pav                                      Predicted Rating :  3.5\n",
      "Let's Bounce                                       Predicted Rating :  3.6\n",
      "Fusion Theory                                      Predicted Rating :  3.8\n",
      "Fabcafe                                            Predicted Rating :  3.9\n",
      "Cafe Terra                                         Predicted Rating :  3.9\n",
      "Cake Chemistry                                     Predicted Rating :  3.5\n",
      "Right Pizza                                        Predicted Rating :  3.5\n",
      "All Aromas                                         Predicted Rating :  3.4\n",
      "The Good Bowl                                      Predicted Rating :  3.6\n",
      "SLV Ragigudda                                      Predicted Rating :  3.6\n",
      "Thyme & Whisk                                      Predicted Rating :  4.0\n",
      "Hyderabad Express                                  Predicted Rating :  3.6\n",
      "PK Dhaba                                           Predicted Rating :  3.6\n",
      "SSV Upahar                                         Predicted Rating :  3.6\n",
      "Caramel Shake                                      Predicted Rating :  3.7\n",
      "Eatsomnia                                          Predicted Rating :  3.7\n",
      "Brahmin Tiffins & Coffee                           Predicted Rating :  3.5\n",
      "Mama Mys Cafe                                      Predicted Rating :  3.2\n",
      "Chamrajpet Chats And Juice Corner                  Predicted Rating :  3.4\n",
      "The Paratha Stories                                Predicted Rating :  3.2\n",
      "Multi Snacky Hub                                   Predicted Rating :  3.4\n",
      "Sharma Ji Chaats And Desi khana                    Predicted Rating :  3.3\n",
      "Spicy Tandoor                                      Predicted Rating :  3.4\n",
      "Al Khaleej Snacks Corner                           Predicted Rating :  3.3\n",
      "Tarbouche                                          Predicted Rating :  3.6\n",
      "Sai Super Sandwich                                 Predicted Rating :  3.5\n",
      "New Indraprasta                                    Predicted Rating :  3.4\n",
      "Bitez                                              Predicted Rating :  3.5\n",
      "Hari Super Sandwich                                Predicted Rating :  3.4\n",
      "Foodlieious Multi Cuisine                          Predicted Rating :  3.3\n",
      "FNP Cakes N More                                   Predicted Rating :  3.5\n",
      "Davanagere Benne Dosa                              Predicted Rating :  3.4\n",
      "The Sip Shop                                       Predicted Rating :  3.7\n",
      "Sweet Truth                                        Predicted Rating :  3.5\n",
      "Cake Of Day                                        Predicted Rating :  3.6\n",
      "Cafe Coffee Day                                    Predicted Rating :  3.3\n",
      "Ambur Dum Biriyani                                 Predicted Rating :  3.3\n",
      "Food Plaza                                         Predicted Rating :  3.3\n",
      "Dose Manjanna                                      Predicted Rating :  3.5\n",
      "Sri Raghavendra Prasanna Coffee Beans Club         Predicted Rating :  3.6\n",
      "Sri Balaji Tiffin Centre                           Predicted Rating :  3.4\n",
      "Royal Biryani Center                               Predicted Rating :  3.4\n",
      "Shree Udupi South kitchen                          Predicted Rating :  3.4\n",
      "Al Madina Family Restaurant                        Predicted Rating :  3.5\n",
      "On the Go Cafeteria                                Predicted Rating :  3.5\n",
      "Coastal Fish Land                                  Predicted Rating :  3.7\n",
      "NY Pizza And Waffles                               Predicted Rating :  3.7\n",
      "Paradise                                           Predicted Rating :  3.4\n",
      "Homelicious Food                                   Predicted Rating :  3.5\n",
      "Frosty Fills                                       Predicted Rating :  3.6\n",
      "Artinci Artisanal Ice Cream                        Predicted Rating :  3.6\n",
      "Biriyani Adda                                      Predicted Rating :  3.4\n",
      "Keerthi Restaurant Andhra Style                    Predicted Rating :  3.3\n",
      "Poha On Wheels                                     Predicted Rating :  3.4\n",
      "Tanoor Tandoori                                    Predicted Rating :  3.5\n",
      "Roti's Ghar                                        Predicted Rating :  3.5\n",
      "Telugu Velugu                                      Predicted Rating :  3.6\n",
      "Foodbell                                           Predicted Rating :  3.2\n",
      "MAD Belgian Waffles                                Predicted Rating :  3.5\n",
      "@ The Bbq                                          Predicted Rating :  3.6\n",
      "Artinci Artisanal Ice Cream                        Predicted Rating :  3.9\n",
      "Tumbites                                           Predicted Rating :  3.5\n",
      "Biryani Bar                                        Predicted Rating :  3.3\n",
      "Wimpie Cafe & Restaurant                           Predicted Rating :  3.6\n",
      "Freshkicho                                         Predicted Rating :  3.5\n",
      "Tandoori Club                                      Predicted Rating :  3.8\n",
      "Five Senses                                        Predicted Rating :  3.6\n",
      "Canopus Multicuisine Restaurant                    Predicted Rating :  3.7\n",
      "My Tea House                                       Predicted Rating :  4.0\n",
      "Gooey & Fluffy                                     Predicted Rating :  3.7\n",
      "Kerala Tiffin                                      Predicted Rating :  3.5\n",
      "Sri Murali Krishna                                 Predicted Rating :  3.6\n",
      "Happy Eats                                         Predicted Rating :  3.6\n",
      "Shri Sai Ram Andhra Hotel                          Predicted Rating :  3.4\n",
      "Five Satr Chiken                                   Predicted Rating :  3.3\n",
      "Madurai Veg Kitchen                                Predicted Rating :  3.6\n",
      "Waffle Stories                                     Predicted Rating :  4.0\n",
      "Petoo                                              Predicted Rating :  3.4\n",
      "Mangala Hotel                                      Predicted Rating :  3.5\n",
      "North Met South                                    Predicted Rating :  3.6\n",
      "C R Mangalore Bakery                               Predicted Rating :  3.5\n",
      "Punjabi Paratha House                              Predicted Rating :  3.4\n",
      "Flavored With Love                                 Predicted Rating :  3.6\n",
      "Tasty Yum                                          Predicted Rating :  3.7\n",
      "Dunkin' Donuts                                     Predicted Rating :  3.7\n",
      "Andhra Spice                                       Predicted Rating :  3.6\n",
      "XO Belgian Waffle                                  Predicted Rating :  4.3\n",
      "Sweet Truth                                        Predicted Rating :  3.9\n",
      "Coastal Fish Land                                  Predicted Rating :  3.7\n",
      "@ The Bbq                                          Predicted Rating :  3.6\n",
      "Curry Flavours                                     Predicted Rating :  3.3\n",
      "Faasos                                             Predicted Rating :  3.9\n",
      "Parrattha Ssinghh                                  Predicted Rating :  3.2\n",
      "Shree K Foods                                      Predicted Rating :  3.4\n",
      "The Paratha Studio                                 Predicted Rating :  3.5\n",
      "Deli Chats & Sweets                                Predicted Rating :  3.8\n",
      "Petoo                                              Predicted Rating :  3.8\n",
      "Cafe Repeat                                        Predicted Rating :  3.1\n",
      "Ambur Star Dum Biryani                             Predicted Rating :  3.5\n",
      "Green Hotel                                        Predicted Rating :  3.4\n",
      "Atithi Grand Veg Hotel                             Predicted Rating :  3.8\n",
      "Dosa Corner                                        Predicted Rating :  3.6\n",
      "The Chocolate Heaven                               Predicted Rating :  3.6\n",
      "Lazzet Lee                                         Predicted Rating :  3.6\n",
      "X Cafe                                             Predicted Rating :  3.7\n",
      "Biryani Trip                                       Predicted Rating :  3.5\n",
      "The Chef's Cake & Bakes                            Predicted Rating :  3.9\n",
      "Royanna Military Canteen                           Predicted Rating :  3.5\n",
      "Delisias                                           Predicted Rating :  3.5\n",
      "Sri Srinivas Park Hotel                            Predicted Rating :  3.5\n",
      "Dindigul Thalappakatti                             Predicted Rating :  3.7\n",
      "Momo Time                                          Predicted Rating :  3.5\n",
      "Sai Super Sandwich                                 Predicted Rating :  3.5\n",
      "Five Senses                                        Predicted Rating :  3.6\n",
      "Copacabana Pub                                     Predicted Rating :  3.9\n",
      "New Udupi Upahar                                   Predicted Rating :  3.0\n",
      "Lassi House                                        Predicted Rating :  3.6\n",
      "Aishwarya Uphar                                    Predicted Rating :  3.4\n",
      "The Taste Adda                                     Predicted Rating :  3.5\n",
      "Lassi Corner                                       Predicted Rating :  3.7\n",
      "Chinese Corner                                     Predicted Rating :  3.5\n",
      "Adithya Tiffin Centre                              Predicted Rating :  3.4\n",
      "FNP Cakes N More                                   Predicted Rating :  3.5\n",
      "Bhartiya Jalpan                                    Predicted Rating :  3.7\n",
      "Shiv Sagar                                         Predicted Rating :  3.4\n",
      "LocalHost                                          Predicted Rating :  3.4\n",
      "Shiv Sagar                                         Predicted Rating :  3.3\n",
      "Happy Eats                                         Predicted Rating :  3.6\n",
      "Promac Foods                                       Predicted Rating :  3.6\n",
      "Cravisthan                                         Predicted Rating :  3.5\n",
      "Delisias                                           Predicted Rating :  3.5\n",
      "Bakers 77                                          Predicted Rating :  3.5\n",
      "Cafe Coffee Day                                    Predicted Rating :  3.3\n",
      "By Chance                                          Predicted Rating :  4.0\n",
      "Sri Udupi Grand                                    Predicted Rating :  3.3\n",
      "Copacabana Pub                                     Predicted Rating :  3.9\n",
      "No 10 Fort Cochin                                  Predicted Rating :  3.5\n",
      "Svi Food And Juice                                 Predicted Rating :  3.5\n",
      "Hotel Gowda's                                      Predicted Rating :  3.4\n",
      "Kshathriya's Naati Junction                        Predicted Rating :  3.7\n",
      "Swasthaa                                           Predicted Rating :  3.7\n",
      "Cloud Foods                                        Predicted Rating :  3.5\n",
      "Sizzles                                            Predicted Rating :  3.6\n",
      "Third Wave Coffee Roasters                         Predicted Rating :  4.2\n",
      "Hodge Podge                                        Predicted Rating :  3.7\n",
      "Biriyani Section                                   Predicted Rating :  4.0\n",
      "Starter House                                      Predicted Rating :  3.7\n",
      "Biryani Bar                                        Predicted Rating :  3.3\n",
      "Biryani Bar                                        Predicted Rating :  3.3\n",
      "Paratha Point                                      Predicted Rating :  3.3\n",
      "Indian Food                                        Predicted Rating :  3.5\n",
      "Delight food                                       Predicted Rating :  3.5\n",
      "Jagannath Mess                                     Predicted Rating :  3.6\n",
      "Momos & Me                                         Predicted Rating :  3.5\n",
      "New Ambur Biryani                                  Predicted Rating :  3.1\n",
      "Punjabi Thadka                                     Predicted Rating :  3.4\n",
      "Fete Home Kitchen                                  Predicted Rating :  3.2\n",
      "Nawabi Kitchen                                     Predicted Rating :  3.6\n",
      "Bangalore Food Cafe                                Predicted Rating :  3.2\n",
      "Melting Melodies                                   Predicted Rating :  3.9\n",
      "Shake The Shake                                    Predicted Rating :  3.5\n",
      "Desi Khana                                         Predicted Rating :  3.3\n",
      "Eat And Be Fit                                     Predicted Rating :  3.6\n",
      "Temptation                                         Predicted Rating :  3.4\n",
      "Chacha Ka Dhaba                                    Predicted Rating :  3.1\n",
      "Epic Biryani                                       Predicted Rating :  3.3\n",
      "PR Kitchen                                         Predicted Rating :  3.4\n",
      "Nirala's Home Kitchen                              Predicted Rating :  3.4\n",
      "Wow Tiffin Food                                    Predicted Rating :  3.5\n",
      "Pindi Bangalore                                    Predicted Rating :  3.7\n",
      "Tasty Food                                         Predicted Rating :  3.5\n",
      "PK Dhaba                                           Predicted Rating :  3.6\n",
      "Shiv sagar                                         Predicted Rating :  3.3\n",
      "Nawab Di Biryani                                   Predicted Rating :  3.4\n",
      "Shakes365                                          Predicted Rating :  3.4\n",
      "Jagannath Delicacy                                 Predicted Rating :  3.7\n",
      "Anushka Restaurant                                 Predicted Rating :  3.7\n",
      "The Chai Stop                                      Predicted Rating :  3.5\n",
      "Foody's Land                                       Predicted Rating :  3.5\n",
      "Cold Fusion                                        Predicted Rating :  4.0\n",
      "New Udupi Shubh Sagar                              Predicted Rating :  3.7\n",
      "Canopus Multicuisine Restaurant                    Predicted Rating :  3.7\n",
      "Milkyway Ice Creams & Fast Food                    Predicted Rating :  3.7\n",
      "Kitchens Of Chettinad                              Predicted Rating :  3.5\n",
      "The Grains                                         Predicted Rating :  3.8\n",
      "Indian Chulha                                      Predicted Rating :  3.5\n",
      "Pita Pit                                           Predicted Rating :  3.8\n",
      "Sangam Sweets                                      Predicted Rating :  3.7\n",
      "Absolute Shawarma                                  Predicted Rating :  3.7\n",
      "Risalo Restaurant                                  Predicted Rating :  3.5\n",
      "Lenny's Burgers                                    Predicted Rating :  3.1\n",
      "Happy Eats                                         Predicted Rating :  3.6\n",
      "Rivayat                                            Predicted Rating :  3.3\n",
      "Tummy Singh                                        Predicted Rating :  3.5\n",
      "Nikhil's Food Court                                Predicted Rating :  3.6\n",
      "Auntie Fung's                                      Predicted Rating :  3.7\n",
      "The Delhiwala's Kitchen-Pure Veg                   Predicted Rating :  3.5\n",
      "Basmati's Briyani Nation                           Predicted Rating :  3.5\n",
      "Chefie                                             Predicted Rating :  3.5\n",
      "Tasty Homely Food                                  Predicted Rating :  3.6\n",
      "Paratha Mania                                      Predicted Rating :  3.3\n",
      "Sardar Tikka Singh                                 Predicted Rating :  3.5\n",
      "House Of Combos                                    Predicted Rating :  3.4\n",
      "Andhra Ghumaghumalu                                Predicted Rating :  3.6\n",
      "Kheer Kadamb - Bengali Sweets and Snacks           Predicted Rating :  3.6\n",
      "Raj Sweets                                         Predicted Rating :  3.5\n",
      "Ice Crystal Gola                                   Predicted Rating :  3.9\n",
      "Amadora Gourmet Ice Cream & Sorbet                 Predicted Rating :  3.8\n",
      "Magic scoops N Smiles                              Predicted Rating :  3.8\n",
      "Parvas Biriyani Park                               Predicted Rating :  3.3\n",
      "Toscano Wine Connection                            Predicted Rating :  4.0\n",
      "Suvai Factory                                      Predicted Rating :  3.4\n",
      "At North Parontha Hut                              Predicted Rating :  3.5\n",
      "Boxes And Combos                                   Predicted Rating :  3.4\n",
      "Quick Bites                                        Predicted Rating :  3.3\n",
      "Sri Sai Darshini Veg Restaurant                    Predicted Rating :  3.8\n",
      "Bong Connections                                   Predicted Rating :  3.3\n",
      "Aaccord Restaurant                                 Predicted Rating :  3.4\n",
      "The Flying Trapeze                                 Predicted Rating :  4.1\n",
      "Coco Barista                                       Predicted Rating :  3.6\n",
      "Cupp                                               Predicted Rating :  3.4\n",
      "Dipd N Chocolate                                   Predicted Rating :  3.8\n",
      "Biryanis And More                                  Predicted Rating :  3.5\n",
      "Bathinda Tandoor                                   Predicted Rating :  3.8\n",
      "Cake Chemistry                                     Predicted Rating :  3.5\n",
      "All Aromas                                         Predicted Rating :  3.4\n",
      "Chef Genie                                         Predicted Rating :  3.5\n",
      "China Town 07                                      Predicted Rating :  3.5\n",
      "Artinci Artisanal Ice Cream                        Predicted Rating :  3.9\n",
      "Ulavacharu                                         Predicted Rating :  4.0\n",
      "Blue Tokai Coffee Roasters                         Predicted Rating :  3.7\n",
      "Momo Blues                                         Predicted Rating :  3.5\n",
      "Akshaya Bar And Restaurant                         Predicted Rating :  3.6\n",
      "SLV Ragigudda                                      Predicted Rating :  3.6\n",
      "Seven Ate Nine                                     Predicted Rating :  3.7\n",
      "World Of Asia                                      Predicted Rating :  3.9\n",
      "Foody's Land                                       Predicted Rating :  3.5\n",
      "Thyme & Whisk                                      Predicted Rating :  4.0\n",
      "Falooda Cafe                                       Predicted Rating :  3.7\n",
      "Sri Srinivas Park Hotel                            Predicted Rating :  3.5\n",
      "Tea Trails                                         Predicted Rating :  3.7\n",
      "Coco Barista                                       Predicted Rating :  3.6\n",
      "The London Shakes                                  Predicted Rating :  3.4\n",
      "Cane Crussh                                        Predicted Rating :  3.6\n",
      "Le Arabia                                          Predicted Rating :  3.8\n",
      "Aubree Le Chocolatier                              Predicted Rating :  3.6\n",
      "The Chai Stop                                      Predicted Rating :  3.5\n",
      "Melting Melodies                                   Predicted Rating :  3.9\n",
      "PK Dhaba                                           Predicted Rating :  3.6\n",
      "Shake The Shake                                    Predicted Rating :  3.5\n",
      "Healthy Parathawala                                Predicted Rating :  3.5\n",
      "My Tea House                                       Predicted Rating :  4.0\n",
      "Basmati's Briyani Nation                           Predicted Rating :  3.4\n",
      "Still Sipping                                      Predicted Rating :  4.2\n",
      "Only Sharjah                                       Predicted Rating :  3.5\n",
      "Khaja Point                                        Predicted Rating :  3.4\n",
      "Darshan Paradise Restaurant                        Predicted Rating :  3.5\n",
      "Friends Chats Adda                                 Predicted Rating :  3.4\n",
      "Amjad Bhai's Star Hotel - Home Food Only           Predicted Rating :  3.4\n",
      "Pizza Palace                                       Predicted Rating :  3.6\n",
      "Sky Juice Corner                                   Predicted Rating :  3.6\n",
      "Al-Marhaba Restaurant                              Predicted Rating :  3.5\n",
      "Authentic Aandhra                                  Predicted Rating :  3.5\n",
      "Stop N Joy                                         Predicted Rating :  3.4\n",
      "Heaven 2 Oven                                      Predicted Rating :  3.6\n",
      "Green Go                                           Predicted Rating :  3.5\n",
      "Eatsomnia                                          Predicted Rating :  3.7\n",
      "Fogg                                               Predicted Rating :  3.7\n",
      "Asgardian Moreover Chai                            Predicted Rating :  3.5\n",
      "Tiffin Box                                         Predicted Rating :  3.5\n",
      "Delicious Mom's Kitchen                            Predicted Rating :  3.4\n",
      "The Paratha Stories                                Predicted Rating :  3.2\n",
      "Caramel Shake                                      Predicted Rating :  3.7\n",
      "Fluffer Nutter                                     Predicted Rating :  3.5\n",
      "Bhoja99                                            Predicted Rating :  3.5\n",
      "Murali Military hotel                              Predicted Rating :  3.4\n",
      "Hyderabadi Biryani House                           Predicted Rating :  3.4\n",
      "Chai Makhan                                        Predicted Rating :  3.4\n",
      "Cafe Sulaimani                                     Predicted Rating :  3.8\n",
      "Rayalaseema Abhiruchulu                            Predicted Rating :  3.2\n",
      "GR Foods                                           Predicted Rating :  3.4\n",
      "New Udupi Dharshini                                Predicted Rating :  3.4\n",
      "Ice N Spice                                        Predicted Rating :  3.5\n",
      "New Kabab Plaza                                    Predicted Rating :  3.6\n",
      "Ruchi's Foodies Blast                              Predicted Rating :  3.1\n",
      "Desi Aahar                                         Predicted Rating :  3.3\n",
      "Kitchen24                                          Predicted Rating :  3.4\n",
      "Kallummakkaya                                      Predicted Rating :  3.5\n",
      "Perch                                              Predicted Rating :  3.5\n",
      "Totus                                              Predicted Rating :  3.6\n",
      "Ilyazsab Shawarma Cafe                             Predicted Rating :  3.5\n",
      "Smoke Oil Salt                                     Predicted Rating :  3.8\n",
      "Happy Eats                                         Predicted Rating :  3.6\n",
      "House of Chaaps                                    Predicted Rating :  3.7\n",
      "Side Street Kitchen                                Predicted Rating :  3.6\n",
      "Midnight Special                                   Predicted Rating :  3.4\n",
      "Choo Zi                                            Predicted Rating :  3.4\n",
      "Star Bowl                                          Predicted Rating :  3.4\n",
      "Wedding Biryani                                    Predicted Rating :  3.5\n",
      "Biryani Rooh-e-Khaas                               Predicted Rating :  3.3\n",
      "Punjabi Unplugged                                  Predicted Rating :  3.6\n",
      "Polar Bear                                         Predicted Rating :  3.7\n",
      "Nourich                                            Predicted Rating :  3.9\n",
      "BEIR                                               Predicted Rating :  3.8\n",
      "Smooth                                             Predicted Rating :  3.7\n",
      "Sree Banashankari Donne Biriyani                   Predicted Rating :  3.3\n",
      "Northern Bites                                     Predicted Rating :  3.4\n",
      "I-Scoop Cafe                                       Predicted Rating :  3.7\n",
      "Nonveg Dreams                                      Predicted Rating :  3.4\n",
      "Cafe Longing                                       Predicted Rating :  3.5\n",
      "Aata's Kitchen                                     Predicted Rating :  3.4\n",
      "Harilal ka Bihari Dhaba                            Predicted Rating :  3.4\n",
      "Bhojan@99                                          Predicted Rating :  3.4\n",
      "Pan Asian                                          Predicted Rating :  3.6\n",
      "Crown Resto                                        Predicted Rating :  3.3\n",
      "Aaccord Restaurant                                 Predicted Rating :  3.5\n",
      "S.S Bangali Restaurant                             Predicted Rating :  3.4\n",
      "Venessa                                            Predicted Rating :  4.0\n",
      "BTM                                                Predicted Rating :  3.5\n",
      "Shiva's Bar And Restaurant                         Predicted Rating :  3.6\n",
      "Namaste                                            Predicted Rating :  3.4\n",
      "Bathinda Tandoor                                   Predicted Rating :  3.8\n",
      "Darshan Paradise Restaurant                        Predicted Rating :  3.5\n",
      "Desi Aahar                                         Predicted Rating :  3.3\n",
      "Hotel Udipi Krishna                                Predicted Rating :  3.5\n",
      "Biryani Dawat                                      Predicted Rating :  3.5\n",
      "Salkara Malabar Kitchen                            Predicted Rating :  3.0\n",
      "Delicious Mom's Kitchen                            Predicted Rating :  3.4\n",
      "Chorum Curryum                                     Predicted Rating :  3.5\n",
      "Sri Srinivas Park Hotel                            Predicted Rating :  3.7\n",
      "Hyderabadi Biryani House                           Predicted Rating :  3.4\n",
      "Shawarma Bite                                      Predicted Rating :  3.5\n",
      "The Grand Kitchen Restaurant                       Predicted Rating :  3.1\n",
      "New Shetty Lunch Bhavan                            Predicted Rating :  3.8\n",
      "Rana Vada Pav                                      Predicted Rating :  3.8\n",
      "Levitate Brewery and Kitchen                       Predicted Rating :  4.3\n",
      "Biergarten                                         Predicted Rating :  4.6\n",
      "Bob's Bar                                          Predicted Rating :  3.8\n",
      "Nourich                                            Predicted Rating :  3.9\n",
      "The Flying Trapeze                                 Predicted Rating :  4.1\n",
      "Baba Chatkora                                      Predicted Rating :  3.7\n",
      "BEIR                                               Predicted Rating :  3.8\n"
     ]
    },
    {
     "name": "stdout",
     "output_type": "stream",
     "text": [
      "Thalassery Restaurant                              Predicted Rating :  3.5\n",
      "SLV Ragigudda                                      Predicted Rating :  3.7\n",
      "Sri Balaji Andhra Mess                             Predicted Rating :  3.4\n",
      "Bao & Grills                                       Predicted Rating :  3.5\n",
      "Garage Food Company                                Predicted Rating :  3.7\n",
      "The Munch Box                                      Predicted Rating :  3.5\n",
      "Biergarten                                         Predicted Rating :  4.6\n",
      "Bob's Bar                                          Predicted Rating :  3.8\n",
      "The Chocolate Heaven                               Predicted Rating :  3.6\n",
      "Lazzet Lee                                         Predicted Rating :  3.6\n",
      "X Cafe                                             Predicted Rating :  3.7\n",
      "The Chef's Cake & Bakes                            Predicted Rating :  3.9\n",
      "Chinese Corner                                     Predicted Rating :  3.7\n",
      "Promac Foods                                       Predicted Rating :  3.6\n",
      "Royanna Military Canteen                           Predicted Rating :  3.5\n",
      "Momo Time                                          Predicted Rating :  3.5\n",
      "Copacabana Pub                                     Predicted Rating :  3.9\n",
      "Delisias                                           Predicted Rating :  3.5\n",
      "The Chocolate Heaven                               Predicted Rating :  3.6\n",
      "New Udupi Upahar                                   Predicted Rating :  3.0\n",
      "Aishwarya Uphar                                    Predicted Rating :  3.4\n",
      "Lassi House                                        Predicted Rating :  3.6\n",
      "The Taste Adda                                     Predicted Rating :  3.5\n",
      "Lassi Corner                                       Predicted Rating :  3.7\n",
      "Adithya Tiffin Centre                              Predicted Rating :  3.4\n",
      "Bhartiya Jalpan                                    Predicted Rating :  3.7\n",
      "Five Senses                                        Predicted Rating :  3.6\n",
      "Kerala Food                                        Predicted Rating :  3.3\n",
      "Shiv Sagar                                         Predicted Rating :  3.4\n",
      "LocalHost                                          Predicted Rating :  3.4\n",
      "Shiv Sagar                                         Predicted Rating :  3.3\n",
      "Dindigul Thalappakatti                             Predicted Rating :  3.7\n",
      "Sai Super Sandwich                                 Predicted Rating :  3.5\n",
      "Promac Foods                                       Predicted Rating :  3.6\n",
      "Happy Eats                                         Predicted Rating :  3.6\n",
      "Delisias                                           Predicted Rating :  3.5\n",
      "Bakers 77                                          Predicted Rating :  3.5\n",
      "Karachi Bakery                                     Predicted Rating :  3.6\n",
      "Cafe Coffee Day                                    Predicted Rating :  3.3\n",
      "No 10 Fort Cochin                                  Predicted Rating :  3.5\n",
      "Copacabana Pub                                     Predicted Rating :  3.9\n",
      "By Chance                                          Predicted Rating :  4.0\n",
      "Svi Food And Juice                                 Predicted Rating :  3.2\n",
      "Sri Udupi Grand                                    Predicted Rating :  3.3\n",
      "Kshathriya's Naati Junction                        Predicted Rating :  3.7\n",
      "Swasthaa                                           Predicted Rating :  3.7\n",
      "Cloud Foods                                        Predicted Rating :  3.5\n",
      "Hotel Gowda's                                      Predicted Rating :  3.4\n",
      "Vinus Foods                                        Predicted Rating :  3.7\n",
      "Kerala Food                                        Predicted Rating :  3.3\n",
      "Aagaman Veg                                        Predicted Rating :  3.7\n",
      "The Platonic Cafe                                  Predicted Rating :  3.7\n",
      "Sweet Revenge Bake N Cafe                          Predicted Rating :  3.4\n",
      "Happy Cups                                         Predicted Rating :  3.2\n",
      "Kulhad Junction                                    Predicted Rating :  3.5\n",
      "eat.fit                                            Predicted Rating :  4.1\n",
      "Karama Restaurant                                  Predicted Rating :  3.8\n",
      "Dabba Gosht                                        Predicted Rating :  3.6\n",
      "Vegetarea                                          Predicted Rating :  3.9\n",
      "Punjabites                                         Predicted Rating :  3.7\n",
      "Empire Restaurant                                  Predicted Rating :  3.6\n",
      "Al-Bek                                             Predicted Rating :  3.7\n",
      "Kitchens@Electronic City                           Predicted Rating :  3.6\n",
      "Easy Bites                                         Predicted Rating :  4.1\n",
      "Beijing Bites                                      Predicted Rating :  3.8\n",
      "Fish Chain                                         Predicted Rating :  4.1\n",
      "Polar Bear                                         Predicted Rating :  3.8\n",
      "Dande Hyderabad Biryani                            Predicted Rating :  3.5\n",
      "MRA                                                Predicted Rating :  3.9\n",
      "Fujian Express                                     Predicted Rating :  3.8\n",
      "CakeZone                                           Predicted Rating :  3.6\n",
      "Juice Shop                                         Predicted Rating :  3.5\n",
      "Nagas                                              Predicted Rating :  3.1\n",
      "Kababji Cafe                                       Predicted Rating :  4.0\n",
      "Recipe Box                                         Predicted Rating :  3.6\n",
      "WOW! Momo                                          Predicted Rating :  3.6\n",
      "Shanmukha                                          Predicted Rating :  3.6\n",
      "Pattikattan Biriyani                               Predicted Rating :  4.0\n",
      "Biryani Darbar                                     Predicted Rating :  3.5\n",
      "Swad 'E' Punjab                                    Predicted Rating :  3.7\n",
      "Bowl House Kitchen                                 Predicted Rating :  3.4\n",
      "Peril Enthirikkunnu                                Predicted Rating :  3.6\n",
      "True South                                         Predicted Rating :  3.5\n",
      "Bangarpet Chats Adda                               Predicted Rating :  3.5\n",
      "Hottey Smokey                                      Predicted Rating :  3.6\n",
      "Kababish Restaurant                                Predicted Rating :  3.6\n",
      "The Milkshake Co and More                          Predicted Rating :  3.5\n",
      "Alikemom                                           Predicted Rating :  3.5\n",
      "Chilli Park                                        Predicted Rating :  3.5\n",
      "Shake The Shake                                    Predicted Rating :  3.5\n",
      "Today Coffee                                       Predicted Rating :  3.7\n",
      "Lord of Combos                                     Predicted Rating :  3.6\n",
      "Meridian South - A Pure Vegetarian Restaurant      Predicted Rating :  3.5\n",
      "Just Homely                                        Predicted Rating :  3.5\n",
      "Hello Cafe                                         Predicted Rating :  3.4\n",
      "Half Girlfriend                                    Predicted Rating :  3.6\n",
      "Sai Grand                                          Predicted Rating :  3.3\n",
      "Silicon Spicy Bite & Sip                           Predicted Rating :  3.4\n",
      "The Juice Shop                                     Predicted Rating :  3.5\n",
      "Reyniks Flavours                                   Predicted Rating :  3.4\n",
      "Cakea                                              Predicted Rating :  3.5\n",
      "Rara Avis                                          Predicted Rating :  3.8\n",
      "Clean Eats                                         Predicted Rating :  2.9\n",
      "Shaadi Ki Biryani                                  Predicted Rating :  3.2\n",
      "Arzak                                              Predicted Rating :  3.6\n",
      "Chef Delicacies                                    Predicted Rating :  3.4\n",
      "Flavors Restaurant                                 Predicted Rating :  3.4\n",
      "Star Briyani                                       Predicted Rating :  3.3\n",
      "Nawabi Kitchen                                     Predicted Rating :  3.6\n",
      "Namma Atithi                                       Predicted Rating :  3.5\n",
      "Sandwich Jn                                        Predicted Rating :  3.4\n",
      "Xpress Chai                                        Predicted Rating :  3.4\n",
      "Cafe Black Pepper                                  Predicted Rating :  3.4\n",
      "Chokha Zaika                                       Predicted Rating :  3.6\n",
      "Adyar Anand Bhavan Sweets                          Predicted Rating :  3.3\n",
      "Grilliez                                           Predicted Rating :  3.6\n",
      "Kadhai Tadka family Restaurant                     Predicted Rating :  3.5\n",
      "Food Lover                                         Predicted Rating :  3.5\n",
      "Bhojan@99                                          Predicted Rating :  3.7\n",
      "The Duke of Juices                                 Predicted Rating :  3.2\n",
      "Basmati's Briyani Nation                           Predicted Rating :  3.5\n",
      "The Cake Lair                                      Predicted Rating :  3.5\n",
      "46 Ounces Brewgarden                               Predicted Rating :  4.1\n",
      "Shandys-The Beer Cocktail Hub                      Predicted Rating :  3.8\n",
      "Nandini Dosa Camp                                  Predicted Rating :  3.5\n",
      "Hanchina Mane Restaurant                           Predicted Rating :  3.5\n",
      "BMG Hotel                                          Predicted Rating :  3.4\n",
      "Sharon Hotel                                       Predicted Rating :  3.5\n",
      "Wow Manglore Multi Cuisine Restaurant              Predicted Rating :  3.5\n",
      "Punjabi Dhaba And Family Restaurant                Predicted Rating :  3.3\n",
      "Halli Mane Badoota Hotel                           Predicted Rating :  3.5\n",
      "TRS Family Restaurant                              Predicted Rating :  3.4\n",
      "Ambur Dum Biryani                                  Predicted Rating :  3.4\n",
      "Shri Lakshmi Vilas Andhra Mess - Taste of Vijayawada Predicted Rating :  3.5\n",
      "Kerala Food                                        Predicted Rating :  3.4\n",
      "The Chocolate Heaven                               Predicted Rating :  3.6\n",
      "Biryani Bar                                        Predicted Rating :  3.3\n",
      "Juicy Juice                                        Predicted Rating :  3.5\n",
      "Momo Time                                          Predicted Rating :  3.5\n",
      "The Food Corner                                    Predicted Rating :  3.5\n",
      "The Twisted Desi                                   Predicted Rating :  3.9\n",
      "Royanna Military Canteen                           Predicted Rating :  3.5\n",
      "Dindigul Thalappakatti                             Predicted Rating :  3.7\n",
      "Shake The Shake                                    Predicted Rating :  3.5\n",
      "Lassi Cream                                        Predicted Rating :  3.6\n",
      "Bisi Thindi                                        Predicted Rating :  3.7\n",
      "Lagom Patisserie                                   Predicted Rating :  3.6\n",
      "Five Senses                                        Predicted Rating :  3.6\n",
      "Sai Super Sandwich                                 Predicted Rating :  3.5\n",
      "The Taste Adda                                     Predicted Rating :  3.5\n",
      "Happy Eats                                         Predicted Rating :  3.6\n",
      "Ahmeds Takeaway Restaurant                         Predicted Rating :  3.3\n",
      "Lassi House                                        Predicted Rating :  3.6\n",
      "Aishwarya Uphar                                    Predicted Rating :  3.4\n",
      "Homely Kitchen                                     Predicted Rating :  3.4\n",
      "Feel The Taste                                     Predicted Rating :  3.2\n",
      "Bhartiya Jalpan                                    Predicted Rating :  3.7\n",
      "Home Made Food                                     Predicted Rating :  3.5\n",
      "Kerala Food                                        Predicted Rating :  3.3\n",
      "5 Star Food                                        Predicted Rating :  3.7\n",
      "Karachi Bakery                                     Predicted Rating :  3.6\n",
      "The Chocolate Heaven                               Predicted Rating :  3.6\n",
      "Biryani Paradise                                   Predicted Rating :  3.4\n",
      "Bhavani Military Hotel                             Predicted Rating :  3.7\n",
      "Vinus Foods                                        Predicted Rating :  3.7\n",
      "The Buffet Table                                   Predicted Rating :  4.1\n",
      "Still Sipping                                      Predicted Rating :  4.2\n",
      "Go Native                                          Predicted Rating :  4.1\n",
      "On the Go Cafeteria                                Predicted Rating :  3.5\n",
      "Cupp                                               Predicted Rating :  3.4\n",
      "House of Chaaps                                    Predicted Rating :  3.7\n",
      "Biriyani's House                                   Predicted Rating :  3.0\n",
      "Five Senses                                        Predicted Rating :  3.6\n",
      "Hunger Swipe Restaurant                            Predicted Rating :  3.5\n",
      "Gavran Misal                                       Predicted Rating :  3.8\n",
      "Frozen Bottle                                      Predicted Rating :  3.8\n",
      "90's                                               Predicted Rating :  3.5\n",
      "Tarlette                                           Predicted Rating :  3.4\n",
      "Rasana                                             Predicted Rating :  3.7\n",
      "Fruit Ball                                         Predicted Rating :  3.4\n",
      "Spice of India & Chai Tales                        Predicted Rating :  3.5\n",
      "Midnight Special                                   Predicted Rating :  3.4\n",
      "Star Bowl                                          Predicted Rating :  3.4\n",
      "Urvashi                                            Predicted Rating :  3.5\n",
      "Laziz Pizza                                        Predicted Rating :  3.7\n",
      "GrannyzHut                                         Predicted Rating :  3.2\n",
      "UK Foods                                           Predicted Rating :  3.5\n",
      "Maggi N Maggi House                                Predicted Rating :  3.6\n",
      "Amul Ice Cream                                     Predicted Rating :  3.6\n",
      "Basmati's Briyani Nation                           Predicted Rating :  3.4\n",
      "Pizza Palace                                       Predicted Rating :  3.6\n",
      "Go Italia                                          Predicted Rating :  3.5\n",
      "Biriyani Adda                                      Predicted Rating :  3.5\n",
      "Tandoori Club                                      Predicted Rating :  3.8\n",
      "Hotel Narmada                                      Predicted Rating :  3.6\n",
      "Roti's Ghar                                        Predicted Rating :  3.5\n",
      "Burger Mania                                       Predicted Rating :  3.9\n",
      "The Food Therapy                                   Predicted Rating :  3.4\n",
      "Five Satr Chiken                                   Predicted Rating :  3.3\n",
      "Navi's Kitchen                                     Predicted Rating :  3.3\n",
      "99 Variety Dose-Biryanis-Starters                  Predicted Rating :  3.7\n",
      "Tumbites                                           Predicted Rating :  3.5\n",
      "Telugu Velugu                                      Predicted Rating :  3.6\n",
      "Chef Genie                                         Predicted Rating :  3.5\n",
      "Aata's Kitchen                                     Predicted Rating :  3.4\n",
      "The Shawarma Shop                                  Predicted Rating :  3.5\n",
      "Biryani Rooh-e-Khaas                               Predicted Rating :  3.3\n",
      "Punjabi Unplugged                                  Predicted Rating :  3.6\n",
      "Akshaya Bar And Restaurant                         Predicted Rating :  3.6\n",
      "YUNCHI                                             Predicted Rating :  3.9\n",
      "Homelicious Food                                   Predicted Rating :  3.5\n",
      "Frosty Fills                                       Predicted Rating :  3.6\n",
      "Wimpie Cafe & Restaurant                           Predicted Rating :  3.4\n",
      "Shake The Shake                                    Predicted Rating :  3.5\n",
      "Melting Melodies                                   Predicted Rating :  3.9\n",
      "Tarbouche                                          Predicted Rating :  3.5\n",
      "WOW! Momo                                          Predicted Rating :  3.6\n",
      "Tea Trails                                         Predicted Rating :  3.7\n",
      "Madurai Veg Kitchen                                Predicted Rating :  3.6\n",
      "Wow Kitchen Punjabi Taste                          Predicted Rating :  3.3\n",
      "Waffle Stories                                     Predicted Rating :  4.0\n",
      "My Tea House                                       Predicted Rating :  4.0\n",
      "Seven Ate Nine                                     Predicted Rating :  4.0\n",
      "9 Bowls                                            Predicted Rating :  3.6\n",
      "Wedding Biryani                                    Predicted Rating :  3.3\n",
      "Hungry Monster                                     Predicted Rating :  3.2\n",
      "Royal Bakes                                        Predicted Rating :  3.6\n",
      "Still Sipping                                      Predicted Rating :  4.2\n",
      "Hammered                                           Predicted Rating :  4.0\n",
      "Indigo X II P                                      Predicted Rating :  4.0\n",
      "Rajsi Rasoi                                        Predicted Rating :  3.4\n",
      "Cloud Foods                                        Predicted Rating :  3.5\n",
      "Basava Bhavana (B2)                                Predicted Rating :  3.4\n",
      "The Munch Box                                      Predicted Rating :  3.5\n",
      "Sagar Fast Food                                    Predicted Rating :  3.7\n",
      "Punjabi Unplugged                                  Predicted Rating :  3.6\n",
      "Toping Twist                                       Predicted Rating :  3.5\n",
      "SMS: Stop Making Sense                             Predicted Rating :  3.5\n",
      "Sri Balaji Andhra Mess                             Predicted Rating :  3.4\n",
      "The Bar Therapy                                    Predicted Rating :  3.6\n",
      "Punjabi Dhaba And Family Restaurant                Predicted Rating :  3.3\n",
      "Sri Bhagya Veg                                     Predicted Rating :  3.3\n",
      "Halli Mane Badoota Hotel                           Predicted Rating :  3.5\n",
      "Nagappa Naidu Hotel                                Predicted Rating :  3.6\n",
      "House Of Seitan                                    Predicted Rating :  3.9\n",
      "Brik Oven                                          Predicted Rating :  4.2\n",
      "Fog City Cafe                                      Predicted Rating :  3.7\n",
      "Chaai Resto                                        Predicted Rating :  3.6\n",
      "St. Mary's Cafe                                    Predicted Rating :  3.4\n",
      "The Corner - Hyatt Centric MG Road                 Predicted Rating :  3.9\n",
      "Zawaa Foods                                        Predicted Rating :  3.5\n",
      "Biryani Trip                                       Predicted Rating :  3.5\n",
      "Taiki                                              Predicted Rating :  4.2\n",
      "The Chef's Cake & Bakes                            Predicted Rating :  3.9\n",
      "Momo Time                                          Predicted Rating :  3.5\n",
      "Cane Crussh                                        Predicted Rating :  3.6\n",
      "Royanna Military Canteen                           Predicted Rating :  3.5\n",
      "Sanchez Taqueria & Cantina                         Predicted Rating :  3.9\n",
      "Food Coma                                          Predicted Rating :  3.9\n",
      "Jenisha Green View Restaurant                      Predicted Rating :  3.7\n",
      "Power House Pitstsa                                Predicted Rating :  4.1\n",
      "The Twisted Desi                                   Predicted Rating :  3.9\n",
      "Sri Srinivas Park Hotel                            Predicted Rating :  3.5\n",
      "Tiffinwala                                         Predicted Rating :  3.3\n",
      "NutriFit                                           Predicted Rating :  3.5\n",
      "Cake Dilim                                         Predicted Rating :  3.5\n",
      "Eat Food                                           Predicted Rating :  3.5\n",
      "Kasol Cafe                                         Predicted Rating :  3.6\n",
      "Just Eat                                           Predicted Rating :  3.6\n",
      "Indian Spice Food                                  Predicted Rating :  3.3\n",
      "Biriyani Combo 99                                  Predicted Rating :  3.4\n",
      "Sree Vinayaka Puttukada                            Predicted Rating :  3.4\n",
      "Imli Express                                       Predicted Rating :  3.5\n",
      "Homely Kitchen                                     Predicted Rating :  3.4\n",
      "Ciclo Life                                         Predicted Rating :  3.5\n",
      "Biryani Bar                                        Predicted Rating :  3.3\n",
      "The Taste Adda                                     Predicted Rating :  3.5\n",
      "Bismilla Vaniyambadi Biriyani                      Predicted Rating :  3.2\n",
      "Home Cooked                                        Predicted Rating :  3.3\n",
      "Five Senses                                        Predicted Rating :  3.6\n",
      "Copacabana Pub                                     Predicted Rating :  3.9\n",
      "Nizam's Biryani House                              Predicted Rating :  3.5\n",
      "Aishwarya Uphar                                    Predicted Rating :  3.4\n",
      "Pizza Theatre                                      Predicted Rating :  3.4\n",
      "@North Parontha Hut                                Predicted Rating :  3.3\n",
      "Nawabi Kitchen                                     Predicted Rating :  3.6\n",
      "Hotel Raravees                                     Predicted Rating :  3.4\n",
      "Aburrahaman                                        Predicted Rating :  3.4\n",
      "Indish Flavour                                     Predicted Rating :  3.3\n",
      "Sri Udupi Food Hub                                 Predicted Rating :  3.4\n",
      "Desi Tadka Khana                                   Predicted Rating :  3.1\n",
      "Shiv Sagar                                         Predicted Rating :  3.3\n",
      "RAAT KI FOOD                                       Predicted Rating :  3.1\n",
      "Bangalore Express                                  Predicted Rating :  3.4\n",
      "CraveBelly Veg & Non veg                           Predicted Rating :  3.5\n",
      "Bowls & Combos Co.                                 Predicted Rating :  3.4\n",
      "FTB Restaurant                                     Predicted Rating :  3.5\n",
      "Cravisthan                                         Predicted Rating :  3.5\n",
      "Waffle In The Box                                  Predicted Rating :  3.6\n",
      "CK's Bakery                                        Predicted Rating :  3.5\n",
      "Hungry Darjeeling Chinese and Thai                 Predicted Rating :  3.6\n",
      "SOS                                                Predicted Rating :  3.5\n",
      "Happy Eats                                         Predicted Rating :  3.6\n",
      "Ice Creamist                                       Predicted Rating :  4.0\n",
      "Homey Bake & Juice                                 Predicted Rating :  3.7\n",
      "Nevermind - Bar & Social                           Predicted Rating :  4.2\n",
      "Blu Oyster                                         Predicted Rating :  4.3\n",
      "The Tiny Taproom                                   Predicted Rating :  3.5\n",
      "Sriracha Robata & Contemporary Pan Asian Dining    Predicted Rating :  3.7\n",
      "One Night In Bangkok                               Predicted Rating :  4.1\n",
      "eat.fit                                            Predicted Rating :  4.0\n",
      "Happenwell Cafe Lounge                             Predicted Rating :  3.5\n",
      "Mini Wok                                           Predicted Rating :  3.4\n",
      "Hatti Kaapi                                        Predicted Rating :  3.5\n",
      "ONS Food                                           Predicted Rating :  3.4\n",
      "Svi Food And Juice                                 Predicted Rating :  3.6\n",
      "Peter's Food Junction                              Predicted Rating :  3.8\n",
      "Nagli Veg & Non Veg                                Predicted Rating :  3.4\n",
      "Chit Chat Cafe                                     Predicted Rating :  3.3\n",
      "Inntense Restobar                                  Predicted Rating :  4.2\n",
      "Fusion Theory                                      Predicted Rating :  3.8\n",
      "Crave Bit Cafe                                     Predicted Rating :  3.7\n",
      "Cafe Terra                                         Predicted Rating :  3.9\n",
      "Chaai Resto                                        Predicted Rating :  3.8\n",
      "Shivaay's Cafe                                     Predicted Rating :  3.8\n",
      "Ice Burg                                           Predicted Rating :  3.6\n",
      "Biryanis And More                                  Predicted Rating :  3.5\n",
      "Le Arabia                                          Predicted Rating :  3.8\n",
      "Cake Chemistry                                     Predicted Rating :  3.5\n",
      "Momo Blues                                         Predicted Rating :  3.5\n",
      "All Aromas                                         Predicted Rating :  3.4\n",
      "Artinci Artisanal Ice Cream                        Predicted Rating :  3.6\n",
      "Blue Tokai Coffee Roasters                         Predicted Rating :  3.7\n",
      "World Of Asia                                      Predicted Rating :  3.9\n",
      "Ulavacharu                                         Predicted Rating :  4.0\n",
      "Falooda Cafe                                       Predicted Rating :  3.7\n",
      "SLV Ragigudda                                      Predicted Rating :  3.7\n",
      "The London Shakes                                  Predicted Rating :  3.4\n",
      "Ilyazsab Shawarma Cafe                             Predicted Rating :  3.5\n",
      "Only Sharjah                                       Predicted Rating :  3.5\n",
      "The Chai Stop                                      Predicted Rating :  3.5\n",
      "Hyderabad Express                                  Predicted Rating :  3.6\n",
      "Cookie Man                                         Predicted Rating :  3.4\n",
      "Sharma Ji Chaats And Desi khana                    Predicted Rating :  3.3\n"
     ]
    },
    {
     "name": "stdout",
     "output_type": "stream",
     "text": [
      "PK Dhaba                                           Predicted Rating :  3.6\n",
      "Caramel Shake                                      Predicted Rating :  3.7\n",
      "Authentic Aandhra                                  Predicted Rating :  3.5\n",
      "Al Khaleej Snacks Corner                           Predicted Rating :  3.3\n",
      "Heaven 2 Oven                                      Predicted Rating :  3.6\n",
      "Green Go                                           Predicted Rating :  3.5\n",
      "Eatsomnia                                          Predicted Rating :  3.7\n",
      "China Town 07                                      Predicted Rating :  3.5\n",
      "I-Scoop Cafe                                       Predicted Rating :  3.7\n",
      "Al-Marhaba Restaurant                              Predicted Rating :  3.5\n",
      "Desi Aahar                                         Predicted Rating :  3.2\n",
      "The Paratha Stories                                Predicted Rating :  3.2\n",
      "Kitchen24                                          Predicted Rating :  3.4\n",
      "Smoke Oil Salt                                     Predicted Rating :  3.8\n",
      "Healthy Parathawala                                Predicted Rating :  3.5\n",
      "Totus                                              Predicted Rating :  3.6\n",
      "Happy Eats                                         Predicted Rating :  3.6\n",
      "Baba Chatkora                                      Predicted Rating :  3.7\n",
      "Fogg                                               Predicted Rating :  3.7\n",
      "The Punjabi Rasoi                                  Predicted Rating :  3.6\n",
      "Moms Flavor                                        Predicted Rating :  3.4\n",
      "Sri's Kitchen                                      Predicted Rating :  3.2\n",
      "Perch                                              Predicted Rating :  3.5\n",
      "Kallummakkaya                                      Predicted Rating :  3.5\n",
      "Nourich                                            Predicted Rating :  3.9\n",
      "BEIR                                               Predicted Rating :  3.8\n",
      "Wudfyr                                             Predicted Rating :  3.8\n",
      "Smooth                                             Predicted Rating :  3.7\n",
      "Amjad Bhai's Star Hotel - Home Food Only           Predicted Rating :  3.4\n",
      "Sree Banashankari Donne Biriyani                   Predicted Rating :  3.3\n",
      "Stop N Joy                                         Predicted Rating :  3.4\n",
      "Costal Kadai                                       Predicted Rating :  3.8\n",
      "Hari Super Sandwich                                Predicted Rating :  3.4\n",
      "Tasty Restaurant                                   Predicted Rating :  3.5\n",
      "Nutri Fit                                          Predicted Rating :  2.9\n",
      "Cafe Sulaimani                                     Predicted Rating :  3.8\n",
      "Padosi Apke Apne                                   Predicted Rating :  3.4\n",
      "Rayalaseema Abhiruchulu                            Predicted Rating :  3.2\n",
      "New Udupi Dharshini                                Predicted Rating :  3.4\n",
      "Chill Magic                                        Predicted Rating :  3.4\n",
      "Davanagere Benne Dosa                              Predicted Rating :  3.4\n",
      "Mawa and Co                                        Predicted Rating :  3.6\n",
      "The Cake Zone                                      Predicted Rating :  3.6\n",
      "90's Cafe                                          Predicted Rating :  3.5\n",
      "Cake Of Day                                        Predicted Rating :  3.6\n",
      "Dose Manjanna                                      Predicted Rating :  3.5\n",
      "Bao & Grills                                       Predicted Rating :  3.5\n",
      "Crave Bit Cafe                                     Predicted Rating :  3.7\n",
      "Fusion Theory                                      Predicted Rating :  3.8\n",
      "Cafe Zuppa                                         Predicted Rating :  3.7\n",
      "Cafe Conico                                        Predicted Rating :  3.7\n",
      "Me N U                                             Predicted Rating :  3.6\n",
      "Royal King Cafe                                    Predicted Rating :  3.5\n",
      "Le Arabia                                          Predicted Rating :  3.8\n",
      "Bathinda Tandoor                                   Predicted Rating :  3.8\n",
      "Biryani Royals Garden                              Predicted Rating :  3.6\n",
      "Cake Chemistry                                     Predicted Rating :  3.5\n",
      "Thalassery Restaurant                              Predicted Rating :  3.5\n",
      "Bangalore Pantry                                   Predicted Rating :  3.4\n",
      "Artinci Artisanal Ice Cream                        Predicted Rating :  3.9\n",
      "Momo King                                          Predicted Rating :  3.7\n",
      "World Of Asia                                      Predicted Rating :  3.9\n",
      "SLV Ragigudda                                      Predicted Rating :  3.7\n",
      "The London Shakes                                  Predicted Rating :  3.4\n",
      "Cafe Zuppa                                         Predicted Rating :  3.7\n",
      "Baba Chatkora                                      Predicted Rating :  3.7\n",
      "The Kitchen                                        Predicted Rating :  3.8\n",
      "Nourich                                            Predicted Rating :  3.9\n",
      "Only Sharjah                                       Predicted Rating :  3.5\n",
      "Ilyazsab Shawarma Cafe                             Predicted Rating :  3.5\n",
      "Happy Eats                                         Predicted Rating :  3.5\n",
      "Cookie Man                                         Predicted Rating :  3.4\n",
      "Wudfyr                                             Predicted Rating :  3.8\n",
      "PK Dhaba                                           Predicted Rating :  3.6\n",
      "Sri Banashankari Upahara                           Predicted Rating :  3.7\n",
      "Authentic Aandhra                                  Predicted Rating :  3.5\n",
      "Lassi Corner                                       Predicted Rating :  3.6\n",
      "Karavali Grand                                     Predicted Rating :  4.0\n",
      "Chill Magic                                        Predicted Rating :  3.4\n",
      "Eatsomnia                                          Predicted Rating :  3.7\n",
      "Costal Kadai                                       Predicted Rating :  3.8\n",
      "China Town 07                                      Predicted Rating :  3.5\n",
      "The Punjabi Rasoi                                  Predicted Rating :  3.6\n",
      "Tasty Restaurant                                   Predicted Rating :  3.5\n",
      "Pizza Hut                                          Predicted Rating :  3.7\n",
      "Nutri Fit                                          Predicted Rating :  2.9\n",
      "Padosi Apke Apne                                   Predicted Rating :  3.4\n",
      "Grill On Wheels                                    Predicted Rating :  3.4\n",
      "Green Go                                           Predicted Rating :  3.5\n",
      "Heaven 2 Oven                                      Predicted Rating :  3.6\n",
      "The Paratha Stories                                Predicted Rating :  3.2\n",
      "Shake The Shake                                    Predicted Rating :  3.5\n",
      "Kitchen24                                          Predicted Rating :  3.4\n",
      "Smoke Oil Salt                                     Predicted Rating :  3.8\n",
      "Al-Marhaba Restaurant                              Predicted Rating :  3.5\n",
      "Totus                                              Predicted Rating :  3.6\n",
      "Northern Bites                                     Predicted Rating :  3.4\n",
      "Moms Flavor                                        Predicted Rating :  3.4\n",
      "Perch                                              Predicted Rating :  3.5\n",
      "Healthy Parathawala                                Predicted Rating :  3.5\n",
      "Desi Aahar                                         Predicted Rating :  3.2\n",
      "BEIR                                               Predicted Rating :  3.8\n",
      "Sharma Ji Chaats And Desi khana                    Predicted Rating :  3.3\n",
      "Sree Banashankari Donne Biriyani                   Predicted Rating :  3.3\n",
      "New Kabab Plaza                                    Predicted Rating :  3.6\n",
      "Dastarkhan                                         Predicted Rating :  3.5\n",
      "I-Scoop Cafe                                       Predicted Rating :  3.7\n",
      "The Ocean Kitchen                                  Predicted Rating :  3.4\n",
      "Smooth                                             Predicted Rating :  3.7\n",
      "Davanagere Benne Dosa                              Predicted Rating :  3.4\n",
      "Amjad Bhai's Star Hotel - Home Food Only           Predicted Rating :  3.4\n",
      "Al Khaleej Snacks Corner                           Predicted Rating :  3.3\n",
      "Bhojan@99                                          Predicted Rating :  3.4\n",
      "Hyderabad Express                                  Predicted Rating :  3.6\n",
      "The Cake Zone                                      Predicted Rating :  3.6\n",
      "90's Cafe                                          Predicted Rating :  3.5\n",
      "Artinci Artisanal Ice Cream                        Predicted Rating :  3.6\n",
      "Cake Chemistry                                     Predicted Rating :  3.5\n",
      "Dessi Cuppa                                        Predicted Rating :  3.6\n",
      "Brahma Brews                                       Predicted Rating :  4.2\n",
      "Levitate Brewery and Kitchen                       Predicted Rating :  4.3\n",
      "Nourich                                            Predicted Rating :  3.9\n",
      "Blytons                                            Predicted Rating :  3.7\n",
      "Aramane Donne Biryani                              Predicted Rating :  3.7\n",
      "Potu's kitchen                                     Predicted Rating :  3.5\n",
      "Peat & Fire                                        Predicted Rating :  3.3\n",
      "Rajdhani Special Chole Bhature                     Predicted Rating :  3.5\n",
      "Annapurna Benne Dose                               Predicted Rating :  3.6\n",
      "Sri Nanjundeshwara Canteen                         Predicted Rating :  3.4\n",
      "Sahodara Savi Ruchi                                Predicted Rating :  3.7\n",
      "Sai Abhiruchi                                      Predicted Rating :  3.6\n",
      "Thalassery Hotel                                   Predicted Rating :  3.5\n",
      "Bao & Grills                                       Predicted Rating :  3.5\n",
      "Basveshwara Khaanavali                             Predicted Rating :  3.7\n",
      "Namaste                                            Predicted Rating :  3.4\n",
      "Royal Biryani Center                               Predicted Rating :  3.4\n",
      "Lambsters                                          Predicted Rating :  3.5\n",
      "Rana Vada Pav                                      Predicted Rating :  3.8\n",
      "Let's Bounce                                       Predicted Rating :  3.6\n",
      "Lakeview Milkbar                                   Predicted Rating :  3.7\n",
      "Cuppa Joy                                          Predicted Rating :  3.7\n",
      "Firki Cafe                                         Predicted Rating :  3.9\n",
      "Maestros Cafe                                      Predicted Rating :  3.5\n",
      "Sumac Resto Cafe                                   Predicted Rating :  3.6\n",
      "Lemlei Cafe                                        Predicted Rating :  3.4\n",
      "Andhra Biriyani Palace                             Predicted Rating :  3.5\n",
      "Gongura Biriyani House                             Predicted Rating :  3.5\n",
      "Kapoor's Punjabi Rolls                             Predicted Rating :  3.5\n",
      "Wood Fire Pizza                                    Predicted Rating :  3.6\n",
      "Mamaji's                                           Predicted Rating :  3.6\n",
      "Andhra Spicy Inn                                   Predicted Rating :  3.4\n",
      "Suvarna Sree Food Paradise                         Predicted Rating :  3.4\n",
      "Ganesh Food Joint                                  Predicted Rating :  3.5\n",
      "Navami Kitchen                                     Predicted Rating :  3.5\n",
      "XO Belgian Waffle                                  Predicted Rating :  4.4\n",
      "Bunty's Belly                                      Predicted Rating :  3.5\n",
      "Bisi Thindi                                        Predicted Rating :  3.7\n",
      "D-Zaprino                                          Predicted Rating :  3.6\n",
      "Zamorin's Mappillah Biryani                        Predicted Rating :  3.4\n",
      "Awesome Biryani                                    Predicted Rating :  3.4\n",
      "The Feast Fries                                    Predicted Rating :  3.4\n",
      "Beijing Bites                                      Predicted Rating :  3.7\n",
      "Cuppa Joy                                          Predicted Rating :  3.7\n",
      "Snow'ora                                           Predicted Rating :  4.0\n",
      "Tandoor Bhatti                                     Predicted Rating :  3.7\n",
      "Samosa Singh                                       Predicted Rating :  3.5\n",
      "F Juice                                            Predicted Rating :  3.6\n",
      "Happy Eats                                         Predicted Rating :  3.6\n",
      "Healthy Hawker                                     Predicted Rating :  3.1\n",
      "Hotel AL-Zaioa                                     Predicted Rating :  3.5\n",
      "Bangarpet Chats                                    Predicted Rating :  3.5\n",
      "La-Pizza                                           Predicted Rating :  3.5\n",
      "Heaven Biryani And Shawarma                        Predicted Rating :  3.4\n",
      "Multi Ruchish                                      Predicted Rating :  3.6\n",
      "Sulemani Chichas                                   Predicted Rating :  3.5\n",
      "Kaapikada                                          Predicted Rating :  3.5\n",
      "Mitraa Da Pizza                                    Predicted Rating :  3.5\n",
      "Karachi Bakery                                     Predicted Rating :  3.5\n",
      "Amma's Biryani & Rice                              Predicted Rating :  3.7\n",
      "Sneha Fast Food                                    Predicted Rating :  3.4\n",
      "Hot Momos                                          Predicted Rating :  3.4\n",
      "Feel The Taste                                     Predicted Rating :  3.2\n",
      "Lassi House                                        Predicted Rating :  3.6\n",
      "Smooth                                             Predicted Rating :  3.8\n",
      "Bhuvaneshwari Mess                                 Predicted Rating :  3.5\n",
      "Nine2twelve                                        Predicted Rating :  3.8\n",
      "New Taj Biryani Centre                             Predicted Rating :  3.3\n",
      "Mamaji's                                           Predicted Rating :  3.6\n",
      "MK Biryani                                         Predicted Rating :  3.5\n",
      "Malabar Day                                        Predicted Rating :  3.5\n",
      "Suvarna Sree Food Paradise                         Predicted Rating :  3.4\n",
      "Al-Noor Restaurant                                 Predicted Rating :  3.5\n",
      "Navami Kitchen                                     Predicted Rating :  3.5\n",
      "Sri Guru Vaibhava Veg                              Predicted Rating :  3.2\n",
      "Hatti Punjab Di                                    Predicted Rating :  3.3\n",
      "Krishna Leela Grand                                Predicted Rating :  3.4\n",
      "Sumac Resto Cafe                                   Predicted Rating :  3.6\n",
      "Lemlei Cafe                                        Predicted Rating :  3.4\n",
      "Lakeview Milkbar                                   Predicted Rating :  3.7\n",
      "Maestros Cafe                                      Predicted Rating :  3.5\n",
      "Cuppa Joy                                          Predicted Rating :  3.7\n",
      "Firki Cafe                                         Predicted Rating :  3.9\n",
      "Kapoor's Punjabi Rolls                             Predicted Rating :  3.5\n",
      "Ganesh Food Joint                                  Predicted Rating :  3.5\n",
      "The Feast Fries                                    Predicted Rating :  3.4\n",
      "Andhra Spicy Inn                                   Predicted Rating :  3.4\n",
      "XO Belgian Waffle                                  Predicted Rating :  4.4\n",
      "Mamaji's                                           Predicted Rating :  3.6\n",
      "Bisi Thindi                                        Predicted Rating :  3.7\n",
      "Snow'ora                                           Predicted Rating :  4.0\n",
      "Navami Kitchen                                     Predicted Rating :  3.5\n",
      "Suvarna Sree Food Paradise                         Predicted Rating :  3.4\n",
      "Tandoor Bhatti                                     Predicted Rating :  3.7\n",
      "Mitraa Da Pizza                                    Predicted Rating :  3.5\n",
      "Kaapikada                                          Predicted Rating :  3.5\n",
      "Amma's Biryani & Rice                              Predicted Rating :  3.7\n",
      "Beijing Bites                                      Predicted Rating :  3.7\n",
      "Happy Eats                                         Predicted Rating :  3.6\n",
      "Bangarpet Chats                                    Predicted Rating :  3.5\n",
      "Sulemani Chichas                                   Predicted Rating :  3.5\n",
      "Healthy Hawker                                     Predicted Rating :  3.1\n",
      "La-Pizza                                           Predicted Rating :  3.5\n",
      "Heaven Biryani And Shawarma                        Predicted Rating :  3.4\n",
      "Bunty's Belly                                      Predicted Rating :  3.5\n",
      "Karachi Bakery                                     Predicted Rating :  3.5\n",
      "Biswal's Food Circle                               Predicted Rating :  3.3\n",
      "Awesome Biryani                                    Predicted Rating :  3.4\n",
      "Hot Momos                                          Predicted Rating :  3.4\n",
      "Feel The Taste                                     Predicted Rating :  3.2\n",
      "Samosa Singh                                       Predicted Rating :  3.5\n",
      "Hotel AL-Zaioa                                     Predicted Rating :  3.5\n",
      "F Juice                                            Predicted Rating :  3.6\n",
      "Lassi House                                        Predicted Rating :  3.6\n",
      "Multi Ruchish                                      Predicted Rating :  3.6\n",
      "Smooth                                             Predicted Rating :  3.8\n",
      "The Flying Trapeze                                 Predicted Rating :  4.1\n",
      "White Fog                                          Predicted Rating :  4.0\n",
      "Dipd N Chocolate                                   Predicted Rating :  3.8\n",
      "Biryanis And More                                  Predicted Rating :  3.5\n",
      "Basmati's Briyani Nation                           Predicted Rating :  3.4\n",
      "Momo Blues                                         Predicted Rating :  3.5\n",
      "All Aromas                                         Predicted Rating :  3.4\n",
      "The Chef's Cake & Bakes                            Predicted Rating :  3.9\n",
      "Akshaya Bar And Restaurant                         Predicted Rating :  3.6\n",
      "Telugu Velugu                                      Predicted Rating :  3.6\n",
      "Ulavacharu                                         Predicted Rating :  4.0\n",
      "Falooda Cafe                                       Predicted Rating :  3.7\n",
      "Seven Ate Nine                                     Predicted Rating :  4.0\n",
      "The London Shakes                                  Predicted Rating :  3.5\n",
      "Jenisha Green View Restaurant                      Predicted Rating :  3.7\n",
      "Ilyazsab Shawarma Cafe                             Predicted Rating :  3.5\n",
      "Tea Trails                                         Predicted Rating :  3.7\n",
      "Cheers Pub Bar & Restro                            Predicted Rating :  4.1\n",
      "My Tea House                                       Predicted Rating :  4.0\n",
      "The Chai Stop                                      Predicted Rating :  3.5\n",
      "Wow Kitchen Punjabi Taste                          Predicted Rating :  3.3\n",
      "Sri Srinivas Park Hotel                            Predicted Rating :  3.7\n",
      "Melting Melodies                                   Predicted Rating :  3.9\n",
      "Caramel Shake                                      Predicted Rating :  3.7\n",
      "Khiche Chale Aao                                   Predicted Rating :  3.7\n",
      "Heaven 2 Oven                                      Predicted Rating :  3.6\n",
      "House of Chaaps                                    Predicted Rating :  3.7\n",
      "Al-Marhaba Restaurant                              Predicted Rating :  3.5\n",
      "Tiffin Box                                         Predicted Rating :  3.5\n",
      "Wedding Biryani                                    Predicted Rating :  3.3\n",
      "Hyderabadi Biryani House                           Predicted Rating :  3.4\n",
      "Kalpana's Kitchen                                  Predicted Rating :  3.3\n",
      "GR Foods                                           Predicted Rating :  3.4\n",
      "Midnight Special                                   Predicted Rating :  3.4\n",
      "9 Bowls                                            Predicted Rating :  3.6\n",
      "Star Bowl                                          Predicted Rating :  3.4\n",
      "Healthy Parathawala                                Predicted Rating :  3.5\n",
      "Hungry Monster                                     Predicted Rating :  3.2\n",
      "Desi Aahar                                         Predicted Rating :  3.3\n",
      "Happy Eats                                         Predicted Rating :  3.6\n",
      "Biryani Rooh-e-Khaas                               Predicted Rating :  3.3\n",
      "Side Street Kitchen                                Predicted Rating :  3.6\n",
      "The Food Therapy                                   Predicted Rating :  3.4\n",
      "Kerala Mess. SIJI's MESS                           Predicted Rating :  3.4\n",
      "Eat up's Cloud Kitchen                             Predicted Rating :  3.5\n",
      "Garden Hotel                                       Predicted Rating :  3.2\n",
      "Choo Zi                                            Predicted Rating :  3.4\n",
      "Lassi House                                        Predicted Rating :  3.5\n",
      "Tasty Kitchens                                     Predicted Rating :  3.5\n",
      "Asgardian Moreover Chai                            Predicted Rating :  3.5\n",
      "Fogg                                               Predicted Rating :  3.7\n",
      "Nonveg Dreams                                      Predicted Rating :  3.4\n",
      "Dawat E Biryani                                    Predicted Rating :  3.5\n",
      "Aata's Kitchen                                     Predicted Rating :  3.4\n",
      "Punjabi Unplugged                                  Predicted Rating :  3.6\n",
      "Cravisthan                                         Predicted Rating :  3.5\n",
      "Waffle Stories                                     Predicted Rating :  4.0\n",
      "Pan Asian                                          Predicted Rating :  3.6\n",
      "Vanilla Pod                                        Predicted Rating :  3.5\n",
      "Royal Bakes                                        Predicted Rating :  3.6\n",
      "The Shawarma Shop                                  Predicted Rating :  3.5\n",
      "Bob's Bar                                          Predicted Rating :  3.8\n",
      "Kerala Mess. SIJI's MESS                           Predicted Rating :  3.4\n",
      "The Bar Therapy                                    Predicted Rating :  3.6\n",
      "Mayura Grand Pure Veg Restaurant                   Predicted Rating :  3.5\n",
      "Tomba Kitchens                                     Predicted Rating :  3.7\n",
      "Aata's Kitchen                                     Predicted Rating :  3.4\n",
      "Ksheera Sagar                                      Predicted Rating :  3.8\n",
      "Garage Food Company                                Predicted Rating :  3.7\n",
      "House of Chaaps                                    Predicted Rating :  3.6\n",
      "Sri Durga Fast Food                                Predicted Rating :  3.5\n",
      "Agraharaa                                          Predicted Rating :  3.4\n",
      "Crown Resto                                        Predicted Rating :  3.6\n",
      "Hyderabadi Biryani House                           Predicted Rating :  3.4\n",
      "Fogg                                               Predicted Rating :  4.1\n",
      "The Flying Trapeze                                 Predicted Rating :  4.1\n",
      "Aaccord Restaurant                                 Predicted Rating :  3.6\n",
      "Basmati's Briyani Nation                           Predicted Rating :  3.4\n",
      "All Aromas                                         Predicted Rating :  3.4\n",
      "The Chef's Cake & Bakes                            Predicted Rating :  3.9\n",
      "China Town 07                                      Predicted Rating :  3.5\n",
      "Akshaya Bar And Restaurant                         Predicted Rating :  3.6\n",
      "Momo Blues                                         Predicted Rating :  3.5\n",
      "SLV Ragigudda                                      Predicted Rating :  3.7\n",
      "Jenisha Green View Restaurant                      Predicted Rating :  3.7\n",
      "Authentic Aandhra                                  Predicted Rating :  3.5\n",
      "Falooda Cafe                                       Predicted Rating :  3.7\n",
      "Sri Srinivas Park Hotel                            Predicted Rating :  3.7\n",
      "Side Street Kitchen                                Predicted Rating :  3.6\n",
      "Tea Trails                                         Predicted Rating :  3.7\n",
      "Melting Melodies                                   Predicted Rating :  3.9\n",
      "The Chai Stop                                      Predicted Rating :  3.5\n",
      "Khiche Chale Aao                                   Predicted Rating :  3.7\n",
      "My Tea House                                       Predicted Rating :  4.0\n",
      "Only Sharjah                                       Predicted Rating :  3.5\n",
      "Choo Zi                                            Predicted Rating :  3.4\n",
      "Al-Marhaba Restaurant                              Predicted Rating :  3.5\n",
      "Caramel Shake                                      Predicted Rating :  3.7\n",
      "Desi Aahar                                         Predicted Rating :  3.3\n",
      "Ilyazsab Shawarma Cafe                             Predicted Rating :  3.5\n",
      "Heaven 2 Oven                                      Predicted Rating :  3.6\n",
      "9 Bowls                                            Predicted Rating :  3.4\n",
      "Star Bowl                                          Predicted Rating :  3.4\n",
      "Biryani Rooh-e-Khaas                               Predicted Rating :  3.3\n",
      "House of Chaaps                                    Predicted Rating :  3.6\n",
      "Wedding Biryani                                    Predicted Rating :  3.5\n",
      "Happy Eats                                         Predicted Rating :  3.6\n",
      "Punjabi Unplugged                                  Predicted Rating :  3.6\n",
      "Cheers Pub Bar & Restro                            Predicted Rating :  4.1\n",
      "The Food Therapy                                   Predicted Rating :  3.4\n",
      "Khaja Point                                        Predicted Rating :  3.4\n",
      "Kerala Mess. SIJI's MESS                           Predicted Rating :  3.4\n",
      "Stop N Joy                                         Predicted Rating :  3.4\n"
     ]
    },
    {
     "name": "stdout",
     "output_type": "stream",
     "text": [
      "Eat up's Cloud Kitchen                             Predicted Rating :  3.5\n",
      "Murali Military hotel                              Predicted Rating :  3.4\n",
      "Hyderabadi Biryani House                           Predicted Rating :  3.4\n",
      "Garden Hotel                                       Predicted Rating :  3.2\n",
      "Chai Makhan                                        Predicted Rating :  3.4\n",
      "Cafe Sulaimani                                     Predicted Rating :  3.8\n",
      "Ruchi's Foodies Blast                              Predicted Rating :  3.1\n",
      "Kalpana's Kitchen                                  Predicted Rating :  3.3\n",
      "Rayalaseema Abhiruchulu                            Predicted Rating :  3.2\n",
      "GR Foods                                           Predicted Rating :  3.4\n",
      "New Udupi Dharshini                                Predicted Rating :  3.4\n",
      "Ice N Spice                                        Predicted Rating :  3.5\n",
      "Tasty Kitchens                                     Predicted Rating :  3.5\n",
      "Fogg                                               Predicted Rating :  4.1\n",
      "Friends Chats Adda                                 Predicted Rating :  3.4\n",
      "Asgardian Moreover Chai                            Predicted Rating :  3.5\n",
      "Nonveg Dreams                                      Predicted Rating :  3.4\n",
      "Cafe Longing                                       Predicted Rating :  3.6\n",
      "Dawat E Biryani                                    Predicted Rating :  3.5\n",
      "Dipd N Chocolate                                   Predicted Rating :  3.8\n",
      "Aata's Kitchen                                     Predicted Rating :  3.4\n",
      "Cravisthan                                         Predicted Rating :  3.5\n",
      "Pan Asian                                          Predicted Rating :  3.6\n",
      "Royal Bakes                                        Predicted Rating :  3.6\n",
      "Vanilla Pod                                        Predicted Rating :  3.5\n",
      "Choco Cheese                                       Predicted Rating :  3.6\n",
      "Domino's Pizza                                     Predicted Rating :  3.9\n",
      "Bob's Bar                                          Predicted Rating :  3.8\n",
      "White Fog                                          Predicted Rating :  4.0\n",
      "The Bar Therapy                                    Predicted Rating :  3.6\n",
      "Mayura Grand Pure Veg Restaurant                   Predicted Rating :  3.5\n",
      "Tomba Kitchens                                     Predicted Rating :  3.7\n",
      "The Shawarma Shop                                  Predicted Rating :  3.5\n",
      "9 Bowls                                            Predicted Rating :  3.6\n",
      "Ksheera Sagar                                      Predicted Rating :  3.8\n",
      "Garage Food Company                                Predicted Rating :  3.7\n",
      "Sri Durga Fast Food                                Predicted Rating :  3.5\n",
      "Agraharaa                                          Predicted Rating :  3.4\n",
      "S.S Bangali Restaurant                             Predicted Rating :  3.4\n",
      "Venessa                                            Predicted Rating :  4.0\n",
      "BTM                                                Predicted Rating :  3.5\n",
      "Shiva's Bar And Restaurant                         Predicted Rating :  3.6\n",
      "Crown Resto                                        Predicted Rating :  3.6\n",
      "Shawarma Bite                                      Predicted Rating :  3.5\n",
      "The Grand Kitchen Restaurant                       Predicted Rating :  3.3\n",
      "New Shetty Lunch Bhavan                            Predicted Rating :  3.6\n",
      "Hotel Udipi Krishna                                Predicted Rating :  3.5\n",
      "Chorum Curryum                                     Predicted Rating :  3.5\n",
      "The Flying Trapeze                                 Predicted Rating :  4.1\n",
      "White Fog                                          Predicted Rating :  4.0\n",
      "Dipd N Chocolate                                   Predicted Rating :  3.8\n",
      "Basmati's Briyani Nation                           Predicted Rating :  3.4\n",
      "Momo Blues                                         Predicted Rating :  3.5\n",
      "Falooda Cafe                                       Predicted Rating :  3.7\n",
      "Ilyazsab Shawarma Cafe                             Predicted Rating :  3.5\n",
      "Akshaya Bar And Restaurant                         Predicted Rating :  3.6\n",
      "Jenisha Green View Restaurant                      Predicted Rating :  3.7\n",
      "Sri Srinivas Park Hotel                            Predicted Rating :  3.7\n",
      "House of Chaaps                                    Predicted Rating :  3.6\n",
      "Melting Melodies                                   Predicted Rating :  3.9\n",
      "Khiche Chale Aao                                   Predicted Rating :  3.7\n",
      "Caramel Shake                                      Predicted Rating :  3.7\n",
      "My Tea House                                       Predicted Rating :  4.0\n",
      "The Chai Stop                                      Predicted Rating :  3.5\n",
      "Al-Marhaba Restaurant                              Predicted Rating :  3.5\n",
      "Biryani Rooh-e-Khaas                               Predicted Rating :  3.3\n",
      "Tasty Kitchens                                     Predicted Rating :  3.5\n",
      "Tiffin Box                                         Predicted Rating :  3.5\n",
      "Happy Eats                                         Predicted Rating :  3.6\n",
      "Nutri Fit                                          Predicted Rating :  2.9\n",
      "Fogg                                               Predicted Rating :  4.1\n",
      "Punjabi Unplugged                                  Predicted Rating :  3.6\n",
      "Desi Aahar                                         Predicted Rating :  3.3\n",
      "Cheers Pub Bar & Restro                            Predicted Rating :  4.1\n",
      "Pan Asian                                          Predicted Rating :  3.6\n",
      "Side Street Kitchen                                Predicted Rating :  3.6\n",
      "Asgardian Moreover Chai                            Predicted Rating :  3.5\n",
      "The Food Therapy                                   Predicted Rating :  3.4\n",
      "Kerala Mess. SIJI's MESS                           Predicted Rating :  3.4\n",
      "Garage Food Company                                Predicted Rating :  3.7\n",
      "Eat up's Cloud Kitchen                             Predicted Rating :  3.5\n",
      "Garden Hotel                                       Predicted Rating :  3.2\n",
      "Cafe Sulaimani                                     Predicted Rating :  3.8\n",
      "Kalpana's Kitchen                                  Predicted Rating :  3.3\n",
      "Rayalaseema Abhiruchulu                            Predicted Rating :  3.2\n",
      "GR Foods                                           Predicted Rating :  3.4\n",
      "New Udupi Dharshini                                Predicted Rating :  3.4\n",
      "9 Bowls                                            Predicted Rating :  3.6\n",
      "Choo Zi                                            Predicted Rating :  3.4\n",
      "Nonveg Dreams                                      Predicted Rating :  3.4\n",
      "Dawat E Biryani                                    Predicted Rating :  3.5\n",
      "Go Italia                                          Predicted Rating :  3.5\n",
      "Cravisthan                                         Predicted Rating :  3.5\n",
      "Wedding Biryani                                    Predicted Rating :  3.5\n",
      "Royal Bakes                                        Predicted Rating :  3.6\n",
      "Vanilla Pod                                        Predicted Rating :  3.5\n",
      "Mayura Grand Pure Veg Restaurant                   Predicted Rating :  3.5\n",
      "Agraharaa                                          Predicted Rating :  3.4\n",
      "Bob's Bar                                          Predicted Rating :  3.8\n",
      "Kerala Mess. SIJI's MESS                           Predicted Rating :  3.4\n",
      "The Bar Therapy                                    Predicted Rating :  3.6\n",
      "Momo Blues                                         Predicted Rating :  3.5\n",
      "Tomba Kitchens                                     Predicted Rating :  3.7\n",
      "Ksheera Sagar                                      Predicted Rating :  3.8\n",
      "Sri Durga Fast Food                                Predicted Rating :  3.5\n",
      "Crown Resto                                        Predicted Rating :  3.6\n",
      "Hotel Udipi Krishna                                Predicted Rating :  3.5\n",
      "S.S Bangali Restaurant                             Predicted Rating :  3.4\n",
      "Shawarma Bite                                      Predicted Rating :  3.5\n",
      "Hotel Sekar                                        Predicted Rating :  3.5\n",
      "Malabar Kitchen                                    Predicted Rating :  3.4\n",
      "The Flying Trapeze                                 Predicted Rating :  4.1\n",
      "Aaccord Restaurant                                 Predicted Rating :  3.6\n",
      "Dipd N Chocolate                                   Predicted Rating :  3.8\n",
      "White Fog                                          Predicted Rating :  4.0\n",
      "Shivaay's Cafe                                     Predicted Rating :  3.8\n",
      "Basmati's Briyani Nation                           Predicted Rating :  3.4\n",
      "Cake Chemistry                                     Predicted Rating :  3.5\n",
      "Ilyazsab Shawarma Cafe                             Predicted Rating :  3.5\n",
      "China Town 07                                      Predicted Rating :  3.5\n",
      "Jenisha Green View Restaurant                      Predicted Rating :  3.7\n",
      "SLV Ragigudda                                      Predicted Rating :  3.7\n",
      "Authentic Aandhra                                  Predicted Rating :  3.5\n",
      "Sri Srinivas Park Hotel                            Predicted Rating :  3.7\n",
      "Only Sharjah                                       Predicted Rating :  3.5\n",
      "Cookie Man                                         Predicted Rating :  3.4\n",
      "House of Chaaps                                    Predicted Rating :  3.7\n",
      "Melting Melodies                                   Predicted Rating :  3.9\n",
      "Khiche Chale Aao                                   Predicted Rating :  3.7\n",
      "Caramel Shake                                      Predicted Rating :  3.7\n",
      "The Chai Stop                                      Predicted Rating :  3.5\n",
      "Heaven 2 Oven                                      Predicted Rating :  3.6\n",
      "Al-Marhaba Restaurant                              Predicted Rating :  3.5\n",
      "Green Go                                           Predicted Rating :  3.5\n",
      "Biryani Rooh-e-Khaas                               Predicted Rating :  3.3\n",
      "Happy Eats                                         Predicted Rating :  3.6\n",
      "Fogg                                               Predicted Rating :  4.1\n",
      "Tasty Kitchens                                     Predicted Rating :  3.5\n",
      "Punjabi Unplugged                                  Predicted Rating :  3.6\n",
      "Desi Aahar                                         Predicted Rating :  3.3\n",
      "Cheers Pub Bar & Restro                            Predicted Rating :  4.1\n",
      "Pan Asian                                          Predicted Rating :  3.6\n",
      "Side Street Kitchen                                Predicted Rating :  3.6\n",
      "Asgardian Moreover Chai                            Predicted Rating :  3.5\n",
      "The Food Therapy                                   Predicted Rating :  3.4\n",
      "Kerala Mess. SIJI's MESS                           Predicted Rating :  3.4\n",
      "Khaja Point                                        Predicted Rating :  3.4\n",
      "Hunger Lust                                        Predicted Rating :  3.4\n",
      "Friends Chats Adda                                 Predicted Rating :  3.4\n",
      "Amjad Bhai's Star Hotel - Home Food Only           Predicted Rating :  3.4\n",
      "Garage Food Company                                Predicted Rating :  3.7\n",
      "Stop N Joy                                         Predicted Rating :  3.4\n",
      "Ice N Spice                                        Predicted Rating :  3.5\n",
      "Eat up's Cloud Kitchen                             Predicted Rating :  3.5\n",
      "Chai Makhan                                        Predicted Rating :  3.4\n",
      "Cafe Sulaimani                                     Predicted Rating :  3.8\n",
      "Ruchi's Foodies Blast                              Predicted Rating :  3.1\n",
      "Kalpana's Kitchen                                  Predicted Rating :  3.3\n",
      "Rayalaseema Abhiruchulu                            Predicted Rating :  3.2\n",
      "GR Foods                                           Predicted Rating :  3.4\n",
      "New Udupi Dharshini                                Predicted Rating :  3.4\n",
      "Choo Zi                                            Predicted Rating :  3.4\n",
      "Nutri Fit                                          Predicted Rating :  2.9\n",
      "Nonveg Dreams                                      Predicted Rating :  3.4\n",
      "Cafe Longing                                       Predicted Rating :  3.6\n",
      "Dawat E Biryani                                    Predicted Rating :  3.5\n",
      "Vanilla Pod                                        Predicted Rating :  3.5\n",
      "Choco Cheese                                       Predicted Rating :  3.6\n",
      "Bob's Bar                                          Predicted Rating :  3.8\n",
      "Cheers Pub Bar & Restro                            Predicted Rating :  4.1\n",
      "The Flying Trapeze                                 Predicted Rating :  4.3\n",
      "Mayura Grand Pure Veg Restaurant                   Predicted Rating :  3.5\n",
      "Tomba Kitchens                                     Predicted Rating :  3.7\n",
      "Agraharaa                                          Predicted Rating :  3.4\n",
      "Ksheera Sagar                                      Predicted Rating :  3.4\n",
      "Sri Durga Fast Food                                Predicted Rating :  3.5\n",
      "Crown Resto                                        Predicted Rating :  3.6\n",
      "Al Manar                                           Predicted Rating :  3.2\n",
      "Hotel Udipi Krishna                                Predicted Rating :  3.5\n",
      "S.S Bangali Restaurant                             Predicted Rating :  3.4\n",
      "Venessa                                            Predicted Rating :  4.0\n",
      "BTM                                                Predicted Rating :  3.5\n",
      "Shiva's Bar And Restaurant                         Predicted Rating :  3.6\n",
      "The Bar Therapy                                    Predicted Rating :  3.6\n",
      "Chorum Curryum                                     Predicted Rating :  3.5\n",
      "Ice N Spice                                        Predicted Rating :  3.5\n",
      "Madurai Cafe                                       Predicted Rating :  3.3\n",
      "Coastal Paradise Family Restaurant                 Predicted Rating :  3.1\n",
      "Shawarma Bite                                      Predicted Rating :  3.5\n",
      "The Grand Kitchen Restaurant                       Predicted Rating :  3.3\n",
      "New Shetty Lunch Bhavan                            Predicted Rating :  3.6\n",
      "Hotel Sekar                                        Predicted Rating :  3.5\n",
      "Malabar Kitchen                                    Predicted Rating :  3.4\n",
      "Lazzet Lee                                         Predicted Rating :  3.6\n",
      "The Chocolate Heaven                               Predicted Rating :  4.2\n",
      "X Cafe                                             Predicted Rating :  3.7\n",
      "Third Wave Coffee Roasters @ The Bohemian House    Predicted Rating :  4.1\n",
      "Ahmeds Takeaway Restaurant                         Predicted Rating :  3.3\n",
      "Sai Super Sandwich                                 Predicted Rating :  3.5\n",
      "Dindigul Thalappakatti                             Predicted Rating :  3.7\n",
      "Five Senses                                        Predicted Rating :  3.5\n",
      "Delisias                                           Predicted Rating :  3.5\n",
      "RR Real Taste Of Bengaluru                         Predicted Rating :  3.4\n",
      "RR Taste Of Bangalore                              Predicted Rating :  3.6\n",
      "Lassi Corner                                       Predicted Rating :  3.7\n",
      "Chinese Corner                                     Predicted Rating :  3.7\n",
      "Adithya Tiffin Centre                              Predicted Rating :  3.4\n",
      "FNP Cakes N More                                   Predicted Rating :  3.5\n",
      "Bhartiya Jalpan                                    Predicted Rating :  3.6\n",
      "Shiv Sagar                                         Predicted Rating :  3.4\n",
      "LocalHost                                          Predicted Rating :  3.4\n",
      "Shiv Sagar                                         Predicted Rating :  3.2\n",
      "Promac Foods                                       Predicted Rating :  3.6\n",
      "Bakers 77                                          Predicted Rating :  3.5\n",
      "By Chance                                          Predicted Rating :  4.1\n",
      "Hotel Gowda's                                      Predicted Rating :  3.4\n",
      "Kshathriya's Naati Junction                        Predicted Rating :  3.7\n",
      "Atte Maneya Oota                                   Predicted Rating :  3.4\n",
      "Cloud Foods                                        Predicted Rating :  3.5\n",
      "Vinus Foods                                        Predicted Rating :  3.7\n",
      "The Happy Vegetarian                               Predicted Rating :  3.5\n",
      "Mitraa Da Pizza                                    Predicted Rating :  3.7\n",
      "Raj Bhog                                           Predicted Rating :  3.6\n",
      "Kushi Meals                                        Predicted Rating :  3.2\n",
      "Swadh Biryani Tandoori Spot                        Predicted Rating :  3.4\n",
      "Vijayalakshmi Veg                                  Predicted Rating :  3.6\n",
      "Fnp Cakes 'N' More                                 Predicted Rating :  3.7\n",
      "Biryani Treat                                      Predicted Rating :  3.4\n",
      "Banashankari Biriyani                              Predicted Rating :  3.5\n",
      "RK Hotel                                           Predicted Rating :  3.4\n",
      "Kulfi Story                                        Predicted Rating :  3.5\n",
      "Lassi Point                                        Predicted Rating :  3.5\n",
      "Hangyo                                             Predicted Rating :  3.8\n",
      "The Frozen House                                   Predicted Rating :  3.7\n",
      "The Dessert Destination                            Predicted Rating :  3.7\n",
      "Hydrabad Biryani House                             Predicted Rating :  3.6\n",
      "Sri Sai Dosa Center                                Predicted Rating :  3.5\n",
      "Karnataka Biryani Point                            Predicted Rating :  3.5\n",
      "Dhanbad Food Stall                                 Predicted Rating :  3.5\n",
      "Charlie Fast Food & Restaurant                     Predicted Rating :  3.1\n",
      "Hunger Box                                         Predicted Rating :  3.2\n",
      "Tummy Wants Yummy                                  Predicted Rating :  3.4\n",
      "Cross Roads Inn                                    Predicted Rating :  3.7\n",
      "Sardar Tikka Singh                                 Predicted Rating :  3.5\n",
      "House Of Combos                                    Predicted Rating :  3.4\n",
      "The Rice Company                                   Predicted Rating :  3.3\n",
      "Spice Treat                                        Predicted Rating :  3.2\n",
      "La Ola                                             Predicted Rating :  3.4\n",
      "Minuit 12                                          Predicted Rating :  3.4\n",
      "Nirala's Home Kitchen                              Predicted Rating :  3.4\n",
      "Alankar Restaurant                                 Predicted Rating :  3.4\n",
      "Paratha Engineer                                   Predicted Rating :  3.5\n",
      "Bangalore Food Cafe                                Predicted Rating :  3.2\n",
      "Madhuban Restaurant                                Predicted Rating :  3.6\n",
      "New Pepper Pot                                     Predicted Rating :  3.5\n",
      "Sardaar Ka Chulla                                  Predicted Rating :  3.6\n",
      "Jagannath Delicacy                                 Predicted Rating :  3.7\n",
      "The Chai Stop                                      Predicted Rating :  3.5\n",
      "Canopus Multicuisine Restaurant                    Predicted Rating :  3.7\n",
      "Risalo Restaurant                                  Predicted Rating :  3.5\n",
      "Lenny's Burgers                                    Predicted Rating :  3.1\n",
      "Ice & Cream Creamery                               Predicted Rating :  3.7\n",
      "Rivayat                                            Predicted Rating :  3.3\n",
      "Tummy Singh                                        Predicted Rating :  3.5\n",
      "Balaji Hotel                                       Predicted Rating :  3.6\n",
      "The Delhiwala's Kitchen-Pure Veg                   Predicted Rating :  3.5\n",
      "Basmati's Briyani Nation                           Predicted Rating :  3.5\n",
      "Hungry Bird                                        Predicted Rating :  3.2\n",
      "Patra Snacks & Sweets                              Predicted Rating :  3.7\n",
      "Paavani Agencies                                   Predicted Rating :  3.5\n",
      "Ice Crystal Gola                                   Predicted Rating :  3.9\n",
      "Biriyani & Kabab Corner                            Predicted Rating :  3.4\n",
      "Art Of Flavours                                    Predicted Rating :  3.4\n",
      "Jordan Food Corner                                 Predicted Rating :  3.3\n",
      "Hotel NLC Grand                                    Predicted Rating :  3.4\n",
      "Cardamom Pods                                      Predicted Rating :  3.4\n",
      "New Juice It Up                                    Predicted Rating :  3.4\n",
      "Hot Biriyani Center                                Predicted Rating :  3.2\n",
      "Sri Sai Darshini Veg Restaurant                    Predicted Rating :  3.8\n",
      "Amrutha Foods                                      Predicted Rating :  3.4\n",
      "Parvas Biriyani Park                               Predicted Rating :  3.3\n",
      "The Chocolate Heaven                               Predicted Rating :  4.2\n",
      "Lazzet Lee                                         Predicted Rating :  3.6\n",
      "Third Wave Coffee Roasters @ The Bohemian House    Predicted Rating :  4.1\n",
      "The Twisted Desi                                   Predicted Rating :  3.9\n",
      "Dindigul Thalappakatti                             Predicted Rating :  3.7\n",
      "Promac Foods                                       Predicted Rating :  3.6\n",
      "Five Senses                                        Predicted Rating :  3.5\n",
      "Sai Super Sandwich                                 Predicted Rating :  3.5\n",
      "Happy Eats                                         Predicted Rating :  3.6\n",
      "Copacabana Pub                                     Predicted Rating :  4.0\n",
      "Delisias                                           Predicted Rating :  3.5\n",
      "Aishwarya Uphar                                    Predicted Rating :  3.4\n",
      "Homely Kitchen                                     Predicted Rating :  3.5\n",
      "Lassi Corner                                       Predicted Rating :  3.4\n",
      "Chinese Corner                                     Predicted Rating :  3.7\n",
      "Adithya Tiffin Centre                              Predicted Rating :  3.4\n",
      "Bhartiya Jalpan                                    Predicted Rating :  3.6\n",
      "Shiv Sagar                                         Predicted Rating :  3.4\n",
      "LocalHost                                          Predicted Rating :  3.4\n",
      "Shiv Sagar                                         Predicted Rating :  3.2\n",
      "Cravisthan                                         Predicted Rating :  3.5\n",
      "Bakers 77                                          Predicted Rating :  3.5\n",
      "By Chance                                          Predicted Rating :  4.1\n",
      "Kshathriya's Naati Junction                        Predicted Rating :  3.7\n",
      "Shiv Sagar                                         Predicted Rating :  3.4\n",
      "Cloud Foods                                        Predicted Rating :  3.5\n",
      "Q3 Food Corner                                     Predicted Rating :  3.6\n",
      "Munch Box                                          Predicted Rating :  3.3\n",
      "Sunmart Ice Cream Parlour                          Predicted Rating :  3.5\n",
      "Om Meals & Paratha Junction                        Predicted Rating :  3.4\n",
      "Lasagna                                            Predicted Rating :  3.5\n",
      "Terminus Tiffin Meal Service                       Predicted Rating :  3.4\n",
      "Hangyo                                             Predicted Rating :  3.8\n",
      "RS Shiv Sagar Express                              Predicted Rating :  3.6\n",
      "Dhanbad Food Stall                                 Predicted Rating :  3.5\n",
      "New Delhi Dharbaar                                 Predicted Rating :  3.7\n",
      "Sree Ayyappaa Foods                                Predicted Rating :  3.4\n",
      "Sunny's                                            Predicted Rating :  3.9\n",
      "Chaai Resto                                        Predicted Rating :  3.7\n",
      "Fog City Cafe                                      Predicted Rating :  3.8\n",
      "Eat Food                                           Predicted Rating :  3.5\n",
      "The Twisted Desi                                   Predicted Rating :  3.9\n",
      "Tiffinwala                                         Predicted Rating :  3.3\n",
      "Ice & Cream Creamery                               Predicted Rating :  3.7\n",
      "Nizam's Biryani House                              Predicted Rating :  3.5\n",
      "Breakstation                                       Predicted Rating :  3.4\n"
     ]
    },
    {
     "name": "stdout",
     "output_type": "stream",
     "text": [
      "Hotel Raravees                                     Predicted Rating :  3.4\n",
      "Desi Tadka Khana                                   Predicted Rating :  3.6\n",
      "Happy Eats                                         Predicted Rating :  3.6\n",
      "Bowls & Combos Co.                                 Predicted Rating :  3.7\n",
      "Sri Udupi Food Hub                                 Predicted Rating :  3.5\n",
      "Indish Flavour                                     Predicted Rating :  3.4\n",
      "Rich Bowl                                          Predicted Rating :  3.6\n",
      "Ciclo Life                                         Predicted Rating :  3.5\n",
      "Imli Express                                       Predicted Rating :  3.5\n",
      "Shiv Sagar                                         Predicted Rating :  3.3\n",
      "RAAT KI FOOD                                       Predicted Rating :  3.1\n",
      "Bangalore Express                                  Predicted Rating :  3.4\n",
      "CraveBelly Veg & Non veg                           Predicted Rating :  3.4\n",
      "Hungry Darjeeling Chinese and Thai                 Predicted Rating :  3.6\n",
      "Cravisthan                                         Predicted Rating :  3.5\n",
      "Bowl'd over Rice                                   Predicted Rating :  3.5\n",
      "Cake Dilim                                         Predicted Rating :  3.5\n",
      "Homey Bake & Juice                                 Predicted Rating :  3.5\n",
      "Ice Creamist                                       Predicted Rating :  3.6\n",
      "Chit Chat Cafe                                     Predicted Rating :  3.1\n",
      "Nagli Veg & Non Veg                                Predicted Rating :  3.4\n",
      "Hungry Darjeeling Chinese and Thai                 Predicted Rating :  3.6\n",
      "ONS Food                                           Predicted Rating :  3.4\n",
      "Sriracha Robata & Contemporary Pan Asian Dining    Predicted Rating :  3.8\n",
      "Hatti Kaapi                                        Predicted Rating :  3.8\n",
      "One Night In Bangkok                               Predicted Rating :  4.1\n",
      "Watson's                                           Predicted Rating :  4.0\n",
      "Inntense Restobar                                  Predicted Rating :  4.2\n",
      "The Good Bowl                                      Predicted Rating :  3.6\n",
      "Mitraa Da Pizza                                    Predicted Rating :  3.7\n",
      "The Happy Vegetarian                               Predicted Rating :  3.5\n",
      "Sree Banashankari Donne Biriyani                   Predicted Rating :  3.6\n",
      "Biryani Treat                                      Predicted Rating :  3.4\n",
      "Banashankari Biriyani                              Predicted Rating :  3.5\n",
      "Samruddhi - The Perfect Dine                       Predicted Rating :  3.3\n",
      "Vijayalakshmi Veg                                  Predicted Rating :  3.6\n",
      "Garden City Mobile Biryani                         Predicted Rating :  3.3\n",
      "Sapthagiri Non Veg                                 Predicted Rating :  3.2\n",
      "Hungry Folks Snacks Drinks                         Predicted Rating :  3.4\n",
      "Mayur Veg Restaurant                               Predicted Rating :  3.1\n",
      "Just Bake                                          Predicted Rating :  3.6\n",
      "Hangyo                                             Predicted Rating :  3.8\n",
      "X Cafe                                             Predicted Rating :  3.7\n",
      "Third Wave Coffee Roasters @ The Bohemian House    Predicted Rating :  4.1\n",
      "The Chocolate Heaven                               Predicted Rating :  4.2\n",
      "Dindigul Thalappakatti                             Predicted Rating :  3.7\n",
      "Five Senses                                        Predicted Rating :  3.5\n",
      "Promac Foods                                       Predicted Rating :  3.4\n",
      "Delisias                                           Predicted Rating :  3.5\n",
      "Hunger Lust                                        Predicted Rating :  3.4\n",
      "RR Real Taste Of Bengaluru                         Predicted Rating :  3.4\n",
      "Lassi Corner                                       Predicted Rating :  3.4\n",
      "Adithya Tiffin Centre                              Predicted Rating :  3.4\n",
      "Bhartiya Jalpan                                    Predicted Rating :  3.6\n",
      "Shiv Sagar                                         Predicted Rating :  3.4\n",
      "LocalHost                                          Predicted Rating :  3.5\n",
      "Shiv Sagar                                         Predicted Rating :  3.4\n",
      "Bakers 77                                          Predicted Rating :  3.5\n",
      "By Chance                                          Predicted Rating :  4.1\n",
      "Kshathriya's Naati Junction                        Predicted Rating :  3.7\n",
      "Al Manar                                           Predicted Rating :  3.2\n",
      "Cloud Foods                                        Predicted Rating :  3.5\n",
      "Madurai Cafe                                       Predicted Rating :  3.3\n",
      "Cafe Chaippu                                       Predicted Rating :  3.4\n",
      "Biggies Burger 'n' More                            Predicted Rating :  3.9\n",
      "On the Go Cafeteria                                Predicted Rating :  3.4\n",
      "Paradise                                           Predicted Rating :  3.4\n",
      "XO Belgian Waffle                                  Predicted Rating :  4.3\n",
      "Kitchen Boy                                        Predicted Rating :  3.4\n",
      "Tumbites                                           Predicted Rating :  3.5\n",
      "Foodbell                                           Predicted Rating :  3.2\n",
      "Five Senses                                        Predicted Rating :  3.4\n",
      "C R Mangalore Bakery                               Predicted Rating :  3.5\n",
      "Punjabi Paratha House                              Predicted Rating :  3.4\n",
      "Bathinda Junction                                  Predicted Rating :  3.6\n",
      "Harbour 4                                          Predicted Rating :  3.5\n",
      "North Met South                                    Predicted Rating :  4.0\n",
      "Andhra Spice                                       Predicted Rating :  3.6\n",
      "Madurai Veg Kitchen                                Predicted Rating :  3.6\n",
      "Waffle Stories                                     Predicted Rating :  4.0\n",
      "Kerala Tiffin                                      Predicted Rating :  3.5\n",
      "Sri Murali Krishna                                 Predicted Rating :  3.6\n",
      "Flavored With Love                                 Predicted Rating :  3.6\n",
      "Tasty Yum                                          Predicted Rating :  3.7\n",
      "Dunkin' Donuts                                     Predicted Rating :  3.8\n",
      "Ambur Star Dum Biryani                             Predicted Rating :  3.5\n",
      "Dosa Corner                                        Predicted Rating :  3.6\n",
      "Parrattha Ssinghh                                  Predicted Rating :  3.2\n",
      "Shree K Foods                                      Predicted Rating :  3.7\n",
      "The Paratha Studio                                 Predicted Rating :  3.5\n",
      "Deli Chats & Sweets                                Predicted Rating :  3.8\n",
      "Tata Cha                                           Predicted Rating :  3.7\n",
      "Potful                                             Predicted Rating :  3.9\n",
      "Food Singh                                         Predicted Rating :  3.3\n",
      "Lenny's Burgers                                    Predicted Rating :  3.1\n",
      "The Milkshake Theory                               Predicted Rating :  3.6\n",
      "Grilliez                                           Predicted Rating :  3.6\n",
      "The Chefs Specials                                 Predicted Rating :  3.4\n",
      "BelgYum                                            Predicted Rating :  4.1\n",
      "Dhadoom                                            Predicted Rating :  3.7\n",
      "Risalo Restaurant                                  Predicted Rating :  3.5\n",
      "Eat And Be Fit                                     Predicted Rating :  3.6\n",
      "Temptation                                         Predicted Rating :  3.6\n",
      "Chefie                                             Predicted Rating :  3.5\n",
      "Picnik                                             Predicted Rating :  3.7\n",
      "Tasty Food                                         Predicted Rating :  3.5\n",
      "On The Go                                          Predicted Rating :  3.5\n",
      "PR Kitchen                                         Predicted Rating :  3.4\n",
      "The Parrot House                                   Predicted Rating :  3.5\n",
      "Wow Tiffin Food                                    Predicted Rating :  3.5\n",
      "The Rice Company                                   Predicted Rating :  3.3\n",
      "La-Pizza                                           Predicted Rating :  3.7\n",
      "Chinese Food Point                                 Predicted Rating :  3.7\n",
      "Paratha Mania                                      Predicted Rating :  3.3\n",
      "Choice of Food                                     Predicted Rating :  3.6\n",
      "Shiv sagar                                         Predicted Rating :  3.5\n",
      "Nawab Di Biryani                                   Predicted Rating :  3.4\n",
      "LocalHost                                          Predicted Rating :  3.5\n",
      "Ind Foodies                                        Predicted Rating :  3.3\n",
      "Shakes365                                          Predicted Rating :  3.7\n",
      "Baskin Robbins                                     Predicted Rating :  3.8\n",
      "Magic scoops N Smiles                              Predicted Rating :  3.8\n",
      "Raj Sweets                                         Predicted Rating :  3.5\n",
      "Amadora Gourmet Ice Cream & Sorbet                 Predicted Rating :  3.8\n",
      "Punjab Beat                                        Predicted Rating :  3.9\n",
      "On The Go                                          Predicted Rating :  3.4\n",
      "Quick Bites                                        Predicted Rating :  3.6\n",
      "Nawab Di Biryani                                   Predicted Rating :  3.5\n",
      "Bong Connections                                   Predicted Rating :  3.3\n"
     ]
    }
   ],
   "source": [
    "for name,rating in zip(names,r):\n",
    "    print(name.ljust(50), \"Predicted Rating : \",round(rating,1))"
   ]
  },
  {
   "cell_type": "code",
   "execution_count": null,
   "metadata": {},
   "outputs": [],
   "source": []
  }
 ],
 "metadata": {
  "kernelspec": {
   "display_name": "Python 3",
   "language": "python",
   "name": "python3"
  },
  "language_info": {
   "codemirror_mode": {
    "name": "ipython",
    "version": 3
   },
   "file_extension": ".py",
   "mimetype": "text/x-python",
   "name": "python",
   "nbconvert_exporter": "python",
   "pygments_lexer": "ipython3",
   "version": "3.7.4"
  }
 },
 "nbformat": 4,
 "nbformat_minor": 4
}
